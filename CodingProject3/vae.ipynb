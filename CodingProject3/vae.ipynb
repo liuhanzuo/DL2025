{
 "cells": [
  {
   "cell_type": "markdown",
   "id": "b7f85217",
   "metadata": {},
   "source": [
    "---"
   ]
  },
  {
   "cell_type": "markdown",
   "id": "718d6fe6",
   "metadata": {
    "deletable": false,
    "editable": false,
    "id": "718d6fe6",
    "nbgrader": {
     "cell_type": "markdown",
     "checksum": "446149856adbb3ece6e96de86783aab4",
     "grade": false,
     "grade_id": "cell-9c430af5d8d383e0",
     "locked": true,
     "schema_version": 3,
     "solution": false,
     "task": false
    }
   },
   "source": [
    "## Deep Learning Coding Project 3-3: Variational Auto-Encoder\n",
    "\n",
    "Before we start, please put your **Chinese** name and student ID in following format:\n",
    "\n",
    "Name, 0000000000 // e.g.) 小明, 2021123123"
   ]
  },
  {
   "cell_type": "markdown",
   "id": "e85b760d",
   "metadata": {
    "deletable": false,
    "id": "e85b760d",
    "nbgrader": {
     "cell_type": "markdown",
     "checksum": "e30c80977fd0505d51c0f3fff9f44141",
     "grade": true,
     "grade_id": "name-and-id",
     "locked": false,
     "points": 0,
     "schema_version": 3,
     "solution": true,
     "task": false
    }
   },
   "source": [
    "YOUR ANSWER HERE"
   ]
  },
  {
   "cell_type": "markdown",
   "id": "ef99bd7a",
   "metadata": {
    "deletable": false,
    "editable": false,
    "id": "ef99bd7a",
    "nbgrader": {
     "cell_type": "markdown",
     "checksum": "eabcdcf4dd697196edd6e98545dfd779",
     "grade": false,
     "grade_id": "cell-140b078480df53e1",
     "locked": true,
     "schema_version": 3,
     "solution": false,
     "task": false
    }
   },
   "source": [
    "## Introduction\n",
    "\n",
    "We will use Python 3, [NumPy](https://numpy.org/), and [PyTorch](https://pytorch.org/) packages for implementation. To avoid unexpected issues with PyTorch 2.0, we recommend using PyTorch version 1.x.\n",
    "\n",
    "In this coding project, you will implement 2 generative models, i.e., energy-based model, (variational auto-encoder / generative adverserial network), to generate MNIST images.\n",
    "\n",
    "**We will implement a conditional variational auto-encoder (CVAE) in this notebook.**"
   ]
  },
  {
   "cell_type": "markdown",
   "id": "455cd281",
   "metadata": {
    "deletable": false,
    "editable": false,
    "id": "455cd281",
    "nbgrader": {
     "cell_type": "markdown",
     "checksum": "120d6358fec9f6418d1267d01a2ae32b",
     "grade": false,
     "grade_id": "cell-ffacdab926dcdef6",
     "locked": true,
     "schema_version": 3,
     "solution": false,
     "task": false
    }
   },
   "source": [
    "In some cells and files you will see code blocks that look like this:\n",
    "\n",
    "```Python\n",
    "##############################################################################\n",
    "#                  TODO: You need to complete the code here                  #\n",
    "##############################################################################\n",
    "raise NotImplementedError()\n",
    "##############################################################################\n",
    "#                              END OF YOUR CODE                              #\n",
    "##############################################################################\n",
    "```\n",
    "\n",
    "You should replace `raise NotImplementedError()` with your own implementation based on the context, such as:\n",
    "\n",
    "```Python\n",
    "##############################################################################\n",
    "#                  TODO: You need to complete the code here                  #\n",
    "##############################################################################\n",
    "y = w * x + b\n",
    "##############################################################################\n",
    "#                              END OF YOUR CODE                              #\n",
    "##############################################################################\n",
    "\n",
    "```\n",
    "\n",
    "When completing the notebook, please adhere to the following rules:\n",
    "\n",
    "+ Unless otherwise stated, do not write or modify any code outside of code blocks\n",
    "+ Do not add or delete any cells from the notebook.\n",
    "+ Run all cells before submission. We will not re-run the entire codebook during grading.\n",
    "\n",
    "**Finally, avoid plagiarism! Any student who violates academic integrity will be seriously dealt with and receive an F for the course.**"
   ]
  },
  {
   "cell_type": "markdown",
   "id": "17c3bbf1",
   "metadata": {
    "deletable": false,
    "editable": false,
    "id": "17c3bbf1",
    "nbgrader": {
     "cell_type": "markdown",
     "checksum": "e0685e20987f9acc7f9a794e07e282d5",
     "grade": false,
     "grade_id": "cell-599bd6afccb34d60",
     "locked": true,
     "schema_version": 3,
     "solution": false,
     "task": false
    }
   },
   "source": [
    "### Task\n",
    "\n",
    "In this problem, you need to implement a class conditioned variational autoencoder to generate MNIST images. We suppose the prior $p(z)$ is a\n",
    "standard Gaussian distribution $\\mathcal{N} (0, I)$. Also, we assume $q(z|x, y)$ and $p(x|z, y)$\n",
    "are Gaussian distributions.\n",
    "\n",
    "1. **You need to complete the encoder $q(z|x, y; \\phi)$ and the decoder $p(x|z, y; \\theta)$, which are both MLPs**.\n",
    "\n",
    "2. **Implement the VAE loss function.**\n",
    "\n",
    "An example of generated images using CVAE is shown below."
   ]
  },
  {
   "cell_type": "markdown",
   "id": "S_3-OFIyBZgq",
   "metadata": {
    "id": "S_3-OFIyBZgq"
   },
   "source": [
    "If you use Colab in this coding project, please uncomment the cell below, change the `GOOGLE_DRIVE_PATH` to your project folder and run the following cell to mount your Google drive. Then, the notebook can find the required files (i.e., utils.py). If you run the notebook locally, you can skip this cell."
   ]
  },
  {
   "cell_type": "code",
   "execution_count": 1,
   "id": "gh9divsXBYlD",
   "metadata": {
    "id": "gh9divsXBYlD"
   },
   "outputs": [],
   "source": [
    "# ### uncomment this cell if you're using Google colab\n",
    "# from google.colab import drive\n",
    "# drive.mount('/content/drive')\n",
    "\n",
    "# ### change GOOGLE_DRIVE_PATH to the path of your CP3 folder\n",
    "# GOOGLE_DRIVE_PATH = '/content/drive/MyDrive/Colab Notebooks/DL23SP/CP3'\n",
    "# %cd $GOOGLE_DRIVE_PATH"
   ]
  },
  {
   "cell_type": "code",
   "execution_count": 2,
   "id": "646d3387",
   "metadata": {
    "deletable": false,
    "editable": false,
    "id": "646d3387",
    "nbgrader": {
     "cell_type": "code",
     "checksum": "1e9dfeecf134f0d6e60fabbca6650f6e",
     "grade": false,
     "grade_id": "cell-afeaf2ba2853c58b",
     "locked": true,
     "schema_version": 3,
     "solution": false,
     "task": false
    }
   },
   "outputs": [
    {
     "data": {
      "text/plain": [
       "<matplotlib.image.AxesImage at 0x7fe5b6a855e0>"
      ]
     },
     "execution_count": 2,
     "metadata": {},
     "output_type": "execute_result"
    },
    {
     "data": {
      "image/png": "[encoded data removed]",
      "text/plain": [
       "<Figure size 600x400 with 1 Axes>"
      ]
     },
     "metadata": {},
     "output_type": "display_data"
    }
   ],
   "source": [
    "import matplotlib.pyplot as plt\n",
    "import matplotlib.image as mpimg\n",
    "from matplotlib import rcParams\n",
    "\n",
    "%matplotlib inline\n",
    "\n",
    "# figure size in inches optional\n",
    "rcParams['figure.figsize'] = 6, 4\n",
    "plt.imshow(mpimg.imread('./vae/sample.png'))"
   ]
  },
  {
   "cell_type": "markdown",
   "id": "aaa645f3",
   "metadata": {
    "deletable": false,
    "editable": false,
    "id": "aaa645f3",
    "nbgrader": {
     "cell_type": "markdown",
     "checksum": "d90bf06b13439ffe089d56f4c9cf0e84",
     "grade": false,
     "grade_id": "cell-53585dd2f2b21500",
     "locked": true,
     "schema_version": 3,
     "solution": false,
     "task": false
    }
   },
   "source": [
    "### Submission\n",
    "\n",
    "You need to submit your code (this notebook), your trained VAE model (named `./vae/vae_best.pth`), your generated images, and your report:\n",
    "\n",
    "+ **Code**\n",
    "\n",
    "Remember to run all the cells before submission. Remain your tuned hyperparameters unchanged.\n",
    "\n",
    "+ **Generator**\n",
    "\n",
    "In this notebook, we select the best model based on validation loss. You can also manually select the best one, and save it as `./vae/vae_best.pth`. **Please do not submit any other checkpoints except for `./vae/vae_best.pth`!**\n",
    "\n",
    "+ **Generated Images**\n",
    "\n",
    "Please generate 100 images for each class (1000 in total), save it in `./vae/generated/`, and organize them as the following structure:\n",
    "\n",
    "```\n",
    "CodingProject3\n",
    "├── ...\n",
    "├── vae\n",
    "│   ├── vae_best.pth\n",
    "│   ├── generated\n",
    "│       └── 0\n",
    "│           ├── 0_00.png\n",
    "│           ├── ...\n",
    "│           ├── 0_99.png\n",
    "│       └── 1\n",
    "│           ├── 1_00.png\n",
    "│           ├── ...\n",
    "│           ├── 1_99.png\n",
    "│       └── ...\n",
    "│       └── 9\n",
    "│           ├── 9_00.png\n",
    "│           ├── ...\n",
    "│           ├── 9_99.png\n",
    "```\n",
    "\n",
    "Specifially, you should name the $j$-th generated image of class $i$ as `{i}_{j}.png`, and save it into folder `./vae/generated/{i}/`. Check the `make_dataset` method of VAE model for details.\n",
    "\n",
    "+ **Report**\n",
    "\n",
    "Please include the conditioned generation results (i.e., generated images in a $10\\times 10$ array as above), the FID score, the standard deviation for each class, and other relevant statistics in your\n",
    "report. Note that you only need to write a single report for this coding project."
   ]
  },
  {
   "cell_type": "markdown",
   "id": "7290dae4",
   "metadata": {
    "deletable": false,
    "editable": false,
    "id": "7290dae4",
    "nbgrader": {
     "cell_type": "markdown",
     "checksum": "01bd32341d1178eb0d90ee848af6421e",
     "grade": false,
     "grade_id": "cell-3171a074e3f52bd5",
     "locked": true,
     "schema_version": 3,
     "solution": false,
     "task": false
    }
   },
   "source": [
    "### Grading\n",
    "\n",
    "We will evaluate your model by **computing the [FID score](https://en.wikipedia.org/wiki/Fr%C3%A9chet_inception_distance)**. We have provided a fine-tuned Inception-V3 model, which will be used by our evaluation script to compute FID score."
   ]
  },
  {
   "cell_type": "markdown",
   "id": "dd040c70",
   "metadata": {
    "deletable": false,
    "editable": false,
    "id": "dd040c70",
    "nbgrader": {
     "cell_type": "markdown",
     "checksum": "54854fcdc1556d353b55bc4d1a133674",
     "grade": false,
     "grade_id": "cell-2b4bea3e44a7b81b",
     "locked": true,
     "schema_version": 3,
     "solution": false,
     "task": false
    }
   },
   "source": [
    "## Set Up Code"
   ]
  },
  {
   "cell_type": "markdown",
   "id": "4eca3738",
   "metadata": {
    "deletable": false,
    "editable": false,
    "id": "4eca3738",
    "nbgrader": {
     "cell_type": "markdown",
     "checksum": "8a46538ad10bf1933513126de21b52de",
     "grade": false,
     "grade_id": "cell-291232b1c59e4f02",
     "locked": true,
     "schema_version": 3,
     "solution": false,
     "task": false
    }
   },
   "source": [
    "If you use Colab in this coding project, please make sure to mount your drive before running the cells below."
   ]
  },
  {
   "cell_type": "code",
   "execution_count": 3,
   "id": "d8c2354b",
   "metadata": {
    "deletable": false,
    "editable": false,
    "id": "d8c2354b",
    "nbgrader": {
     "cell_type": "code",
     "checksum": "b34bc8b23f9c8e480a9671ef3453e7ac",
     "grade": false,
     "grade_id": "cell-a551fcc5ff27fb87",
     "locked": true,
     "schema_version": 3,
     "solution": false,
     "task": false
    }
   },
   "outputs": [],
   "source": [
    "%load_ext autoreload\n",
    "%autoreload 2"
   ]
  },
  {
   "cell_type": "code",
   "execution_count": 4,
   "id": "f6cd2080",
   "metadata": {
    "deletable": false,
    "editable": false,
    "id": "f6cd2080",
    "nbgrader": {
     "cell_type": "code",
     "checksum": "0d5d6f96e1d7ce5df1315172b57173de",
     "grade": false,
     "grade_id": "cell-e11eaf041d72deda",
     "locked": true,
     "schema_version": 3,
     "solution": false,
     "task": false
    }
   },
   "outputs": [
    {
     "name": "stdout",
     "output_type": "stream",
     "text": [
      "Good luck!\n"
     ]
    }
   ],
   "source": [
    "from utils import hello\n",
    "hello()"
   ]
  },
  {
   "cell_type": "markdown",
   "id": "cb9634e8",
   "metadata": {
    "deletable": false,
    "editable": false,
    "id": "cb9634e8",
    "nbgrader": {
     "cell_type": "markdown",
     "checksum": "51e49fe39dad00834a151f8221d720ef",
     "grade": false,
     "grade_id": "cell-fe84c884133acb94",
     "locked": true,
     "schema_version": 3,
     "solution": false,
     "task": false
    }
   },
   "source": [
    "Please run the following cell to import some base classes for implementation (no matter whether you use colab)."
   ]
  },
  {
   "cell_type": "code",
   "execution_count": 5,
   "id": "cfad252c",
   "metadata": {
    "deletable": false,
    "editable": false,
    "id": "cfad252c",
    "nbgrader": {
     "cell_type": "code",
     "checksum": "737513904296b1d617836074f8053012",
     "grade": false,
     "grade_id": "cell-1fd41093ae57ce74",
     "locked": true,
     "schema_version": 3,
     "solution": false,
     "task": false
    }
   },
   "outputs": [
    {
     "name": "stderr",
     "output_type": "stream",
     "text": [
      "/tmp/ipykernel_1612406/2392988082.py:3: TqdmWarning: IProgress not found. Please update jupyter and ipywidgets. See https://ipywidgets.readthedocs.io/en/stable/user_install.html\n",
      "  from tqdm.autonotebook import tqdm\n"
     ]
    }
   ],
   "source": [
    "from collections import deque\n",
    "from torch.utils.data import DataLoader\n",
    "from tqdm.autonotebook import tqdm\n",
    "\n",
    "import numpy as np\n",
    "import os\n",
    "import time\n",
    "import torch\n",
    "import torch.nn as nn\n",
    "import torch.nn.functional as F\n",
    "import torchvision\n",
    "\n",
    "from utils import save_model, load_model, train_set, val_set\n",
    "# os.environ['CUDA_VISIBLE_DEVICES'] = \"0\"\n",
    "seed = 42\n",
    "np.random.seed(seed)\n",
    "torch.manual_seed(seed)\n",
    "torch.cuda.manual_seed(seed)\n",
    "torch.backends.cudnn.deterministic = True\n",
    "\n",
    "device = torch.device(\n",
    "    \"cuda\") if torch.cuda.is_available() else torch.device(\"cpu\")"
   ]
  },
  {
   "cell_type": "markdown",
   "id": "973e8344",
   "metadata": {
    "deletable": false,
    "editable": false,
    "id": "973e8344",
    "nbgrader": {
     "cell_type": "markdown",
     "checksum": "e41ac5a8880d05ee46863dd2b4c6e61a",
     "grade": false,
     "grade_id": "cell-90c7dca35f25c7fa",
     "locked": true,
     "schema_version": 3,
     "solution": false,
     "task": false
    }
   },
   "source": [
    "## VAE Model\n",
    "\n",
    "Complete the conditional VAE model with structure shown in doc strings.\n",
    "\n",
    "**Hint**: we usually output logarithm standard deviation."
   ]
  },
  {
   "cell_type": "code",
   "execution_count": 6,
   "id": "a4f8e820",
   "metadata": {
    "deletable": false,
    "id": "a4f8e820",
    "nbgrader": {
     "cell_type": "code",
     "checksum": "447c2a16f2258778ef4fb4dfed6ea2a4",
     "grade": false,
     "grade_id": "cell-ac7b8111ec3c40f1",
     "locked": false,
     "schema_version": 3,
     "solution": true,
     "task": false
    }
   },
   "outputs": [],
   "source": [
    "class CVAE(nn.Module):\n",
    "    def __init__(self, img_size, label_size, latent_size, hidden_size):\n",
    "        super(CVAE, self).__init__()\n",
    "        self.img_size = img_size  # (C, H, W)\n",
    "        self.label_size = label_size\n",
    "        self.latent_size = latent_size\n",
    "        self.hidden_size = hidden_size\n",
    "        \n",
    "        # Encoder.\n",
    "        '''\n",
    "        img   -> fc  ->                   -> fc -> mean    \n",
    "                        concat -> encoder                  -> z\n",
    "        label -> fc  ->                   -> fc -> logstd \n",
    "        '''\n",
    "        ##############################################################################\n",
    "        #                  TODO: You need to complete the code here                  #\n",
    "        ##############################################################################\n",
    "        # YOUR CODE HERE\n",
    "        flatten_img_size = img_size[0] * img_size[1] * img_size[2]\n",
    "        self.fc_img = nn.Sequential(\n",
    "            nn.Flatten(),\n",
    "            nn.Linear(flatten_img_size, hidden_size),\n",
    "            nn.SiLU(),\n",
    "            nn.Linear(hidden_size, 2*hidden_size),\n",
    "            nn.SiLU(),\n",
    "        )\n",
    "        self.fc_label = nn.Sequential(\n",
    "            nn.Linear(label_size, hidden_size),\n",
    "            nn.SiLU(),\n",
    "            nn.Linear(hidden_size, 2*hidden_size),\n",
    "            nn.SiLU(),\n",
    "        )\n",
    "        self.fc_mu = nn.Sequential(\n",
    "            nn.Linear(4 * hidden_size, 4*hidden_size),\n",
    "            nn.SiLU(),\n",
    "            nn.Linear(4*hidden_size, 2* hidden_size),\n",
    "            nn.SiLU(),\n",
    "            nn.Linear(2*hidden_size, hidden_size),\n",
    "            nn.SiLU(),\n",
    "            nn.Linear(hidden_size, latent_size)            \n",
    "        )\n",
    "        self.f_sigma = nn.Sequential(\n",
    "            nn.Linear(4 * hidden_size, 4*hidden_size),\n",
    "            nn.SiLU(),\n",
    "            nn.Linear(4*hidden_size, 8* hidden_size),\n",
    "            nn.SiLU(),\n",
    "            nn.Linear(8*hidden_size, 4*hidden_size),\n",
    "            nn.SiLU(),\n",
    "            nn.Linear(4*hidden_size, 2* hidden_size),\n",
    "            nn.SiLU(),\n",
    "            nn.Linear(2*hidden_size, hidden_size),\n",
    "            nn.SiLU(),\n",
    "            nn.Linear(hidden_size, latent_size)\n",
    "        )\n",
    "        ##############################################################################\n",
    "        #                              END OF YOUR CODE                              #\n",
    "        ##############################################################################\n",
    "        \n",
    "        # Decoder.\n",
    "        '''\n",
    "        latent -> fc ->\n",
    "                         concat -> decoder -> reconstruction\n",
    "        label  -> fc ->\n",
    "        '''\n",
    "        ##############################################################################\n",
    "        #                  TODO: You need to complete the code here                  #\n",
    "        ##############################################################################\n",
    "        # YOUR CODE HERE\n",
    "        self.latent_fc_decoder = nn.Sequential(\n",
    "            nn.Linear(latent_size, hidden_size),\n",
    "            nn.SiLU(),\n",
    "            nn.Linear(hidden_size, 2*hidden_size),\n",
    "            nn.SiLU()\n",
    "        )\n",
    "        self.fc_label_decoder = nn.Sequential(\n",
    "            nn.Linear(label_size, hidden_size),\n",
    "            nn.SiLU(),\n",
    "            nn.Linear(hidden_size, 2*hidden_size),\n",
    "            nn.SiLU()\n",
    "        )\n",
    "        self.xij = nn.Sequential(\n",
    "            nn.Linear(4 * hidden_size, 4*hidden_size),\n",
    "            nn.SiLU(),\n",
    "            nn.Linear(4 * hidden_size, 8*hidden_size),\n",
    "            nn.SiLU(),\n",
    "            nn.Linear(8*hidden_size, 4*hidden_size),\n",
    "            nn.SiLU(),\n",
    "            nn.Linear(4*hidden_size, 2* hidden_size),\n",
    "            nn.SiLU(),\n",
    "            nn.Linear(2*hidden_size, hidden_size),\n",
    "            nn.SiLU(),\n",
    "            nn.Linear(hidden_size, flatten_img_size),\n",
    "        )\n",
    "        ##############################################################################\n",
    "        #                              END OF YOUR CODE                              #\n",
    "        ##############################################################################\n",
    "\n",
    "    def encode_param(self, x, y):\n",
    "        # compute mu and logstd of p(z|x, y)\n",
    "        ##############################################################################\n",
    "        #                  TODO: You need to complete the code here                  #\n",
    "        ##############################################################################\n",
    "        # YOUR CODE HERE\n",
    "        # print(x.shape)\n",
    "        # print(y.shape)\n",
    "        # print(self.fc_img(x).shape)\n",
    "        # print(self.fc_label(y).shape)\n",
    "        y = F.one_hot(y,num_classes=10).to(torch.float32)\n",
    "        cat_result = torch.cat([self.fc_img(x), self.fc_label(y)], dim=1)\n",
    "        mu = self.fc_mu(cat_result)\n",
    "        sigma = self.f_sigma(cat_result)\n",
    "        return mu, sigma\n",
    "        ##############################################################################\n",
    "        #                              END OF YOUR CODE                              #\n",
    "        ##############################################################################\n",
    "\n",
    "    def reparamaterize(self, mu: torch.Tensor, logstd: torch.Tensor):\n",
    "        # compute latent z with reparameterization trick\n",
    "        ##############################################################################\n",
    "        #                  TODO: You need to complete the code here                  #\n",
    "        ##############################################################################\n",
    "        # YOUR CODE HERE\n",
    "        # raise NotImplementedError()\n",
    "        z = mu + torch.exp(logstd) * torch.randn_like(logstd)\n",
    "        return z\n",
    "        ##############################################################################\n",
    "        #                              END OF YOUR CODE                              #\n",
    "        ##############################################################################\n",
    "\n",
    "    def encode(self, x, y):\n",
    "        # sample latent z from p(z|x, y)\n",
    "        ##############################################################################\n",
    "        #                  TODO: You need to complete the code here                  #\n",
    "        ##############################################################################\n",
    "        # YOUR CODE HERE\n",
    "        mu, sigma = self.encode_param(x, y)\n",
    "        z = self.reparamaterize(mu, sigma)\n",
    "        return z, mu, sigma\n",
    "        ##############################################################################\n",
    "        #                              END OF YOUR CODE                              #\n",
    "        ##############################################################################\n",
    "\n",
    "    def decode(self, z, y):\n",
    "        ##############################################################################\n",
    "        #                  TODO: You need to complete the code here                  #\n",
    "        ##############################################################################\n",
    "        # YOUR CODE HERE\n",
    "        # print(z.shape)\n",
    "        # print(y.shape)\n",
    "        if not torch.is_floating_point(y):\n",
    "            y = F.one_hot(y,num_classes=10).to(torch.float32)\n",
    "        cat_result = torch.cat([self.latent_fc_decoder(z), self.fc_label_decoder(y)], dim=1)\n",
    "        xij = self.xij(cat_result)\n",
    "        ones = torch.ones_like(xij)\n",
    "        return self.reparamaterize(xij, ones)\n",
    "        ##############################################################################\n",
    "        #                              END OF YOUR CODE                              #\n",
    "        ##############################################################################\n",
    "\n",
    "    @torch.no_grad()\n",
    "    def sample_images(self, label, save=True, save_dir='./vae'):\n",
    "        self.eval()\n",
    "        n_samples = label.shape[0]\n",
    "        samples  = self.decode(torch.randn(n_samples, self.latent_size).to(label.device), label)\n",
    "        imgs = samples.view(n_samples, 1, 28, 28).clamp(0., 1.)\n",
    "        if save:\n",
    "            os.makedirs(save_dir, exist_ok=True)\n",
    "            torchvision.utils.save_image(imgs, os.path.join(save_dir, 'sample.png'), nrow=int(np.sqrt(n_samples)))\n",
    "        return imgs\n",
    "    \n",
    "    @torch.no_grad()\n",
    "    def make_dataset(self, n_samples_per_class=10, save=True, save_dir='./vae/generated/'):\n",
    "        self.eval()\n",
    "        device = next(self.parameters()).device\n",
    "        for i in range(self.label_size):\n",
    "            label = torch.zeros(n_samples_per_class, self.label_size, device=device)\n",
    "            label[:, i] = 1\n",
    "            samples = self.decode(torch.randn(\n",
    "                n_samples_per_class, self.latent_size).to(device), label)\n",
    "            imgs = samples.view(n_samples_per_class, 1, 28, 28).clamp(0., 1.)\n",
    "            if save:\n",
    "                os.makedirs(os.path.join(save_dir, str(i)), exist_ok=True)\n",
    "                for j in range(n_samples_per_class):\n",
    "                    torchvision.utils.save_image(imgs[j], os.path.join(save_dir, str(i), \"{}_{:>03d}.png\".format(i, j)))\n"
   ]
  },
  {
   "cell_type": "markdown",
   "id": "9806dfb4",
   "metadata": {
    "deletable": false,
    "editable": false,
    "id": "9806dfb4",
    "nbgrader": {
     "cell_type": "markdown",
     "checksum": "59258bed89bac2ba13c2f27ebcfc60f7",
     "grade": false,
     "grade_id": "cell-bff0aa54c09237bc",
     "locked": true,
     "schema_version": 3,
     "solution": false,
     "task": false
    }
   },
   "source": [
    "## VAE Loss\n",
    "\n",
    "Given image $x$ and corresponding label $y$, compute the VAE loss in the following function.\n",
    "\n",
    "**Hint**: $p(x|z, y)$ is a real-valued Gaussian distribution, while images are in range $[0, 1]$. Therefore, you may want to transform $x$ when computing $p(x|z, y)$."
   ]
  },
  {
   "cell_type": "code",
   "execution_count": 7,
   "id": "207ba01a",
   "metadata": {
    "deletable": false,
    "id": "207ba01a",
    "nbgrader": {
     "cell_type": "code",
     "checksum": "08f2d7d9aef79e56361662c6740977da",
     "grade": false,
     "grade_id": "cell-cde6ea3519fbcd6e",
     "locked": false,
     "schema_version": 3,
     "solution": true,
     "task": false
    }
   },
   "outputs": [],
   "source": [
    "def compute_vae_loss(vae_model:CVAE, x, y, beta=1):\n",
    "    # compute vae loss for input x and label y\n",
    "    ##############################################################################\n",
    "    #                  TODO: You need to complete the code here                  #\n",
    "    ##############################################################################\n",
    "    # YOUR CODE HERE\n",
    "    x = torch.logit(x)\n",
    "    \n",
    "    mu,sigma = vae_model.encode_param(x,y)\n",
    "    eps = torch.randn_like(mu)\n",
    "    z = mu + eps*torch.exp(sigma)\n",
    "    f = vae_model.xij(torch.cat((vae_model.latent_fc_decoder(z),vae_model.fc_label_decoder(F.one_hot(y,num_classes=10).to(torch.float32))),dim=1))\n",
    "    # print(f.shape)\n",
    "    # print(x.shape)\n",
    "    reconstruction_loss = -0.5 * (torch.norm(f-x)**2) \n",
    "    kl_penalty = 0.5*(torch.sum(torch.exp(2*sigma))+torch.norm(mu)**2-2*torch.sum(sigma))\n",
    "\n",
    "    return  - reconstruction_loss + beta * kl_penalty # approx to reconstruction_loss\n",
    "    ##############################################################################\n",
    "    #                              END OF YOUR CODE                              #\n",
    "    ##############################################################################"
   ]
  },
  {
   "cell_type": "markdown",
   "id": "a48e81e1",
   "metadata": {
    "id": "a48e81e1"
   },
   "source": [
    "## Training & Evaluation\n",
    "\n",
    "We have implemented the training and evaluation functions. Feel free to modify `train` if you want to monitoring more information. Make sure your best model is stored in `'./vae/vae_best.pth'`."
   ]
  },
  {
   "cell_type": "code",
   "execution_count": 8,
   "id": "0ca14731",
   "metadata": {
    "deletable": false,
    "editable": false,
    "id": "0ca14731",
    "nbgrader": {
     "cell_type": "code",
     "checksum": "3dd49cb59b62e08e8b074e6d62eaacbb",
     "grade": false,
     "grade_id": "cell-de07c12138584171",
     "locked": true,
     "schema_version": 3,
     "solution": false,
     "task": false
    }
   },
   "outputs": [],
   "source": [
    "@torch.no_grad()\n",
    "def evaluate(vae_model, loader, device, beta):\n",
    "    vae_model.eval()\n",
    "    val_loss = 0\n",
    "    n_batches = 0\n",
    "\n",
    "    pbar = tqdm(total=len(loader.dataset))\n",
    "    pbar.set_description('Eval')\n",
    "    for batch_idx, (x, y) in enumerate(loader):\n",
    "        n_batches += x.shape[0]\n",
    "        x = x.view(x.shape[0], -1).to(device)\n",
    "        y = y.to(device)\n",
    "\n",
    "        val_loss += compute_vae_loss(vae_model, x, y, beta).sum().item()\n",
    "        pbar.update(x.size(0))\n",
    "        pbar.set_description('Val Loss: {:.6f}'.format(val_loss / n_batches))\n",
    "\n",
    "    pbar.close()\n",
    "    return val_loss / n_batches"
   ]
  },
  {
   "cell_type": "code",
   "execution_count": 9,
   "id": "86f7857a",
   "metadata": {
    "id": "86f7857a"
   },
   "outputs": [],
   "source": [
    "def train(n_epochs, vae_model, train_loader, val_loader, optimizer, scheduler, beta=1, device=torch.device('cuda'), save_interval=10, now_epoch=0):\n",
    "    vae_model.to(device)\n",
    "    best_val_loss = np.inf\n",
    "    ibar = tqdm(range(n_epochs))\n",
    "    for epoch in range(n_epochs):\n",
    "        train_loss = 0\n",
    "        n_batches = 0\n",
    "        pbar = tqdm(total=len(train_loader.dataset))\n",
    "        for i, (x, y) in enumerate(train_loader):\n",
    "            # compute loss\n",
    "            vae_model.train()\n",
    "            n_batches += x.shape[0]\n",
    "            x = x.view(x.shape[0], -1).to(device)\n",
    "            y = y.to(device)\n",
    "            loss = compute_vae_loss(vae_model, x, y, beta)\n",
    "\n",
    "            optimizer.zero_grad()\n",
    "            loss.mean().backward()\n",
    "            optimizer.step()\n",
    "\n",
    "            train_loss += loss.sum().item()\n",
    "\n",
    "            pbar.update(x.size(0))\n",
    "            pbar.set_description('Train Epoch {}, Train Loss: {:.6f}, Learning Rate {}'.format(epoch + 1, train_loss / n_batches, optimizer.param_groups[0]['lr']))\n",
    "        pbar.close()\n",
    "        if scheduler is not None:\n",
    "            scheduler.step()\n",
    "\n",
    "        if (epoch + 1) % save_interval == 0:\n",
    "            os.makedirs(f'./vae/{epoch + 1 + now_epoch}', exist_ok=True)\n",
    "            vae_model.eval()\n",
    "            save_model(f'./vae/{epoch + 1 + now_epoch}/vae.pth', vae_model, optimizer)\n",
    "\n",
    "            val_loss = evaluate(vae_model, val_loader, device, beta=beta)\n",
    "\n",
    "            # sample and save images\n",
    "            label = torch.eye(10).repeat(10, 1).to(device)\n",
    "            vae_model.sample_images(\n",
    "                label, save=True, save_dir=f\"./vae/{epoch + 1 + now_epoch}/\")\n",
    "            \n",
    "            if val_loss < best_val_loss:\n",
    "                print(\n",
    "                    f'Current validation loss: {best_val_loss} -> {val_loss}')\n",
    "                best_val_loss = val_loss\n",
    "                save_model('./vae/vae_best.pth', vae_model)\n",
    "                \n",
    "        ibar.update(1)\n",
    "        ibar.set_description(f'Epoch {epoch+1}, Train Loss: {train_loss/n_batches}')\n",
    "    ibar.close()"
   ]
  },
  {
   "cell_type": "markdown",
   "id": "adb3743e",
   "metadata": {
    "id": "adb3743e"
   },
   "source": [
    "## Enjoy\n",
    "\n",
    "Tune your hyperparameters and make your conditional VAE work. Good luck!"
   ]
  },
  {
   "cell_type": "code",
   "execution_count": 11,
   "id": "d7629c75",
   "metadata": {
    "id": "d7629c75"
   },
   "outputs": [
    {
     "name": "stderr",
     "output_type": "stream",
     "text": [
      "/scorpio/home/liuhanzuo/DL2025/CodingProject3/utils.py:26: FutureWarning: You are using `torch.load` with `weights_only=False` (the current default value), which uses the default pickle module implicitly. It is possible to construct malicious pickle data which will execute arbitrary code during unpickling (See https://github.com/pytorch/pytorch/blob/main/SECURITY.md#untrusted-models for more details). In a future release, the default value for `weights_only` will be flipped to `True`. This limits the functions that could be executed during unpickling. Arbitrary objects will no longer be allowed to be loaded via this mode unless they are explicitly allowlisted by the user via `torch.serialization.add_safe_globals`. We recommend you start setting `weights_only=True` for any use case where you don't have full control of the loaded file. Please open an issue on GitHub for any issues related to this experimental feature.\n",
      "  checkpoint = torch.load(load_path)\n"
     ]
    },
    {
     "name": "stdout",
     "output_type": "stream",
     "text": [
      "Total trainable parameters in CVAE: 14523608\n"
     ]
    }
   ],
   "source": [
    "from torchsummary import summary\n",
    "\n",
    "label_dim = 10\n",
    "img_dim = (1, 28, 28)\n",
    "latent_dim = 100\n",
    "cvae = CVAE(img_dim, 10, 100, 256)\n",
    "cvae.load_state_dict(load_model('./vae/vae_best.pth')[0])\n",
    "cvae.to(device)\n",
    "# Calculate the total number of trainable parameters in the CVAE model\n",
    "total_params = sum(p.numel() for p in cvae.parameters() if p.requires_grad)\n",
    "print(f\"Total trainable parameters in CVAE: {total_params}\")\n",
    "train_loader = DataLoader(train_set, batch_size=1024, pin_memory=True,\n",
    "                          drop_last=False, shuffle=True, num_workers=8)\n",
    "val_loader = DataLoader(val_set, batch_size=1024, pin_memory=True,\n",
    "                        drop_last=True, shuffle=True, num_workers=8)\n",
    "optimizer = torch.optim.Adam(cvae.parameters(), lr=2e-4)"
   ]
  },
  {
   "cell_type": "markdown",
   "id": "30af6dca",
   "metadata": {},
   "source": [
    "Let's start training! Please keep in mind that this cell may **NOT** be run when we evaluate your assignment!"
   ]
  },
  {
   "cell_type": "code",
   "execution_count": null,
   "id": "4cb2d898",
   "metadata": {},
   "outputs": [
    {
     "name": "stderr",
     "output_type": "stream",
     "text": [
      "Train Epoch 1, Train Loss: 969.342450, Learning Rate 0.0001: 100%|██████████| 60000/60000 [00:02<00:00, 20851.33it/s]\n",
      "Train Epoch 2, Train Loss: 929.032396, Learning Rate 9.999911173852618e-05: 100%|██████████| 60000/60000 [00:02<00:00, 27868.36it/s]\n",
      "Train Epoch 3, Train Loss: 929.786680, Learning Rate 9.999644698917175e-05: 100%|██████████| 60000/60000 [00:02<00:00, 27062.49it/s]\n",
      "Train Epoch 4, Train Loss: 930.475305, Learning Rate 9.999200585713642e-05: 100%|██████████| 60000/60000 [00:01<00:00, 30109.74it/s]\n",
      "Train Epoch 5, Train Loss: 930.523066, Learning Rate 9.998578851774852e-05: 100%|██████████| 60000/60000 [00:02<00:00, 27338.29it/s]\n",
      "Train Epoch 6, Train Loss: 930.351025, Learning Rate 9.997779521645794e-05: 100%|██████████| 60000/60000 [00:02<00:00, 26476.31it/s]\n",
      "Train Epoch 7, Train Loss: 930.243348, Learning Rate 9.996802626882654e-05: 100%|██████████| 60000/60000 [00:02<00:00, 27543.33it/s]\n",
      "Train Epoch 8, Train Loss: 929.642665, Learning Rate 9.995648206051564e-05: 100%|██████████| 60000/60000 [00:02<00:00, 25838.63it/s]\n",
      "Train Epoch 9, Train Loss: 929.331682, Learning Rate 9.994316304727081e-05: 100%|██████████| 60000/60000 [00:02<00:00, 26432.39it/s]\n",
      "Train Epoch 10, Train Loss: 929.294641, Learning Rate 9.992806975490389e-05: 100%|██████████| 60000/60000 [00:02<00:00, 27431.00it/s]\n",
      "Val Loss: 1030.141547:  92%|█████████▏| 9216/10000 [00:00<00:00, 15641.91it/s]\n",
      "Epoch 10, Train Loss: 929.294640625:   2%|▏         | 10/500 [00:23<21:19,  2.61s/it]   "
     ]
    },
    {
     "name": "stdout",
     "output_type": "stream",
     "text": [
      "Current validation loss: inf -> 1030.1415473090278\n"
     ]
    },
    {
     "name": "stderr",
     "output_type": "stream",
     "text": [
      "Train Epoch 11, Train Loss: 927.539072, Learning Rate 9.991120277927223e-05: 100%|██████████| 60000/60000 [00:02<00:00, 29113.97it/s]\n",
      "Train Epoch 12, Train Loss: 927.263008, Learning Rate 9.989256278625514e-05: 100%|██████████| 60000/60000 [00:01<00:00, 30684.23it/s]\n",
      "Train Epoch 13, Train Loss: 926.987609, Learning Rate 9.987215051172763e-05: 100%|██████████| 60000/60000 [00:02<00:00, 28461.56it/s]\n",
      "Train Epoch 14, Train Loss: 926.720110, Learning Rate 9.984996676153134e-05: 100%|██████████| 60000/60000 [00:01<00:00, 30531.65it/s]\n",
      "Train Epoch 15, Train Loss: 924.905935, Learning Rate 9.982601241144277e-05: 100%|██████████| 60000/60000 [00:02<00:00, 27700.80it/s]\n",
      "Train Epoch 16, Train Loss: 924.706515, Learning Rate 9.980028840713861e-05: 100%|██████████| 60000/60000 [00:02<00:00, 29182.41it/s]\n",
      "Train Epoch 17, Train Loss: 923.615778, Learning Rate 9.977279576415853e-05: 100%|██████████| 60000/60000 [00:02<00:00, 27385.15it/s]\n",
      "Train Epoch 18, Train Loss: 923.557477, Learning Rate 9.974353556786496e-05: 100%|██████████| 60000/60000 [00:01<00:00, 30489.45it/s]\n",
      "Train Epoch 19, Train Loss: 922.583437, Learning Rate 9.971250897340038e-05: 100%|██████████| 60000/60000 [00:02<00:00, 27485.37it/s]\n",
      "Train Epoch 20, Train Loss: 921.776368, Learning Rate 9.967971720564162e-05: 100%|██████████| 60000/60000 [00:01<00:00, 31282.42it/s]\n",
      "Val Loss: 1027.015008:  92%|█████████▏| 9216/10000 [00:00<00:00, 15234.16it/s]\n",
      "Epoch 20, Train Loss: 921.7763677083333:   4%|▍         | 20/500 [00:45<19:25,  2.43s/it]"
     ]
    },
    {
     "name": "stdout",
     "output_type": "stream",
     "text": [
      "Current validation loss: 1030.1415473090278 -> 1027.0150078667534\n"
     ]
    },
    {
     "name": "stderr",
     "output_type": "stream",
     "text": [
      "Train Epoch 21, Train Loss: 921.750505, Learning Rate 9.964516155915151e-05: 100%|██████████| 60000/60000 [00:02<00:00, 26414.31it/s]\n",
      "Train Epoch 22, Train Loss: 920.675483, Learning Rate 9.96088433981278e-05: 100%|██████████| 60000/60000 [00:02<00:00, 28995.24it/s]\n",
      "Train Epoch 23, Train Loss: 919.736927, Learning Rate 9.95707641563493e-05: 100%|██████████| 60000/60000 [00:01<00:00, 30884.58it/s]\n",
      "Train Epoch 24, Train Loss: 919.039003, Learning Rate 9.95309253371193e-05: 100%|██████████| 60000/60000 [00:01<00:00, 33078.32it/s]\n",
      "Train Epoch 25, Train Loss: 919.581533, Learning Rate 9.948932851320614e-05: 100%|██████████| 60000/60000 [00:02<00:00, 27244.39it/s]\n",
      "Train Epoch 26, Train Loss: 917.799070, Learning Rate 9.94459753267812e-05: 100%|██████████| 60000/60000 [00:02<00:00, 25137.25it/s]\n",
      "Train Epoch 27, Train Loss: 917.323374, Learning Rate 9.940086748935406e-05: 100%|██████████| 60000/60000 [00:02<00:00, 26124.75it/s]\n",
      "Train Epoch 28, Train Loss: 916.073993, Learning Rate 9.935400678170493e-05: 100%|██████████| 60000/60000 [00:02<00:00, 25638.34it/s]\n",
      "Train Epoch 29, Train Loss: 915.904872, Learning Rate 9.930539505381426e-05: 100%|██████████| 60000/60000 [00:02<00:00, 26414.14it/s]\n",
      "Train Epoch 30, Train Loss: 915.989985, Learning Rate 9.925503422478986e-05: 100%|██████████| 60000/60000 [00:02<00:00, 27951.37it/s]\n",
      "Val Loss: 1024.147027:  92%|█████████▏| 9216/10000 [00:00<00:00, 14480.41it/s]\n",
      "Epoch 30, Train Loss: 915.9899854166666:   6%|▌         | 30/500 [01:08<20:25,  2.61s/it]"
     ]
    },
    {
     "name": "stdout",
     "output_type": "stream",
     "text": [
      "Current validation loss: 1027.0150078667534 -> 1024.1470269097222\n"
     ]
    },
    {
     "name": "stderr",
     "output_type": "stream",
     "text": [
      "Train Epoch 31, Train Loss: 915.068818, Learning Rate 9.920292628279102e-05: 100%|██████████| 60000/60000 [00:02<00:00, 26822.37it/s]\n",
      "Train Epoch 32, Train Loss: 913.819300, Learning Rate 9.914907328495006e-05: 100%|██████████| 60000/60000 [00:01<00:00, 30360.88it/s]\n",
      "Train Epoch 33, Train Loss: 912.467870, Learning Rate 9.909347735729114e-05: 100%|██████████| 60000/60000 [00:02<00:00, 26540.85it/s]\n",
      "Train Epoch 34, Train Loss: 912.262231, Learning Rate 9.903614069464627e-05: 100%|██████████| 60000/60000 [00:02<00:00, 27265.58it/s]\n",
      "Train Epoch 35, Train Loss: 911.829335, Learning Rate 9.897706556056874e-05: 100%|██████████| 60000/60000 [00:02<00:00, 29469.57it/s]\n",
      "Train Epoch 36, Train Loss: 911.225589, Learning Rate 9.891625428724367e-05: 100%|██████████| 60000/60000 [00:01<00:00, 30141.14it/s]\n",
      "Train Epoch 37, Train Loss: 910.350534, Learning Rate 9.885370927539601e-05: 100%|██████████| 60000/60000 [00:02<00:00, 26540.98it/s]\n",
      "Train Epoch 38, Train Loss: 909.310888, Learning Rate 9.878943299419573e-05: 100%|██████████| 60000/60000 [00:02<00:00, 28071.09it/s]\n",
      "Train Epoch 39, Train Loss: 908.497826, Learning Rate 9.872342798116037e-05: 100%|██████████| 60000/60000 [00:02<00:00, 27082.57it/s]\n",
      "Train Epoch 40, Train Loss: 908.013393, Learning Rate 9.86556968420548e-05: 100%|██████████| 60000/60000 [00:02<00:00, 26038.19it/s]\n",
      "Val Loss: 1019.050639:  92%|█████████▏| 9216/10000 [00:00<00:00, 15392.55it/s]\n",
      "Epoch 40, Train Loss: 908.0133927083333:   8%|▊         | 40/500 [01:31<19:29,  2.54s/it]"
     ]
    },
    {
     "name": "stdout",
     "output_type": "stream",
     "text": [
      "Current validation loss: 1024.1470269097222 -> 1019.0506388346354\n"
     ]
    },
    {
     "name": "stderr",
     "output_type": "stream",
     "text": [
      "Train Epoch 41, Train Loss: 907.723573, Learning Rate 9.858624225078843e-05: 100%|██████████| 60000/60000 [00:02<00:00, 27777.85it/s]\n",
      "Train Epoch 42, Train Loss: 906.599999, Learning Rate 9.851506694930961e-05: 100%|██████████| 60000/60000 [00:02<00:00, 28263.26it/s]\n",
      "Train Epoch 43, Train Loss: 905.952867, Learning Rate 9.844217374749735e-05: 100%|██████████| 60000/60000 [00:02<00:00, 25069.63it/s]\n",
      "Train Epoch 44, Train Loss: 906.002425, Learning Rate 9.836756552305047e-05: 100%|██████████| 60000/60000 [00:01<00:00, 30775.34it/s]\n",
      "Train Epoch 45, Train Loss: 904.620854, Learning Rate 9.82912452213739e-05: 100%|██████████| 60000/60000 [00:02<00:00, 27918.03it/s]\n",
      "Train Epoch 46, Train Loss: 903.709259, Learning Rate 9.821321585546247e-05: 100%|██████████| 60000/60000 [00:02<00:00, 27851.05it/s]\n",
      "Train Epoch 47, Train Loss: 903.700996, Learning Rate 9.813348050578194e-05: 100%|██████████| 60000/60000 [00:02<00:00, 27608.55it/s]\n",
      "Train Epoch 48, Train Loss: 903.249786, Learning Rate 9.80520423201474e-05: 100%|██████████| 60000/60000 [00:02<00:00, 26041.82it/s]\n",
      "Train Epoch 49, Train Loss: 903.815677, Learning Rate 9.796890451359896e-05: 100%|██████████| 60000/60000 [00:02<00:00, 26709.64it/s]\n",
      "Train Epoch 50, Train Loss: 901.363326, Learning Rate 9.788407036827487e-05: 100%|██████████| 60000/60000 [00:02<00:00, 26899.96it/s]\n",
      "Val Loss: 1018.318481:  92%|█████████▏| 9216/10000 [00:00<00:00, 13854.67it/s]\n",
      "Epoch 50, Train Loss: 901.3633260416667:  10%|█         | 50/500 [01:54<19:37,  2.62s/it]"
     ]
    },
    {
     "name": "stdout",
     "output_type": "stream",
     "text": [
      "Current validation loss: 1019.0506388346354 -> 1018.3184814453125\n"
     ]
    },
    {
     "name": "stderr",
     "output_type": "stream",
     "text": [
      "Train Epoch 51, Train Loss: 900.489158, Learning Rate 9.779754323328194e-05: 100%|██████████| 60000/60000 [00:01<00:00, 30403.18it/s]\n",
      "Train Epoch 52, Train Loss: 899.995944, Learning Rate 9.770932652456327e-05: 100%|██████████| 60000/60000 [00:02<00:00, 27384.37it/s]\n",
      "Train Epoch 53, Train Loss: 899.155822, Learning Rate 9.761942372476349e-05: 100%|██████████| 60000/60000 [00:02<00:00, 26181.63it/s]\n",
      "Train Epoch 54, Train Loss: 898.653994, Learning Rate 9.752783838309121e-05: 100%|██████████| 60000/60000 [00:02<00:00, 26310.11it/s]\n",
      "Train Epoch 55, Train Loss: 898.385255, Learning Rate 9.74345741151789e-05: 100%|██████████| 60000/60000 [00:02<00:00, 23608.28it/s]\n",
      "Train Epoch 56, Train Loss: 898.343521, Learning Rate 9.733963460294015e-05: 100%|██████████| 60000/60000 [00:02<00:00, 29006.47it/s]\n",
      "Train Epoch 57, Train Loss: 896.869518, Learning Rate 9.724302359442434e-05: 100%|██████████| 60000/60000 [00:02<00:00, 29189.54it/s]\n",
      "Train Epoch 58, Train Loss: 896.387086, Learning Rate 9.714474490366866e-05: 100%|██████████| 60000/60000 [00:02<00:00, 26747.50it/s]\n",
      "Train Epoch 59, Train Loss: 895.933302, Learning Rate 9.704480241054754e-05: 100%|██████████| 60000/60000 [00:02<00:00, 28015.07it/s]\n",
      "Train Epoch 60, Train Loss: 895.015516, Learning Rate 9.694320006061948e-05: 100%|██████████| 60000/60000 [00:02<00:00, 26523.36it/s]\n",
      "Val Loss: 1011.812995:  92%|█████████▏| 9216/10000 [00:00<00:00, 13783.77it/s]\n",
      "Epoch 60, Train Loss: 895.015515625:  12%|█▏        | 60/500 [02:18<18:50,  2.57s/it]    "
     ]
    },
    {
     "name": "stdout",
     "output_type": "stream",
     "text": [
      "Current validation loss: 1018.3184814453125 -> 1011.8129950629341\n"
     ]
    },
    {
     "name": "stderr",
     "output_type": "stream",
     "text": [
      "Train Epoch 61, Train Loss: 894.634630, Learning Rate 9.68399418649713e-05: 100%|██████████| 60000/60000 [00:01<00:00, 33297.61it/s]\n",
      "Train Epoch 62, Train Loss: 893.370866, Learning Rate 9.673503190005974e-05: 100%|██████████| 60000/60000 [00:02<00:00, 29553.51it/s]\n",
      "Train Epoch 63, Train Loss: 893.012833, Learning Rate 9.662847430755059e-05: 100%|██████████| 60000/60000 [00:02<00:00, 25623.26it/s]\n",
      "Train Epoch 64, Train Loss: 892.841598, Learning Rate 9.652027329415515e-05: 100%|██████████| 60000/60000 [00:02<00:00, 28587.76it/s]\n",
      "Train Epoch 65, Train Loss: 893.064159, Learning Rate 9.641043313146415e-05: 100%|██████████| 60000/60000 [00:02<00:00, 26372.56it/s]\n",
      "Train Epoch 66, Train Loss: 890.740782, Learning Rate 9.629895815577913e-05: 100%|██████████| 60000/60000 [00:02<00:00, 27164.26it/s]\n",
      "Train Epoch 67, Train Loss: 890.753111, Learning Rate 9.618585276794126e-05: 100%|██████████| 60000/60000 [00:01<00:00, 32550.23it/s]\n",
      "Train Epoch 68, Train Loss: 890.926780, Learning Rate 9.60711214331576e-05: 100%|██████████| 60000/60000 [00:02<00:00, 29463.07it/s]\n",
      "Train Epoch 69, Train Loss: 890.071914, Learning Rate 9.595476868082479e-05: 100%|██████████| 60000/60000 [00:02<00:00, 28128.67it/s]\n",
      "Train Epoch 70, Train Loss: 889.099950, Learning Rate 9.583679910435025e-05: 100%|██████████| 60000/60000 [00:02<00:00, 27000.85it/s]\n",
      "Val Loss: 1009.155938:  92%|█████████▏| 9216/10000 [00:00<00:00, 15595.76it/s]\n",
      "Epoch 70, Train Loss: 889.09995:  14%|█▍        | 70/500 [02:40<17:32,  2.45s/it]        "
     ]
    },
    {
     "name": "stdout",
     "output_type": "stream",
     "text": [
      "Current validation loss: 1011.8129950629341 -> 1009.1559380425347\n"
     ]
    },
    {
     "name": "stderr",
     "output_type": "stream",
     "text": [
      "Train Epoch 71, Train Loss: 888.759504, Learning Rate 9.571721736097086e-05: 100%|██████████| 60000/60000 [00:02<00:00, 28214.95it/s]\n",
      "Train Epoch 72, Train Loss: 888.294005, Learning Rate 9.55960281715691e-05: 100%|██████████| 60000/60000 [00:02<00:00, 28308.10it/s]\n",
      "Train Epoch 73, Train Loss: 887.578545, Learning Rate 9.547323632048668e-05: 100%|██████████| 60000/60000 [00:02<00:00, 27974.10it/s]\n",
      "Train Epoch 74, Train Loss: 886.502191, Learning Rate 9.534884665533561e-05: 100%|██████████| 60000/60000 [00:01<00:00, 30954.35it/s]\n",
      "Train Epoch 75, Train Loss: 886.219529, Learning Rate 9.522286408680686e-05: 100%|██████████| 60000/60000 [00:02<00:00, 28077.65it/s]\n",
      "Train Epoch 76, Train Loss: 885.409977, Learning Rate 9.509529358847654e-05: 100%|██████████| 60000/60000 [00:02<00:00, 27809.81it/s]\n",
      "Train Epoch 77, Train Loss: 885.520977, Learning Rate 9.496614019660949e-05: 100%|██████████| 60000/60000 [00:02<00:00, 27463.57it/s]\n",
      "Train Epoch 78, Train Loss: 884.660861, Learning Rate 9.483540900996047e-05: 100%|██████████| 60000/60000 [00:01<00:00, 30134.70it/s]\n",
      "Train Epoch 79, Train Loss: 882.829801, Learning Rate 9.470310518957289e-05: 100%|██████████| 60000/60000 [00:01<00:00, 30853.52it/s]\n",
      "Train Epoch 80, Train Loss: 883.261466, Learning Rate 9.456923395857502e-05: 100%|██████████| 60000/60000 [00:02<00:00, 27106.18it/s]\n",
      "Val Loss: 1008.704000:  92%|█████████▏| 9216/10000 [00:00<00:00, 14889.35it/s]\n",
      "Epoch 80, Train Loss: 883.261465625:  16%|█▌        | 80/500 [03:02<17:05,  2.44s/it]    "
     ]
    },
    {
     "name": "stdout",
     "output_type": "stream",
     "text": [
      "Current validation loss: 1009.1559380425347 -> 1008.7039998372396\n"
     ]
    },
    {
     "name": "stderr",
     "output_type": "stream",
     "text": [
      "Train Epoch 81, Train Loss: 882.536404, Learning Rate 9.443380060197384e-05: 100%|██████████| 60000/60000 [00:02<00:00, 27404.71it/s]\n",
      "Train Epoch 82, Train Loss: 882.496422, Learning Rate 9.429681046644639e-05: 100%|██████████| 60000/60000 [00:02<00:00, 27479.46it/s]\n",
      "Train Epoch 83, Train Loss: 881.807505, Learning Rate 9.415826896012864e-05: 100%|██████████| 60000/60000 [00:01<00:00, 30184.24it/s]\n",
      "Train Epoch 84, Train Loss: 880.575277, Learning Rate 9.401818155240204e-05: 100%|██████████| 60000/60000 [00:02<00:00, 27533.22it/s]\n",
      "Train Epoch 85, Train Loss: 880.485229, Learning Rate 9.387655377367757e-05: 100%|██████████| 60000/60000 [00:02<00:00, 26222.81it/s]\n",
      "Train Epoch 86, Train Loss: 880.647246, Learning Rate 9.373339121517746e-05: 100%|██████████| 60000/60000 [00:02<00:00, 26030.94it/s]\n",
      "Train Epoch 87, Train Loss: 879.607164, Learning Rate 9.358869952871435e-05: 100%|██████████| 60000/60000 [00:02<00:00, 27550.44it/s]\n",
      "Train Epoch 88, Train Loss: 878.549934, Learning Rate 9.344248442646828e-05: 100%|██████████| 60000/60000 [00:02<00:00, 28386.52it/s]\n",
      "Train Epoch 89, Train Loss: 877.975317, Learning Rate 9.329475168076114e-05: 100%|██████████| 60000/60000 [00:02<00:00, 26819.72it/s]\n",
      "Train Epoch 90, Train Loss: 878.293556, Learning Rate 9.314550712382875e-05: 100%|██████████| 60000/60000 [00:02<00:00, 26552.90it/s]\n",
      "Val Loss: 1006.145555:  92%|█████████▏| 9216/10000 [00:00<00:00, 14957.38it/s]\n",
      "Epoch 90, Train Loss: 878.29355625:  18%|█▊        | 90/500 [03:25<17:43,  2.59s/it]     "
     ]
    },
    {
     "name": "stdout",
     "output_type": "stream",
     "text": [
      "Current validation loss: 1008.7039998372396 -> 1006.1455552842882\n"
     ]
    },
    {
     "name": "stderr",
     "output_type": "stream",
     "text": [
      "Train Epoch 91, Train Loss: 876.857308, Learning Rate 9.299475664759068e-05: 100%|██████████| 60000/60000 [00:02<00:00, 27750.77it/s]\n",
      "Train Epoch 92, Train Loss: 876.266737, Learning Rate 9.28425062034176e-05: 100%|██████████| 60000/60000 [00:02<00:00, 27479.07it/s]\n",
      "Train Epoch 93, Train Loss: 876.869852, Learning Rate 9.268876180189638e-05: 100%|██████████| 60000/60000 [00:01<00:00, 31202.55it/s]\n",
      "Train Epoch 94, Train Loss: 875.252941, Learning Rate 9.25335295125927e-05: 100%|██████████| 60000/60000 [00:02<00:00, 27277.63it/s]\n",
      "Train Epoch 95, Train Loss: 874.970004, Learning Rate 9.237681546381156e-05: 100%|██████████| 60000/60000 [00:02<00:00, 28592.48it/s]\n",
      "Train Epoch 96, Train Loss: 874.765757, Learning Rate 9.221862584235527e-05: 100%|██████████| 60000/60000 [00:02<00:00, 28745.99it/s]\n",
      "Train Epoch 97, Train Loss: 873.998244, Learning Rate 9.205896689327922e-05: 100%|██████████| 60000/60000 [00:02<00:00, 25000.39it/s]\n",
      "Train Epoch 98, Train Loss: 873.644884, Learning Rate 9.189784491964535e-05: 100%|██████████| 60000/60000 [00:02<00:00, 25731.30it/s]\n",
      "Train Epoch 99, Train Loss: 872.846986, Learning Rate 9.173526628227326e-05: 100%|██████████| 60000/60000 [00:02<00:00, 26990.64it/s]\n",
      "Train Epoch 100, Train Loss: 872.669373, Learning Rate 9.157123739948921e-05: 100%|██████████| 60000/60000 [00:02<00:00, 26937.19it/s]\n",
      "Val Loss: 1004.585802:  92%|█████████▏| 9216/10000 [00:00<00:00, 16059.55it/s]\n",
      "Epoch 100, Train Loss: 872.6693729166667:  20%|██        | 100/500 [03:48<16:58,  2.55s/it]"
     ]
    },
    {
     "name": "stdout",
     "output_type": "stream",
     "text": [
      "Current validation loss: 1006.1455552842882 -> 1004.5858018663195\n"
     ]
    },
    {
     "name": "stderr",
     "output_type": "stream",
     "text": [
      "Train Epoch 101, Train Loss: 872.210834, Learning Rate 9.140576474687262e-05: 100%|██████████| 60000/60000 [00:02<00:00, 27160.07it/s]\n",
      "Train Epoch 102, Train Loss: 871.237107, Learning Rate 9.123885485700046e-05: 100%|██████████| 60000/60000 [00:02<00:00, 25765.66it/s]\n",
      "Train Epoch 103, Train Loss: 870.989678, Learning Rate 9.107051431918943e-05: 100%|██████████| 60000/60000 [00:02<00:00, 27325.08it/s]\n",
      "Train Epoch 104, Train Loss: 870.836209, Learning Rate 9.090074977923567e-05: 100%|██████████| 60000/60000 [00:02<00:00, 26654.27it/s]\n",
      "Train Epoch 105, Train Loss: 870.738082, Learning Rate 9.072956793915255e-05: 100%|██████████| 60000/60000 [00:02<00:00, 27646.59it/s]\n",
      "Train Epoch 106, Train Loss: 870.404275, Learning Rate 9.055697555690603e-05: 100%|██████████| 60000/60000 [00:02<00:00, 25090.32it/s]\n",
      "Train Epoch 107, Train Loss: 868.755561, Learning Rate 9.038297944614782e-05: 100%|██████████| 60000/60000 [00:02<00:00, 26336.42it/s]\n",
      "Train Epoch 108, Train Loss: 867.738873, Learning Rate 9.020758647594643e-05: 100%|██████████| 60000/60000 [00:02<00:00, 24741.91it/s]\n",
      "Train Epoch 109, Train Loss: 867.827089, Learning Rate 9.003080357051603e-05: 100%|██████████| 60000/60000 [00:02<00:00, 27416.12it/s]\n",
      "Train Epoch 110, Train Loss: 866.718954, Learning Rate 8.985263770894299e-05: 100%|██████████| 60000/60000 [00:02<00:00, 26382.26it/s]\n",
      "Val Loss: 1001.079644:  92%|█████████▏| 9216/10000 [00:00<00:00, 15182.53it/s]\n",
      "Epoch 110, Train Loss: 866.7189541666667:  22%|██▏       | 110/500 [04:12<17:08,  2.64s/it]"
     ]
    },
    {
     "name": "stdout",
     "output_type": "stream",
     "text": [
      "Current validation loss: 1004.5858018663195 -> 1001.0796440972222\n"
     ]
    },
    {
     "name": "stderr",
     "output_type": "stream",
     "text": [
      "Train Epoch 111, Train Loss: 866.258917, Learning Rate 8.967309592491048e-05: 100%|██████████| 60000/60000 [00:02<00:00, 26233.52it/s]\n",
      "Train Epoch 112, Train Loss: 866.222392, Learning Rate 8.949218530642071e-05: 100%|██████████| 60000/60000 [00:02<00:00, 25497.80it/s]\n",
      "Train Epoch 113, Train Loss: 866.454943, Learning Rate 8.930991299551512e-05: 100%|██████████| 60000/60000 [00:02<00:00, 25649.67it/s]\n",
      "Train Epoch 114, Train Loss: 865.484479, Learning Rate 8.912628618799245e-05: 100%|██████████| 60000/60000 [00:02<00:00, 26118.40it/s]\n",
      "Train Epoch 115, Train Loss: 864.916172, Learning Rate 8.894131213312465e-05: 100%|██████████| 60000/60000 [00:02<00:00, 26686.86it/s]\n",
      "Train Epoch 116, Train Loss: 864.627200, Learning Rate 8.875499813337064e-05: 100%|██████████| 60000/60000 [00:02<00:00, 25795.04it/s]\n",
      "Train Epoch 117, Train Loss: 863.704482, Learning Rate 8.856735154408816e-05: 100%|██████████| 60000/60000 [00:02<00:00, 24469.56it/s]\n",
      "Train Epoch 118, Train Loss: 863.691550, Learning Rate 8.837837977324322e-05: 100%|██████████| 60000/60000 [00:02<00:00, 24118.15it/s]\n",
      "Train Epoch 119, Train Loss: 863.524915, Learning Rate 8.818809028111778e-05: 100%|██████████| 60000/60000 [00:02<00:00, 28965.64it/s]\n",
      "Train Epoch 120, Train Loss: 862.863680, Learning Rate 8.799649058001516e-05: 100%|██████████| 60000/60000 [00:01<00:00, 30719.08it/s]\n",
      "Val Loss: 1003.793471:  92%|█████████▏| 9216/10000 [00:00<00:00, 15766.02it/s]\n",
      "Train Epoch 121, Train Loss: 861.925264, Learning Rate 8.780358823396348e-05: 100%|██████████| 60000/60000 [00:01<00:00, 31715.84it/s]\n",
      "Train Epoch 122, Train Loss: 861.565637, Learning Rate 8.760939085841705e-05: 100%|██████████| 60000/60000 [00:02<00:00, 25932.12it/s]\n",
      "Train Epoch 123, Train Loss: 860.937499, Learning Rate 8.741390611995576e-05: 100%|██████████| 60000/60000 [00:02<00:00, 25958.24it/s]\n",
      "Train Epoch 124, Train Loss: 860.142448, Learning Rate 8.721714173598235e-05: 100%|██████████| 60000/60000 [00:02<00:00, 26519.52it/s]\n",
      "Train Epoch 125, Train Loss: 860.524418, Learning Rate 8.70191054744178e-05: 100%|██████████| 60000/60000 [00:02<00:00, 28299.38it/s]\n",
      "Train Epoch 126, Train Loss: 860.022199, Learning Rate 8.681980515339458e-05: 100%|██████████| 60000/60000 [00:01<00:00, 32511.75it/s]\n",
      "Train Epoch 127, Train Loss: 860.127868, Learning Rate 8.661924864094817e-05: 100%|██████████| 60000/60000 [00:02<00:00, 26972.41it/s]\n",
      "Train Epoch 128, Train Loss: 858.764711, Learning Rate 8.641744385470623e-05: 100%|██████████| 60000/60000 [00:02<00:00, 27409.56it/s]\n",
      "Train Epoch 129, Train Loss: 857.997451, Learning Rate 8.621439876157618e-05: 100%|██████████| 60000/60000 [00:02<00:00, 29724.90it/s]\n",
      "Train Epoch 130, Train Loss: 857.856449, Learning Rate 8.601012137743063e-05: 100%|██████████| 60000/60000 [00:02<00:00, 27067.92it/s]\n",
      "Val Loss: 998.618089:  92%|█████████▏| 9216/10000 [00:00<00:00, 14781.08it/s]\n",
      "Epoch 130, Train Loss: 857.8564489583333:  26%|██▌       | 130/500 [04:59<15:39,  2.54s/it]"
     ]
    },
    {
     "name": "stdout",
     "output_type": "stream",
     "text": [
      "Current validation loss: 1001.0796440972222 -> 998.6180894639757\n"
     ]
    },
    {
     "name": "stderr",
     "output_type": "stream",
     "text": [
      "Train Epoch 131, Train Loss: 857.474545, Learning Rate 8.580461976679094e-05: 100%|██████████| 60000/60000 [00:02<00:00, 26849.93it/s]\n",
      "Train Epoch 132, Train Loss: 857.148414, Learning Rate 8.55979020425088e-05: 100%|██████████| 60000/60000 [00:02<00:00, 27174.25it/s]\n",
      "Train Epoch 133, Train Loss: 856.850751, Learning Rate 8.538997636544604e-05: 100%|██████████| 60000/60000 [00:02<00:00, 28260.05it/s]\n",
      "Train Epoch 134, Train Loss: 856.279526, Learning Rate 8.518085094415235e-05: 100%|██████████| 60000/60000 [00:02<00:00, 26288.64it/s]\n",
      "Train Epoch 135, Train Loss: 855.444369, Learning Rate 8.497053403454126e-05: 100%|██████████| 60000/60000 [00:02<00:00, 27818.62it/s]\n",
      "Train Epoch 136, Train Loss: 854.858479, Learning Rate 8.475903393956427e-05: 100%|██████████| 60000/60000 [00:02<00:00, 27819.27it/s]\n",
      "Train Epoch 137, Train Loss: 854.834443, Learning Rate 8.454635900888298e-05: 100%|██████████| 60000/60000 [00:02<00:00, 28312.11it/s]\n",
      "Train Epoch 138, Train Loss: 854.339274, Learning Rate 8.433251763853949e-05: 100%|██████████| 60000/60000 [00:02<00:00, 25170.44it/s]\n",
      "Train Epoch 139, Train Loss: 854.394188, Learning Rate 8.411751827062494e-05: 100%|██████████| 60000/60000 [00:02<00:00, 25973.52it/s]\n",
      "Train Epoch 140, Train Loss: 853.423048, Learning Rate 8.390136939294624e-05: 100%|██████████| 60000/60000 [00:02<00:00, 27429.80it/s]\n",
      "Val Loss: 999.108283:  92%|█████████▏| 9216/10000 [00:00<00:00, 15471.36it/s]\n",
      "Train Epoch 141, Train Loss: 852.912595, Learning Rate 8.368407953869098e-05: 100%|██████████| 60000/60000 [00:01<00:00, 30317.60it/s]\n",
      "Train Epoch 142, Train Loss: 853.057060, Learning Rate 8.346565728609055e-05: 100%|██████████| 60000/60000 [00:02<00:00, 27066.04it/s]\n",
      "Train Epoch 143, Train Loss: 852.144252, Learning Rate 8.324611125808146e-05: 100%|██████████| 60000/60000 [00:02<00:00, 28277.18it/s]\n",
      "Train Epoch 144, Train Loss: 852.445360, Learning Rate 8.302545012196501e-05: 100%|██████████| 60000/60000 [00:02<00:00, 26520.94it/s]\n",
      "Train Epoch 145, Train Loss: 851.571657, Learning Rate 8.280368258906498e-05: 100%|██████████| 60000/60000 [00:02<00:00, 25316.69it/s]\n",
      "Train Epoch 146, Train Loss: 850.994249, Learning Rate 8.258081741438389e-05: 100%|██████████| 60000/60000 [00:01<00:00, 30473.15it/s]\n",
      "Train Epoch 147, Train Loss: 850.546514, Learning Rate 8.235686339625718e-05: 100%|██████████| 60000/60000 [00:02<00:00, 27749.03it/s]\n",
      "Train Epoch 148, Train Loss: 850.356454, Learning Rate 8.213182937600605e-05: 100%|██████████| 60000/60000 [00:02<00:00, 27329.67it/s]\n",
      "Train Epoch 149, Train Loss: 849.324730, Learning Rate 8.19057242375883e-05: 100%|██████████| 60000/60000 [00:02<00:00, 27560.92it/s]\n",
      "Train Epoch 150, Train Loss: 848.849524, Learning Rate 8.167855690724761e-05: 100%|██████████| 60000/60000 [00:02<00:00, 26967.19it/s]\n",
      "Val Loss: 997.576558:  92%|█████████▏| 9216/10000 [00:00<00:00, 13053.12it/s]\n",
      "Epoch 150, Train Loss: 848.8495244791667:  30%|███       | 150/500 [05:45<15:05,  2.59s/it]"
     ]
    },
    {
     "name": "stdout",
     "output_type": "stream",
     "text": [
      "Current validation loss: 998.6180894639757 -> 997.5765584309896\n"
     ]
    },
    {
     "name": "stderr",
     "output_type": "stream",
     "text": [
      "Train Epoch 151, Train Loss: 848.832467, Learning Rate 8.145033635316124e-05: 100%|██████████| 60000/60000 [00:02<00:00, 26424.73it/s]\n",
      "Train Epoch 152, Train Loss: 848.375023, Learning Rate 8.122107158508587e-05: 100%|██████████| 60000/60000 [00:02<00:00, 25830.11it/s]\n",
      "Train Epoch 153, Train Loss: 847.745242, Learning Rate 8.099077165400198e-05: 100%|██████████| 60000/60000 [00:02<00:00, 27331.63it/s]\n",
      "Train Epoch 154, Train Loss: 847.442611, Learning Rate 8.075944565175652e-05: 100%|██████████| 60000/60000 [00:02<00:00, 26409.06it/s]\n",
      "Train Epoch 155, Train Loss: 847.037159, Learning Rate 8.052710271070398e-05: 100%|██████████| 60000/60000 [00:02<00:00, 29387.69it/s]\n",
      "Train Epoch 156, Train Loss: 846.653871, Learning Rate 8.029375200334581e-05: 100%|██████████| 60000/60000 [00:02<00:00, 26648.80it/s]\n",
      "Train Epoch 157, Train Loss: 846.262065, Learning Rate 8.00594027419684e-05: 100%|██████████| 60000/60000 [00:02<00:00, 24621.13it/s]\n",
      "Train Epoch 158, Train Loss: 845.985184, Learning Rate 7.98240641782793e-05: 100%|██████████| 60000/60000 [00:02<00:00, 25705.14it/s]\n",
      "Train Epoch 159, Train Loss: 845.960296, Learning Rate 7.958774560304204e-05: 100%|██████████| 60000/60000 [00:02<00:00, 28289.83it/s]\n",
      "Train Epoch 160, Train Loss: 845.114831, Learning Rate 7.935045634570934e-05: 100%|██████████| 60000/60000 [00:02<00:00, 28152.41it/s]\n",
      "Val Loss: 999.954976:  92%|█████████▏| 9216/10000 [00:00<00:00, 15841.02it/s]\n",
      "Train Epoch 161, Train Loss: 844.397774, Learning Rate 7.911220577405478e-05: 100%|██████████| 60000/60000 [00:02<00:00, 28197.91it/s]\n",
      "Train Epoch 162, Train Loss: 844.413686, Learning Rate 7.887300329380296e-05: 100%|██████████| 60000/60000 [00:02<00:00, 28550.41it/s]\n",
      "Train Epoch 163, Train Loss: 843.692835, Learning Rate 7.863285834825824e-05: 100%|██████████| 60000/60000 [00:02<00:00, 26469.78it/s]\n",
      "Train Epoch 164, Train Loss: 842.966468, Learning Rate 7.839178041793185e-05: 100%|██████████| 60000/60000 [00:02<00:00, 28635.69it/s]\n",
      "Train Epoch 165, Train Loss: 842.919337, Learning Rate 7.814977902016772e-05: 100%|██████████| 60000/60000 [00:02<00:00, 25959.42it/s]\n",
      "Train Epoch 166, Train Loss: 843.066457, Learning Rate 7.790686370876664e-05: 100%|██████████| 60000/60000 [00:02<00:00, 26482.82it/s]\n",
      "Train Epoch 167, Train Loss: 842.442395, Learning Rate 7.766304407360916e-05: 100%|██████████| 60000/60000 [00:02<00:00, 27017.78it/s]\n",
      "Train Epoch 168, Train Loss: 842.175168, Learning Rate 7.741832974027702e-05: 100%|██████████| 60000/60000 [00:02<00:00, 25849.89it/s]\n",
      "Train Epoch 169, Train Loss: 841.161819, Learning Rate 7.717273036967305e-05: 100%|██████████| 60000/60000 [00:02<00:00, 28756.48it/s]\n",
      "Train Epoch 170, Train Loss: 841.263251, Learning Rate 7.692625565763989e-05: 100%|██████████| 60000/60000 [00:01<00:00, 33706.45it/s]\n",
      "Val Loss: 998.518480:  92%|█████████▏| 9216/10000 [00:00<00:00, 15127.56it/s]\n",
      "Train Epoch 171, Train Loss: 840.914971, Learning Rate 7.667891533457712e-05: 100%|██████████| 60000/60000 [00:02<00:00, 27363.53it/s]\n",
      "Train Epoch 172, Train Loss: 840.692058, Learning Rate 7.64307191650572e-05: 100%|██████████| 60000/60000 [00:02<00:00, 27752.79it/s]\n",
      "Train Epoch 173, Train Loss: 840.320439, Learning Rate 7.618167694743991e-05: 100%|██████████| 60000/60000 [00:02<00:00, 25786.09it/s]\n",
      "Train Epoch 174, Train Loss: 839.870503, Learning Rate 7.593179851348557e-05: 100%|██████████| 60000/60000 [00:02<00:00, 28413.99it/s]\n",
      "Train Epoch 175, Train Loss: 839.547278, Learning Rate 7.568109372796691e-05: 100%|██████████| 60000/60000 [00:01<00:00, 32372.64it/s]\n",
      "Train Epoch 176, Train Loss: 839.103334, Learning Rate 7.542957248827956e-05: 100%|██████████| 60000/60000 [00:02<00:00, 29672.12it/s]\n",
      "Train Epoch 177, Train Loss: 838.545685, Learning Rate 7.517724472405142e-05: 100%|██████████| 60000/60000 [00:02<00:00, 25399.54it/s]\n",
      "Train Epoch 178, Train Loss: 838.073055, Learning Rate 7.492412039675053e-05: 100%|██████████| 60000/60000 [00:02<00:00, 26316.78it/s]\n",
      "Train Epoch 179, Train Loss: 837.711923, Learning Rate 7.467020949929194e-05: 100%|██████████| 60000/60000 [00:02<00:00, 25219.33it/s]\n",
      "Train Epoch 180, Train Loss: 837.906821, Learning Rate 7.441552205564313e-05: 100%|██████████| 60000/60000 [00:02<00:00, 27856.01it/s]\n",
      "Val Loss: 998.033522:  92%|█████████▏| 9216/10000 [00:00<00:00, 14788.16it/s]\n",
      "Train Epoch 181, Train Loss: 836.846259, Learning Rate 7.416006812042824e-05: 100%|██████████| 60000/60000 [00:02<00:00, 29519.47it/s]\n",
      "Train Epoch 182, Train Loss: 836.905640, Learning Rate 7.390385777853124e-05: 100%|██████████| 60000/60000 [00:02<00:00, 26114.43it/s]\n",
      "Train Epoch 183, Train Loss: 836.128791, Learning Rate 7.364690114469775e-05: 100%|██████████| 60000/60000 [00:02<00:00, 25706.30it/s]\n",
      "Train Epoch 184, Train Loss: 836.112209, Learning Rate 7.338920836313568e-05: 100%|██████████| 60000/60000 [00:02<00:00, 28295.29it/s]\n",
      "Train Epoch 185, Train Loss: 835.689046, Learning Rate 7.313078960711479e-05: 100%|██████████| 60000/60000 [00:02<00:00, 25699.25it/s]\n",
      "Train Epoch 186, Train Loss: 835.664339, Learning Rate 7.28716550785651e-05: 100%|██████████| 60000/60000 [00:02<00:00, 26038.50it/s]\n",
      "Train Epoch 187, Train Loss: 834.557653, Learning Rate 7.261181500767407e-05: 100%|██████████| 60000/60000 [00:02<00:00, 29104.57it/s]\n",
      "Train Epoch 188, Train Loss: 834.661774, Learning Rate 7.23512796524828e-05: 100%|██████████| 60000/60000 [00:02<00:00, 26419.84it/s]\n",
      "Train Epoch 189, Train Loss: 834.291314, Learning Rate 7.209005929848101e-05: 100%|██████████| 60000/60000 [00:01<00:00, 30656.92it/s]\n",
      "Train Epoch 190, Train Loss: 833.861991, Learning Rate 7.182816425820097e-05: 100%|██████████| 60000/60000 [00:02<00:00, 28349.18it/s]\n",
      "Val Loss: 998.720215:  92%|█████████▏| 9216/10000 [00:00<00:00, 15434.32it/s]\n",
      "Train Epoch 191, Train Loss: 833.365444, Learning Rate 7.156560487081046e-05: 100%|██████████| 60000/60000 [00:02<00:00, 28686.32it/s]\n",
      "Train Epoch 192, Train Loss: 833.107501, Learning Rate 7.130239150170451e-05: 100%|██████████| 60000/60000 [00:02<00:00, 29306.75it/s]\n",
      "Train Epoch 193, Train Loss: 832.952876, Learning Rate 7.103853454209624e-05: 100%|██████████| 60000/60000 [00:02<00:00, 27900.83it/s]\n",
      "Train Epoch 194, Train Loss: 832.302533, Learning Rate 7.077404440860662e-05: 100%|██████████| 60000/60000 [00:01<00:00, 31811.18it/s]\n",
      "Train Epoch 195, Train Loss: 831.854795, Learning Rate 7.050893154285324e-05: 100%|██████████| 60000/60000 [00:01<00:00, 34207.27it/s]\n",
      "Train Epoch 196, Train Loss: 832.121575, Learning Rate 7.02432064110381e-05: 100%|██████████| 60000/60000 [00:01<00:00, 31936.28it/s]\n",
      "Train Epoch 197, Train Loss: 831.332569, Learning Rate 6.997687950353438e-05: 100%|██████████| 60000/60000 [00:02<00:00, 26636.40it/s]\n",
      "Train Epoch 198, Train Loss: 831.087016, Learning Rate 6.970996133447241e-05: 100%|██████████| 60000/60000 [00:02<00:00, 27492.97it/s]\n",
      "Train Epoch 199, Train Loss: 830.928446, Learning Rate 6.944246244132441e-05: 100%|██████████| 60000/60000 [00:02<00:00, 27967.07it/s]\n",
      "Train Epoch 200, Train Loss: 830.416670, Learning Rate 6.91743933844887e-05: 100%|██████████| 60000/60000 [00:02<00:00, 25892.74it/s]\n",
      "Val Loss: 992.816555:  92%|█████████▏| 9216/10000 [00:00<00:00, 15090.94it/s]\n",
      "Epoch 200, Train Loss: 830.4166697916667:  40%|████      | 200/500 [07:39<12:42,  2.54s/it]"
     ]
    },
    {
     "name": "stdout",
     "output_type": "stream",
     "text": [
      "Current validation loss: 997.5765584309896 -> 992.8165554470486\n"
     ]
    },
    {
     "name": "stderr",
     "output_type": "stream",
     "text": [
      "Train Epoch 201, Train Loss: 830.154710, Learning Rate 6.890576474687263e-05: 100%|██████████| 60000/60000 [00:02<00:00, 27225.18it/s]\n",
      "Train Epoch 202, Train Loss: 829.411390, Learning Rate 6.863658713347484e-05: 100%|██████████| 60000/60000 [00:02<00:00, 26266.51it/s]\n",
      "Train Epoch 203, Train Loss: 829.149577, Learning Rate 6.836687117096657e-05: 100%|██████████| 60000/60000 [00:01<00:00, 30505.99it/s]\n",
      "Train Epoch 204, Train Loss: 829.360635, Learning Rate 6.809662750727224e-05: 100%|██████████| 60000/60000 [00:02<00:00, 27791.92it/s]\n",
      "Train Epoch 205, Train Loss: 828.613625, Learning Rate 6.782586681114894e-05: 100%|██████████| 60000/60000 [00:02<00:00, 28451.47it/s]\n",
      "Train Epoch 206, Train Loss: 828.374192, Learning Rate 6.755459977176534e-05: 100%|██████████| 60000/60000 [00:02<00:00, 28338.02it/s]\n",
      "Train Epoch 207, Train Loss: 827.896903, Learning Rate 6.728283709827966e-05: 100%|██████████| 60000/60000 [00:02<00:00, 25516.57it/s]\n",
      "Train Epoch 208, Train Loss: 827.909793, Learning Rate 6.701058951941694e-05: 100%|██████████| 60000/60000 [00:02<00:00, 26898.72it/s]\n",
      "Train Epoch 209, Train Loss: 827.348166, Learning Rate 6.673786778304538e-05: 100%|██████████| 60000/60000 [00:02<00:00, 27586.12it/s]\n",
      "Train Epoch 210, Train Loss: 827.242787, Learning Rate 6.646468265575223e-05: 100%|██████████| 60000/60000 [00:02<00:00, 26167.93it/s]\n",
      "Val Loss: 993.041348:  92%|█████████▏| 9216/10000 [00:00<00:00, 15092.09it/s]\n",
      "Train Epoch 211, Train Loss: 826.944806, Learning Rate 6.619104492241849e-05: 100%|██████████| 60000/60000 [00:02<00:00, 27580.21it/s]\n",
      "Train Epoch 212, Train Loss: 826.693703, Learning Rate 6.591696538579337e-05: 100%|██████████| 60000/60000 [00:02<00:00, 26482.94it/s]\n",
      "Train Epoch 213, Train Loss: 825.949535, Learning Rate 6.564245486606766e-05: 100%|██████████| 60000/60000 [00:02<00:00, 25258.16it/s]\n",
      "Train Epoch 214, Train Loss: 825.698704, Learning Rate 6.536752420044663e-05: 100%|██████████| 60000/60000 [00:02<00:00, 28698.68it/s]\n",
      "Train Epoch 215, Train Loss: 825.447479, Learning Rate 6.50921842427222e-05: 100%|██████████| 60000/60000 [00:02<00:00, 27701.91it/s]\n",
      "Train Epoch 216, Train Loss: 824.858593, Learning Rate 6.481644586284447e-05: 100%|██████████| 60000/60000 [00:02<00:00, 26781.30it/s]\n",
      "Train Epoch 217, Train Loss: 824.819411, Learning Rate 6.454031994649252e-05: 100%|██████████| 60000/60000 [00:02<00:00, 28195.76it/s]\n",
      "Train Epoch 218, Train Loss: 824.541373, Learning Rate 6.426381739464472e-05: 100%|██████████| 60000/60000 [00:02<00:00, 26297.74it/s]\n",
      "Train Epoch 219, Train Loss: 823.855928, Learning Rate 6.398694912314838e-05: 100%|██████████| 60000/60000 [00:02<00:00, 26573.61it/s]\n",
      "Train Epoch 220, Train Loss: 824.092173, Learning Rate 6.370972606228878e-05: 100%|██████████| 60000/60000 [00:02<00:00, 27620.51it/s]\n",
      "Val Loss: 994.486206:  92%|█████████▏| 9216/10000 [00:00<00:00, 12692.04it/s]\n",
      "Train Epoch 221, Train Loss: 823.621567, Learning Rate 6.343215915635767e-05: 100%|██████████| 60000/60000 [00:02<00:00, 25968.33it/s]\n",
      "Train Epoch 222, Train Loss: 822.968094, Learning Rate 6.315425936322125e-05: 100%|██████████| 60000/60000 [00:02<00:00, 28039.44it/s]\n",
      "Train Epoch 223, Train Loss: 823.198734, Learning Rate 6.28760376538875e-05: 100%|██████████| 60000/60000 [00:02<00:00, 26981.27it/s]\n",
      "Train Epoch 224, Train Loss: 822.400720, Learning Rate 6.259750501207309e-05: 100%|██████████| 60000/60000 [00:02<00:00, 26422.61it/s]\n",
      "Train Epoch 225, Train Loss: 822.433150, Learning Rate 6.231867243376983e-05: 100%|██████████| 60000/60000 [00:02<00:00, 27685.55it/s]\n",
      "Train Epoch 226, Train Loss: 822.440440, Learning Rate 6.203955092681046e-05: 100%|██████████| 60000/60000 [00:01<00:00, 30211.83it/s]\n",
      "Train Epoch 227, Train Loss: 821.802234, Learning Rate 6.176015151043414e-05: 100%|██████████| 60000/60000 [00:02<00:00, 25759.27it/s]\n",
      "Train Epoch 228, Train Loss: 821.261203, Learning Rate 6.148048521485143e-05: 100%|██████████| 60000/60000 [00:02<00:00, 25998.04it/s]\n",
      "Train Epoch 229, Train Loss: 821.380141, Learning Rate 6.12005630808088e-05: 100%|██████████| 60000/60000 [00:01<00:00, 30611.08it/s]\n",
      "Train Epoch 230, Train Loss: 820.864409, Learning Rate 6.092039615915279e-05: 100%|██████████| 60000/60000 [00:02<00:00, 27643.51it/s]\n",
      "Val Loss: 992.360148:  92%|█████████▏| 9216/10000 [00:00<00:00, 14474.25it/s]\n",
      "Epoch 230, Train Loss: 820.864409375:  46%|████▌     | 230/500 [08:48<11:21,  2.53s/it]"
     ]
    },
    {
     "name": "stdout",
     "output_type": "stream",
     "text": [
      "Current validation loss: 992.8165554470486 -> 992.3601481119791\n"
     ]
    },
    {
     "name": "stderr",
     "output_type": "stream",
     "text": [
      "Train Epoch 231, Train Loss: 820.981824, Learning Rate 6.0639995510393765e-05: 100%|██████████| 60000/60000 [00:01<00:00, 33007.42it/s]\n",
      "Train Epoch 232, Train Loss: 820.204305, Learning Rate 6.035937220426921e-05: 100%|██████████| 60000/60000 [00:02<00:00, 29890.58it/s]\n",
      "Train Epoch 233, Train Loss: 820.028239, Learning Rate 6.007853731930674e-05: 100%|██████████| 60000/60000 [00:02<00:00, 28039.27it/s]\n",
      "Train Epoch 234, Train Loss: 819.731070, Learning Rate 5.979750194238676e-05: 100%|██████████| 60000/60000 [00:02<00:00, 26799.34it/s]\n",
      "Train Epoch 235, Train Loss: 819.264355, Learning Rate 5.951627716830473e-05: 100%|██████████| 60000/60000 [00:02<00:00, 28906.52it/s]\n",
      "Train Epoch 236, Train Loss: 819.236035, Learning Rate 5.923487409933321e-05: 100%|██████████| 60000/60000 [00:02<00:00, 25545.02it/s]\n",
      "Train Epoch 237, Train Loss: 818.533659, Learning Rate 5.895330384478351e-05: 100%|██████████| 60000/60000 [00:02<00:00, 28537.78it/s]\n",
      "Train Epoch 238, Train Loss: 818.143519, Learning Rate 5.867157752056716e-05: 100%|██████████| 60000/60000 [00:02<00:00, 28267.82it/s]\n",
      "Train Epoch 239, Train Loss: 818.152687, Learning Rate 5.838970624875703e-05: 100%|██████████| 60000/60000 [00:02<00:00, 26040.17it/s]\n",
      "Train Epoch 240, Train Loss: 817.909324, Learning Rate 5.8107701157148324e-05: 100%|██████████| 60000/60000 [00:02<00:00, 29425.72it/s]\n",
      "Val Loss: 992.041985:  92%|█████████▏| 9216/10000 [00:00<00:00, 14722.51it/s]\n",
      "Epoch 240, Train Loss: 817.9093239583333:  48%|████▊     | 240/500 [09:11<10:56,  2.52s/it]"
     ]
    },
    {
     "name": "stdout",
     "output_type": "stream",
     "text": [
      "Current validation loss: 992.3601481119791 -> 992.0419854058159\n"
     ]
    },
    {
     "name": "stderr",
     "output_type": "stream",
     "text": [
      "Train Epoch 241, Train Loss: 817.617482, Learning Rate 5.782557337881916e-05: 100%|██████████| 60000/60000 [00:02<00:00, 26177.79it/s]\n",
      "Train Epoch 242, Train Loss: 817.070427, Learning Rate 5.754333405169115e-05: 100%|██████████| 60000/60000 [00:02<00:00, 27126.29it/s]\n",
      "Train Epoch 243, Train Loss: 816.763407, Learning Rate 5.726099431808968e-05: 100%|██████████| 60000/60000 [00:02<00:00, 26360.72it/s]\n",
      "Train Epoch 244, Train Loss: 817.355993, Learning Rate 5.6978565324303967e-05: 100%|██████████| 60000/60000 [00:02<00:00, 27793.34it/s]\n",
      "Train Epoch 245, Train Loss: 816.300969, Learning Rate 5.66960582201471e-05: 100%|██████████| 60000/60000 [00:02<00:00, 25960.92it/s]\n",
      "Train Epoch 246, Train Loss: 816.350431, Learning Rate 5.641348415851582e-05: 100%|██████████| 60000/60000 [00:02<00:00, 25750.71it/s]\n",
      "Train Epoch 247, Train Loss: 815.651983, Learning Rate 5.613085429495024e-05: 100%|██████████| 60000/60000 [00:02<00:00, 25119.17it/s]\n",
      "Train Epoch 248, Train Loss: 815.490344, Learning Rate 5.5848179787193425e-05: 100%|██████████| 60000/60000 [00:02<00:00, 29090.50it/s]\n",
      "Train Epoch 249, Train Loss: 815.416176, Learning Rate 5.5565471794750925e-05: 100%|██████████| 60000/60000 [00:01<00:00, 32302.20it/s]\n",
      "Train Epoch 250, Train Loss: 815.185310, Learning Rate 5.528274147845021e-05: 100%|██████████| 60000/60000 [00:02<00:00, 26643.76it/s]\n",
      "Val Loss: 992.377665:  92%|█████████▏| 9216/10000 [00:00<00:00, 14803.40it/s]\n",
      "Train Epoch 251, Train Loss: 814.748335, Learning Rate 5.500000000000005e-05: 100%|██████████| 60000/60000 [00:01<00:00, 30020.97it/s]\n",
      "Train Epoch 252, Train Loss: 814.691224, Learning Rate 5.4717258521549896e-05: 100%|██████████| 60000/60000 [00:02<00:00, 26993.39it/s]\n",
      "Train Epoch 253, Train Loss: 814.500887, Learning Rate 5.443452820524918e-05: 100%|██████████| 60000/60000 [00:02<00:00, 26016.46it/s]\n",
      "Train Epoch 254, Train Loss: 814.004639, Learning Rate 5.4151820212806674e-05: 100%|██████████| 60000/60000 [00:02<00:00, 26679.99it/s]\n",
      "Train Epoch 255, Train Loss: 813.674118, Learning Rate 5.386914570504986e-05: 100%|██████████| 60000/60000 [00:02<00:00, 25824.92it/s]\n",
      "Train Epoch 256, Train Loss: 813.552162, Learning Rate 5.358651584148427e-05: 100%|██████████| 60000/60000 [00:02<00:00, 27330.28it/s]\n",
      "Train Epoch 257, Train Loss: 813.512051, Learning Rate 5.3303941779852984e-05: 100%|██████████| 60000/60000 [00:02<00:00, 27057.19it/s]\n",
      "Train Epoch 258, Train Loss: 813.447628, Learning Rate 5.302143467569613e-05: 100%|██████████| 60000/60000 [00:02<00:00, 25694.97it/s]\n",
      "Train Epoch 259, Train Loss: 812.759758, Learning Rate 5.273900568191042e-05: 100%|██████████| 60000/60000 [00:02<00:00, 25123.40it/s]\n",
      "Train Epoch 260, Train Loss: 812.530449, Learning Rate 5.245666594830894e-05: 100%|██████████| 60000/60000 [00:02<00:00, 28582.24it/s]\n",
      "Val Loss: 991.159729:  92%|█████████▏| 9216/10000 [00:00<00:00, 15584.86it/s]\n",
      "Epoch 260, Train Loss: 812.5304489583333:  52%|█████▏    | 260/500 [09:57<10:17,  2.57s/it]"
     ]
    },
    {
     "name": "stdout",
     "output_type": "stream",
     "text": [
      "Current validation loss: 992.0419854058159 -> 991.1597290039062\n"
     ]
    },
    {
     "name": "stderr",
     "output_type": "stream",
     "text": [
      "Train Epoch 261, Train Loss: 812.571391, Learning Rate 5.2174426621180954e-05: 100%|██████████| 60000/60000 [00:02<00:00, 25727.56it/s]\n",
      "Train Epoch 262, Train Loss: 812.269378, Learning Rate 5.1892298842851795e-05: 100%|██████████| 60000/60000 [00:01<00:00, 30669.35it/s]\n",
      "Train Epoch 263, Train Loss: 811.364491, Learning Rate 5.161029375124307e-05: 100%|██████████| 60000/60000 [00:02<00:00, 28110.25it/s]\n",
      "Train Epoch 264, Train Loss: 811.157890, Learning Rate 5.1328422479432955e-05: 100%|██████████| 60000/60000 [00:01<00:00, 33929.95it/s]\n",
      "Train Epoch 265, Train Loss: 811.256579, Learning Rate 5.10466961552166e-05: 100%|██████████| 60000/60000 [00:02<00:00, 29041.65it/s]\n",
      "Train Epoch 266, Train Loss: 810.344147, Learning Rate 5.07651259006669e-05: 100%|██████████| 60000/60000 [00:02<00:00, 28173.67it/s]\n",
      "Train Epoch 267, Train Loss: 810.900565, Learning Rate 5.0483722831695375e-05: 100%|██████████| 60000/60000 [00:02<00:00, 29407.42it/s]\n",
      "Train Epoch 268, Train Loss: 809.972336, Learning Rate 5.0202498057613345e-05: 100%|██████████| 60000/60000 [00:02<00:00, 28806.28it/s]\n",
      "Train Epoch 269, Train Loss: 809.922905, Learning Rate 4.9921462680693365e-05: 100%|██████████| 60000/60000 [00:01<00:00, 30786.38it/s]\n",
      "Train Epoch 270, Train Loss: 809.878934, Learning Rate 4.9640627795730914e-05: 100%|██████████| 60000/60000 [00:02<00:00, 29662.67it/s]\n",
      "Val Loss: 992.515489:  92%|█████████▏| 9216/10000 [00:00<00:00, 15581.83it/s]\n",
      "Train Epoch 271, Train Loss: 809.399879, Learning Rate 4.936000448960636e-05: 100%|██████████| 60000/60000 [00:02<00:00, 26662.59it/s]\n",
      "Train Epoch 272, Train Loss: 809.542087, Learning Rate 4.9079603840847335e-05: 100%|██████████| 60000/60000 [00:02<00:00, 25925.16it/s]\n",
      "Train Epoch 273, Train Loss: 809.035421, Learning Rate 4.8799436919191336e-05: 100%|██████████| 60000/60000 [00:02<00:00, 29179.01it/s]\n",
      "Train Epoch 274, Train Loss: 809.216494, Learning Rate 4.851951478514869e-05: 100%|██████████| 60000/60000 [00:02<00:00, 27954.91it/s]\n",
      "Train Epoch 275, Train Loss: 808.518640, Learning Rate 4.823984848956597e-05: 100%|██████████| 60000/60000 [00:02<00:00, 26019.13it/s]\n",
      "Train Epoch 276, Train Loss: 808.464690, Learning Rate 4.7960449073189654e-05: 100%|██████████| 60000/60000 [00:02<00:00, 25235.52it/s]\n",
      "Train Epoch 277, Train Loss: 808.435127, Learning Rate 4.768132756623028e-05: 100%|██████████| 60000/60000 [00:02<00:00, 29175.08it/s]\n",
      "Train Epoch 278, Train Loss: 807.545604, Learning Rate 4.7402494987927014e-05: 100%|██████████| 60000/60000 [00:01<00:00, 30029.44it/s]\n",
      "Train Epoch 279, Train Loss: 807.872559, Learning Rate 4.712396234611262e-05: 100%|██████████| 60000/60000 [00:02<00:00, 25813.62it/s]\n",
      "Train Epoch 280, Train Loss: 807.682468, Learning Rate 4.684574063677886e-05: 100%|██████████| 60000/60000 [00:01<00:00, 32093.88it/s]\n",
      "Val Loss: 993.448025:  92%|█████████▏| 9216/10000 [00:00<00:00, 15898.05it/s]\n",
      "Train Epoch 281, Train Loss: 807.571214, Learning Rate 4.6567840843642424e-05: 100%|██████████| 60000/60000 [00:02<00:00, 24715.95it/s]\n",
      "Train Epoch 282, Train Loss: 807.163797, Learning Rate 4.6290273937711333e-05: 100%|██████████| 60000/60000 [00:02<00:00, 24755.96it/s]\n",
      "Train Epoch 283, Train Loss: 806.813695, Learning Rate 4.6013050876851724e-05: 100%|██████████| 60000/60000 [00:02<00:00, 25519.03it/s]\n",
      "Train Epoch 284, Train Loss: 806.742997, Learning Rate 4.573618260535537e-05: 100%|██████████| 60000/60000 [00:02<00:00, 25926.09it/s]\n",
      "Train Epoch 285, Train Loss: 806.146215, Learning Rate 4.545968005350758e-05: 100%|██████████| 60000/60000 [00:02<00:00, 25810.18it/s]\n",
      "Train Epoch 286, Train Loss: 806.118923, Learning Rate 4.518355413715562e-05: 100%|██████████| 60000/60000 [00:02<00:00, 25650.87it/s]\n",
      "Train Epoch 287, Train Loss: 805.938082, Learning Rate 4.490781575727788e-05: 100%|██████████| 60000/60000 [00:02<00:00, 25864.29it/s]\n",
      "Train Epoch 288, Train Loss: 805.493114, Learning Rate 4.4632475799553466e-05: 100%|██████████| 60000/60000 [00:02<00:00, 25504.22it/s]\n",
      "Train Epoch 289, Train Loss: 805.406364, Learning Rate 4.435754513393242e-05: 100%|██████████| 60000/60000 [00:02<00:00, 28463.39it/s]\n",
      "Train Epoch 290, Train Loss: 805.149879, Learning Rate 4.4083034614206695e-05: 100%|██████████| 60000/60000 [00:01<00:00, 31236.95it/s]\n",
      "Val Loss: 994.728760:  92%|█████████▏| 9216/10000 [00:00<00:00, 15583.78it/s]\n",
      "Train Epoch 291, Train Loss: 805.102433, Learning Rate 4.3808955077581574e-05: 100%|██████████| 60000/60000 [00:02<00:00, 28827.67it/s]\n",
      "Train Epoch 292, Train Loss: 804.620711, Learning Rate 4.353531734424784e-05: 100%|██████████| 60000/60000 [00:02<00:00, 27075.12it/s]\n",
      "Train Epoch 293, Train Loss: 804.552149, Learning Rate 4.326213221695467e-05: 100%|██████████| 60000/60000 [00:02<00:00, 25686.48it/s]\n",
      "Train Epoch 294, Train Loss: 804.291411, Learning Rate 4.2989410480583136e-05: 100%|██████████| 60000/60000 [00:02<00:00, 28362.27it/s]\n",
      "Train Epoch 295, Train Loss: 804.069496, Learning Rate 4.2717162901720384e-05: 100%|██████████| 60000/60000 [00:02<00:00, 28612.02it/s]\n",
      "Train Epoch 296, Train Loss: 803.825115, Learning Rate 4.24454002282347e-05: 100%|██████████| 60000/60000 [00:02<00:00, 27398.02it/s]\n",
      "Train Epoch 297, Train Loss: 803.760217, Learning Rate 4.2174133188851095e-05: 100%|██████████| 60000/60000 [00:02<00:00, 25673.80it/s]\n",
      "Train Epoch 298, Train Loss: 803.498977, Learning Rate 4.1903372492727786e-05: 100%|██████████| 60000/60000 [00:02<00:00, 28483.84it/s]\n",
      "Train Epoch 299, Train Loss: 803.259564, Learning Rate 4.1633128829033446e-05: 100%|██████████| 60000/60000 [00:02<00:00, 26820.47it/s]\n",
      "Train Epoch 300, Train Loss: 802.982402, Learning Rate 4.13634128665252e-05: 100%|██████████| 60000/60000 [00:02<00:00, 26201.15it/s]\n",
      "Val Loss: 993.194248:  92%|█████████▏| 9216/10000 [00:00<00:00, 15158.83it/s]\n",
      "Train Epoch 301, Train Loss: 802.586564, Learning Rate 4.109423525312739e-05: 100%|██████████| 60000/60000 [00:02<00:00, 27217.42it/s]\n",
      "Train Epoch 302, Train Loss: 802.644719, Learning Rate 4.082560661551131e-05: 100%|██████████| 60000/60000 [00:02<00:00, 25762.48it/s]\n",
      "Train Epoch 303, Train Loss: 802.439192, Learning Rate 4.0557537558675604e-05: 100%|██████████| 60000/60000 [00:02<00:00, 26047.64it/s]\n",
      "Train Epoch 304, Train Loss: 802.090152, Learning Rate 4.029003866552762e-05: 100%|██████████| 60000/60000 [00:02<00:00, 24866.42it/s]\n",
      "Train Epoch 305, Train Loss: 801.786697, Learning Rate 4.0023120496465636e-05: 100%|██████████| 60000/60000 [00:02<00:00, 27352.38it/s]\n",
      "Train Epoch 306, Train Loss: 801.595488, Learning Rate 3.975679358896192e-05: 100%|██████████| 60000/60000 [00:02<00:00, 29247.54it/s]\n",
      "Train Epoch 307, Train Loss: 801.809233, Learning Rate 3.949106845714677e-05: 100%|██████████| 60000/60000 [00:02<00:00, 27647.03it/s]\n",
      "Train Epoch 308, Train Loss: 801.368946, Learning Rate 3.922595559139338e-05: 100%|██████████| 60000/60000 [00:02<00:00, 28971.34it/s]\n",
      "Train Epoch 309, Train Loss: 800.833111, Learning Rate 3.896146545790376e-05: 100%|██████████| 60000/60000 [00:01<00:00, 33262.77it/s]\n",
      "Train Epoch 310, Train Loss: 800.661517, Learning Rate 3.8697608498295485e-05: 100%|██████████| 60000/60000 [00:02<00:00, 25591.40it/s]\n",
      "Val Loss: 994.016418:  92%|█████████▏| 9216/10000 [00:00<00:00, 14909.52it/s]\n",
      "Train Epoch 311, Train Loss: 800.549382, Learning Rate 3.843439512918953e-05: 100%|██████████| 60000/60000 [00:02<00:00, 26930.22it/s]\n",
      "Train Epoch 312, Train Loss: 801.007904, Learning Rate 3.8171835741799026e-05: 100%|██████████| 60000/60000 [00:02<00:00, 25873.35it/s]\n",
      "Train Epoch 313, Train Loss: 800.443902, Learning Rate 3.790994070151899e-05: 100%|██████████| 60000/60000 [00:02<00:00, 27724.58it/s]\n",
      "Train Epoch 314, Train Loss: 799.879479, Learning Rate 3.76487203475172e-05: 100%|██████████| 60000/60000 [00:02<00:00, 29000.78it/s]\n",
      "Train Epoch 315, Train Loss: 799.910211, Learning Rate 3.7388184992325944e-05: 100%|██████████| 60000/60000 [00:02<00:00, 26282.94it/s]\n",
      "Train Epoch 316, Train Loss: 799.782866, Learning Rate 3.7128344921434914e-05: 100%|██████████| 60000/60000 [00:02<00:00, 26343.01it/s]\n",
      "Train Epoch 317, Train Loss: 799.720470, Learning Rate 3.6869210392885225e-05: 100%|██████████| 60000/60000 [00:02<00:00, 25110.44it/s]\n",
      "Train Epoch 318, Train Loss: 799.239608, Learning Rate 3.661079163686434e-05: 100%|██████████| 60000/60000 [00:02<00:00, 25672.02it/s]\n",
      "Train Epoch 319, Train Loss: 799.121992, Learning Rate 3.635309885530226e-05: 100%|██████████| 60000/60000 [00:02<00:00, 26168.20it/s]\n",
      "Train Epoch 320, Train Loss: 799.020809, Learning Rate 3.609614222146877e-05: 100%|██████████| 60000/60000 [00:02<00:00, 27497.84it/s]\n",
      "Val Loss: 993.423238:  92%|█████████▏| 9216/10000 [00:00<00:00, 15734.65it/s]\n",
      "Train Epoch 321, Train Loss: 798.697434, Learning Rate 3.583993187957178e-05: 100%|██████████| 60000/60000 [00:02<00:00, 28265.97it/s]\n",
      "Train Epoch 322, Train Loss: 798.516822, Learning Rate 3.558447794435691e-05: 100%|██████████| 60000/60000 [00:02<00:00, 27451.58it/s]\n",
      "Train Epoch 323, Train Loss: 798.235693, Learning Rate 3.5329790500708085e-05: 100%|██████████| 60000/60000 [00:02<00:00, 27487.65it/s]\n",
      "Train Epoch 324, Train Loss: 798.442810, Learning Rate 3.5075879603249496e-05: 100%|██████████| 60000/60000 [00:02<00:00, 29063.70it/s]\n",
      "Train Epoch 325, Train Loss: 798.041190, Learning Rate 3.4822755275948614e-05: 100%|██████████| 60000/60000 [00:02<00:00, 26376.44it/s]\n",
      "Train Epoch 326, Train Loss: 797.547265, Learning Rate 3.457042751172045e-05: 100%|██████████| 60000/60000 [00:02<00:00, 25712.86it/s]\n",
      "Train Epoch 327, Train Loss: 797.618308, Learning Rate 3.4318906272033106e-05: 100%|██████████| 60000/60000 [00:01<00:00, 30902.59it/s]\n",
      "Train Epoch 328, Train Loss: 797.582656, Learning Rate 3.406820148651443e-05: 100%|██████████| 60000/60000 [00:02<00:00, 28908.18it/s]\n",
      "Train Epoch 329, Train Loss: 797.398049, Learning Rate 3.3818323052560106e-05: 100%|██████████| 60000/60000 [00:02<00:00, 26528.94it/s]\n",
      "Train Epoch 330, Train Loss: 797.000326, Learning Rate 3.3569280834942795e-05: 100%|██████████| 60000/60000 [00:02<00:00, 25419.80it/s]\n",
      "Val Loss: 993.197767:  92%|█████████▏| 9216/10000 [00:00<00:00, 14860.31it/s]\n",
      "Train Epoch 331, Train Loss: 796.939820, Learning Rate 3.332108466542289e-05: 100%|██████████| 60000/60000 [00:02<00:00, 27082.60it/s]\n",
      "Train Epoch 332, Train Loss: 796.703038, Learning Rate 3.307374434236012e-05: 100%|██████████| 60000/60000 [00:02<00:00, 26562.32it/s]\n",
      "Train Epoch 333, Train Loss: 796.981407, Learning Rate 3.282726963032694e-05: 100%|██████████| 60000/60000 [00:02<00:00, 26339.01it/s]\n",
      "Train Epoch 334, Train Loss: 796.115249, Learning Rate 3.2581670259722987e-05: 100%|██████████| 60000/60000 [00:02<00:00, 26821.80it/s]\n",
      "Train Epoch 335, Train Loss: 796.069781, Learning Rate 3.2336955926390836e-05: 100%|██████████| 60000/60000 [00:02<00:00, 29602.63it/s]\n",
      "Train Epoch 336, Train Loss: 796.050499, Learning Rate 3.2093136291233364e-05: 100%|██████████| 60000/60000 [00:02<00:00, 28277.62it/s]\n",
      "Train Epoch 337, Train Loss: 796.004137, Learning Rate 3.185022097983228e-05: 100%|██████████| 60000/60000 [00:02<00:00, 26854.20it/s]\n",
      "Train Epoch 338, Train Loss: 795.820057, Learning Rate 3.160821958206816e-05: 100%|██████████| 60000/60000 [00:02<00:00, 25816.20it/s]\n",
      "Train Epoch 339, Train Loss: 795.558336, Learning Rate 3.136714165174176e-05: 100%|██████████| 60000/60000 [00:02<00:00, 25682.42it/s]\n",
      "Train Epoch 340, Train Loss: 795.068401, Learning Rate 3.1126996706197055e-05: 100%|██████████| 60000/60000 [00:02<00:00, 26031.59it/s]\n",
      "Val Loss: 996.849257:  92%|█████████▏| 9216/10000 [00:00<00:00, 13908.92it/s]\n",
      "Train Epoch 341, Train Loss: 795.296969, Learning Rate 3.088779422594524e-05: 100%|██████████| 60000/60000 [00:02<00:00, 28695.12it/s]\n",
      "Train Epoch 342, Train Loss: 794.903261, Learning Rate 3.064954365429067e-05: 100%|██████████| 60000/60000 [00:02<00:00, 25586.79it/s]\n",
      "Train Epoch 343, Train Loss: 794.807318, Learning Rate 3.0412254396957973e-05: 100%|██████████| 60000/60000 [00:02<00:00, 26491.44it/s]\n",
      "Train Epoch 344, Train Loss: 794.653494, Learning Rate 3.0175935821720722e-05: 100%|██████████| 60000/60000 [00:02<00:00, 25708.03it/s]\n",
      "Train Epoch 345, Train Loss: 794.349019, Learning Rate 2.994059725803162e-05: 100%|██████████| 60000/60000 [00:02<00:00, 26338.85it/s]\n",
      "Train Epoch 346, Train Loss: 794.446665, Learning Rate 2.97062479966542e-05: 100%|██████████| 60000/60000 [00:02<00:00, 25700.62it/s]\n",
      "Train Epoch 347, Train Loss: 794.234034, Learning Rate 2.9472897289296052e-05: 100%|██████████| 60000/60000 [00:02<00:00, 25943.05it/s]\n",
      "Train Epoch 348, Train Loss: 794.109607, Learning Rate 2.9240554348243488e-05: 100%|██████████| 60000/60000 [00:02<00:00, 26384.19it/s]\n",
      "Train Epoch 349, Train Loss: 794.007974, Learning Rate 2.9009228345998048e-05: 100%|██████████| 60000/60000 [00:02<00:00, 28838.12it/s]\n",
      "Train Epoch 350, Train Loss: 793.655998, Learning Rate 2.8778928414914163e-05: 100%|██████████| 60000/60000 [00:01<00:00, 30439.18it/s]\n",
      "Val Loss: 997.089132:  92%|█████████▏| 9216/10000 [00:00<00:00, 15302.07it/s]\n",
      "Train Epoch 351, Train Loss: 793.731289, Learning Rate 2.854966364683879e-05: 100%|██████████| 60000/60000 [00:01<00:00, 33076.82it/s]\n",
      "Train Epoch 352, Train Loss: 793.151155, Learning Rate 2.8321443092752412e-05: 100%|██████████| 60000/60000 [00:02<00:00, 27784.69it/s]\n",
      "Train Epoch 353, Train Loss: 793.258996, Learning Rate 2.8094275762411745e-05: 100%|██████████| 60000/60000 [00:02<00:00, 25079.55it/s]\n",
      "Train Epoch 354, Train Loss: 792.953115, Learning Rate 2.7868170623993963e-05: 100%|██████████| 60000/60000 [00:02<00:00, 29522.75it/s]\n",
      "Train Epoch 355, Train Loss: 793.053524, Learning Rate 2.764313660374283e-05: 100%|██████████| 60000/60000 [00:02<00:00, 28421.06it/s]\n",
      "Train Epoch 356, Train Loss: 792.655368, Learning Rate 2.7419182585616144e-05: 100%|██████████| 60000/60000 [00:01<00:00, 31262.51it/s]\n",
      "Train Epoch 357, Train Loss: 792.464603, Learning Rate 2.719631741093502e-05: 100%|██████████| 60000/60000 [00:02<00:00, 26267.51it/s]\n",
      "Train Epoch 358, Train Loss: 792.329012, Learning Rate 2.6974549878035022e-05: 100%|██████████| 60000/60000 [00:02<00:00, 25574.91it/s]\n",
      "Train Epoch 359, Train Loss: 792.287271, Learning Rate 2.675388874191856e-05: 100%|██████████| 60000/60000 [00:02<00:00, 28045.66it/s]\n",
      "Train Epoch 360, Train Loss: 791.848056, Learning Rate 2.6534342713909478e-05: 100%|██████████| 60000/60000 [00:02<00:00, 25731.39it/s]\n",
      "Val Loss: 993.173821:  92%|█████████▏| 9216/10000 [00:00<00:00, 14921.89it/s]\n",
      "Train Epoch 361, Train Loss: 792.013074, Learning Rate 2.6315920461309042e-05: 100%|██████████| 60000/60000 [00:02<00:00, 24045.06it/s]\n",
      "Train Epoch 362, Train Loss: 791.619002, Learning Rate 2.60986306070538e-05: 100%|██████████| 60000/60000 [00:02<00:00, 24760.53it/s]\n",
      "Train Epoch 363, Train Loss: 791.813427, Learning Rate 2.588248172937508e-05: 100%|██████████| 60000/60000 [00:02<00:00, 28108.12it/s]\n",
      "Train Epoch 364, Train Loss: 791.503514, Learning Rate 2.566748236146053e-05: 100%|██████████| 60000/60000 [00:02<00:00, 27572.71it/s]\n",
      "Train Epoch 365, Train Loss: 791.213248, Learning Rate 2.5453640991117045e-05: 100%|██████████| 60000/60000 [00:02<00:00, 26665.45it/s]\n",
      "Train Epoch 366, Train Loss: 791.058784, Learning Rate 2.5240966060435738e-05: 100%|██████████| 60000/60000 [00:02<00:00, 26284.95it/s]\n",
      "Train Epoch 367, Train Loss: 790.878302, Learning Rate 2.5029465965458757e-05: 100%|██████████| 60000/60000 [00:02<00:00, 26024.97it/s]\n",
      "Train Epoch 368, Train Loss: 790.798256, Learning Rate 2.4819149055847676e-05: 100%|██████████| 60000/60000 [00:02<00:00, 28887.59it/s]\n",
      "Train Epoch 369, Train Loss: 790.810171, Learning Rate 2.4610023634553973e-05: 100%|██████████| 60000/60000 [00:01<00:00, 30535.86it/s]\n",
      "Train Epoch 370, Train Loss: 790.900012, Learning Rate 2.4402097957491207e-05: 100%|██████████| 60000/60000 [00:02<00:00, 28597.64it/s]\n",
      "Val Loss: 997.868462:  92%|█████████▏| 9216/10000 [00:00<00:00, 15512.41it/s]\n",
      "Train Epoch 371, Train Loss: 790.457233, Learning Rate 2.4195380233209096e-05: 100%|██████████| 60000/60000 [00:02<00:00, 27092.80it/s]\n",
      "Train Epoch 372, Train Loss: 790.459983, Learning Rate 2.3989878622569384e-05: 100%|██████████| 60000/60000 [00:01<00:00, 32156.27it/s]\n",
      "Train Epoch 373, Train Loss: 790.075010, Learning Rate 2.378560123842385e-05: 100%|██████████| 60000/60000 [00:02<00:00, 27208.67it/s]\n",
      "Train Epoch 374, Train Loss: 789.901139, Learning Rate 2.3582556145293804e-05: 100%|██████████| 60000/60000 [00:02<00:00, 27829.67it/s]\n",
      "Train Epoch 375, Train Loss: 789.910273, Learning Rate 2.3380751359051843e-05: 100%|██████████| 60000/60000 [00:02<00:00, 27138.46it/s]\n",
      "Train Epoch 376, Train Loss: 790.012122, Learning Rate 2.318019484660543e-05: 100%|██████████| 60000/60000 [00:02<00:00, 27046.80it/s]\n",
      "Train Epoch 377, Train Loss: 789.692090, Learning Rate 2.298089452558222e-05: 100%|██████████| 60000/60000 [00:02<00:00, 25869.00it/s]\n",
      "Train Epoch 378, Train Loss: 789.654247, Learning Rate 2.2782858264017656e-05: 100%|██████████| 60000/60000 [00:02<00:00, 28989.18it/s]\n",
      "Train Epoch 379, Train Loss: 789.350359, Learning Rate 2.2586093880044245e-05: 100%|██████████| 60000/60000 [00:02<00:00, 26405.94it/s]\n",
      "Train Epoch 380, Train Loss: 789.336207, Learning Rate 2.2390609141582967e-05: 100%|██████████| 60000/60000 [00:02<00:00, 24632.35it/s]\n",
      "Val Loss: 996.896498:  92%|█████████▏| 9216/10000 [00:00<00:00, 14789.41it/s]\n",
      "Train Epoch 381, Train Loss: 789.080797, Learning Rate 2.2196411766036533e-05: 100%|██████████| 60000/60000 [00:01<00:00, 30033.65it/s]\n",
      "Train Epoch 382, Train Loss: 788.884069, Learning Rate 2.2003509419984866e-05: 100%|██████████| 60000/60000 [00:02<00:00, 26761.89it/s]\n",
      "Train Epoch 383, Train Loss: 788.778706, Learning Rate 2.1811909718882234e-05: 100%|██████████| 60000/60000 [00:02<00:00, 25744.44it/s]\n",
      "Train Epoch 384, Train Loss: 788.625909, Learning Rate 2.1621620226756796e-05: 100%|██████████| 60000/60000 [00:02<00:00, 26163.47it/s]\n",
      "Train Epoch 385, Train Loss: 788.698456, Learning Rate 2.143264845591186e-05: 100%|██████████| 60000/60000 [00:02<00:00, 25946.02it/s]\n",
      "Train Epoch 386, Train Loss: 788.434226, Learning Rate 2.124500186662937e-05: 100%|██████████| 60000/60000 [00:02<00:00, 26937.58it/s]\n",
      "Train Epoch 387, Train Loss: 788.520859, Learning Rate 2.105868786687538e-05: 100%|██████████| 60000/60000 [00:02<00:00, 26806.61it/s]\n",
      "Train Epoch 388, Train Loss: 788.318746, Learning Rate 2.0873713812007564e-05: 100%|██████████| 60000/60000 [00:02<00:00, 25720.34it/s]\n",
      "Train Epoch 389, Train Loss: 788.156060, Learning Rate 2.0690087004484902e-05: 100%|██████████| 60000/60000 [00:02<00:00, 25291.47it/s]\n",
      "Train Epoch 390, Train Loss: 788.179949, Learning Rate 2.05078146935793e-05: 100%|██████████| 60000/60000 [00:02<00:00, 27987.80it/s]\n",
      "Val Loss: 997.434950:  92%|█████████▏| 9216/10000 [00:00<00:00, 15904.95it/s]\n",
      "Train Epoch 391, Train Loss: 788.002778, Learning Rate 2.0326904075089536e-05: 100%|██████████| 60000/60000 [00:02<00:00, 28016.76it/s]\n",
      "Train Epoch 392, Train Loss: 788.024948, Learning Rate 2.014736229105703e-05: 100%|██████████| 60000/60000 [00:02<00:00, 27492.98it/s]\n",
      "Train Epoch 393, Train Loss: 787.846196, Learning Rate 1.9969196429483998e-05: 100%|██████████| 60000/60000 [00:02<00:00, 25399.71it/s]\n",
      "Train Epoch 394, Train Loss: 787.640140, Learning Rate 1.979241352405358e-05: 100%|██████████| 60000/60000 [00:02<00:00, 27172.18it/s]\n",
      "Train Epoch 395, Train Loss: 787.521507, Learning Rate 1.961702055385221e-05: 100%|██████████| 60000/60000 [00:02<00:00, 25718.07it/s]\n",
      "Train Epoch 396, Train Loss: 787.211022, Learning Rate 1.944302444309398e-05: 100%|██████████| 60000/60000 [00:02<00:00, 27397.53it/s]\n",
      "Train Epoch 397, Train Loss: 787.372591, Learning Rate 1.9270432060847454e-05: 100%|██████████| 60000/60000 [00:02<00:00, 26020.68it/s]\n",
      "Train Epoch 398, Train Loss: 787.193246, Learning Rate 1.9099250220764357e-05: 100%|██████████| 60000/60000 [00:02<00:00, 26946.64it/s]\n",
      "Train Epoch 399, Train Loss: 786.920844, Learning Rate 1.8929485680810593e-05: 100%|██████████| 60000/60000 [00:02<00:00, 25939.92it/s]\n",
      "Train Epoch 400, Train Loss: 786.771414, Learning Rate 1.876114514299956e-05: 100%|██████████| 60000/60000 [00:02<00:00, 25649.34it/s]\n",
      "Val Loss: 994.797011:  92%|█████████▏| 9216/10000 [00:00<00:00, 15130.80it/s]\n",
      "Train Epoch 401, Train Loss: 786.624380, Learning Rate 1.8594235253127415e-05: 100%|██████████| 60000/60000 [00:02<00:00, 28054.45it/s]\n",
      "Train Epoch 402, Train Loss: 786.508695, Learning Rate 1.8428762600510816e-05: 100%|██████████| 60000/60000 [00:01<00:00, 30901.99it/s]\n",
      "Train Epoch 403, Train Loss: 786.534738, Learning Rate 1.8264733717726766e-05: 100%|██████████| 60000/60000 [00:02<00:00, 29299.78it/s]\n",
      "Train Epoch 404, Train Loss: 786.504768, Learning Rate 1.8102155080354697e-05: 100%|██████████| 60000/60000 [00:02<00:00, 26731.92it/s]\n",
      "Train Epoch 405, Train Loss: 786.310685, Learning Rate 1.7941033106720805e-05: 100%|██████████| 60000/60000 [00:02<00:00, 26238.47it/s]\n",
      "Train Epoch 406, Train Loss: 786.514043, Learning Rate 1.7781374157644762e-05: 100%|██████████| 60000/60000 [00:02<00:00, 28866.62it/s]\n",
      "Train Epoch 407, Train Loss: 786.303233, Learning Rate 1.7623184536188475e-05: 100%|██████████| 60000/60000 [00:02<00:00, 27276.16it/s]\n",
      "Train Epoch 408, Train Loss: 785.785981, Learning Rate 1.746647048740733e-05: 100%|██████████| 60000/60000 [00:02<00:00, 25591.98it/s]\n",
      "Train Epoch 409, Train Loss: 785.871934, Learning Rate 1.7311238198103664e-05: 100%|██████████| 60000/60000 [00:02<00:00, 25358.03it/s]\n",
      "Train Epoch 410, Train Loss: 785.943579, Learning Rate 1.7157493796582432e-05: 100%|██████████| 60000/60000 [00:02<00:00, 27143.72it/s]\n",
      "Val Loss: 992.813585:  92%|█████████▏| 9216/10000 [00:00<00:00, 12869.41it/s]\n",
      "Train Epoch 411, Train Loss: 785.794417, Learning Rate 1.700524335240936e-05: 100%|██████████| 60000/60000 [00:01<00:00, 32348.67it/s]\n",
      "Train Epoch 412, Train Loss: 785.567903, Learning Rate 1.685449287617129e-05: 100%|██████████| 60000/60000 [00:02<00:00, 26413.38it/s]\n",
      "Train Epoch 413, Train Loss: 785.584268, Learning Rate 1.6705248319238907e-05: 100%|██████████| 60000/60000 [00:02<00:00, 26613.38it/s]\n",
      "Train Epoch 414, Train Loss: 785.363405, Learning Rate 1.6557515573531748e-05: 100%|██████████| 60000/60000 [00:02<00:00, 26035.90it/s]\n",
      "Train Epoch 415, Train Loss: 785.462715, Learning Rate 1.641130047128569e-05: 100%|██████████| 60000/60000 [00:01<00:00, 32283.74it/s]\n",
      "Train Epoch 416, Train Loss: 785.096381, Learning Rate 1.6266608784822575e-05: 100%|██████████| 60000/60000 [00:02<00:00, 27252.42it/s]\n",
      "Train Epoch 417, Train Loss: 785.165116, Learning Rate 1.6123446226322434e-05: 100%|██████████| 60000/60000 [00:02<00:00, 27988.27it/s]\n",
      "Train Epoch 418, Train Loss: 784.974932, Learning Rate 1.598181844759798e-05: 100%|██████████| 60000/60000 [00:02<00:00, 29269.42it/s]\n",
      "Train Epoch 419, Train Loss: 785.073132, Learning Rate 1.584173103987137e-05: 100%|██████████| 60000/60000 [00:02<00:00, 26783.80it/s]\n",
      "Train Epoch 420, Train Loss: 784.808112, Learning Rate 1.570318953355362e-05: 100%|██████████| 60000/60000 [00:02<00:00, 25468.49it/s]\n",
      "Val Loss: 995.365594:  92%|█████████▏| 9216/10000 [00:00<00:00, 15143.94it/s]\n",
      "Train Epoch 421, Train Loss: 784.643839, Learning Rate 1.5566199398026166e-05: 100%|██████████| 60000/60000 [00:02<00:00, 27465.55it/s]\n",
      "Train Epoch 422, Train Loss: 784.605385, Learning Rate 1.5430766041425002e-05: 100%|██████████| 60000/60000 [00:02<00:00, 26024.81it/s]\n",
      "Train Epoch 423, Train Loss: 784.496279, Learning Rate 1.5296894810427124e-05: 100%|██████████| 60000/60000 [00:02<00:00, 29943.40it/s]\n",
      "Train Epoch 424, Train Loss: 784.333471, Learning Rate 1.5164590990039546e-05: 100%|██████████| 60000/60000 [00:02<00:00, 25838.75it/s]\n",
      "Train Epoch 425, Train Loss: 784.277236, Learning Rate 1.5033859803390525e-05: 100%|██████████| 60000/60000 [00:02<00:00, 29301.25it/s]\n",
      "Train Epoch 426, Train Loss: 784.396057, Learning Rate 1.4904706411523476e-05: 100%|██████████| 60000/60000 [00:02<00:00, 26468.56it/s]\n",
      "Train Epoch 427, Train Loss: 784.355348, Learning Rate 1.4777135913193156e-05: 100%|██████████| 60000/60000 [00:02<00:00, 29142.07it/s]\n",
      "Train Epoch 428, Train Loss: 784.106437, Learning Rate 1.465115334466441e-05: 100%|██████████| 60000/60000 [00:02<00:00, 26263.67it/s]\n",
      "Train Epoch 429, Train Loss: 784.015347, Learning Rate 1.4526763679513327e-05: 100%|██████████| 60000/60000 [00:02<00:00, 27217.61it/s]\n",
      "Train Epoch 430, Train Loss: 783.843109, Learning Rate 1.4403971828430898e-05: 100%|██████████| 60000/60000 [00:02<00:00, 29899.05it/s]\n",
      "Val Loss: 997.111545:  92%|█████████▏| 9216/10000 [00:00<00:00, 15281.60it/s]\n",
      "Train Epoch 431, Train Loss: 783.934202, Learning Rate 1.4282782639029154e-05: 100%|██████████| 60000/60000 [00:01<00:00, 30447.01it/s]\n",
      "Train Epoch 432, Train Loss: 783.629120, Learning Rate 1.4163200895649759e-05: 100%|██████████| 60000/60000 [00:02<00:00, 27672.83it/s]\n",
      "Train Epoch 433, Train Loss: 783.855633, Learning Rate 1.4045231319175219e-05: 100%|██████████| 60000/60000 [00:02<00:00, 26213.50it/s]\n",
      "Train Epoch 434, Train Loss: 783.470145, Learning Rate 1.3928878566842398e-05: 100%|██████████| 60000/60000 [00:02<00:00, 27661.62it/s]\n",
      "Train Epoch 435, Train Loss: 783.670497, Learning Rate 1.3814147232058732e-05: 100%|██████████| 60000/60000 [00:01<00:00, 30985.64it/s]\n",
      "Train Epoch 436, Train Loss: 783.529032, Learning Rate 1.370104184422087e-05: 100%|██████████| 60000/60000 [00:02<00:00, 29491.00it/s]\n",
      "Train Epoch 437, Train Loss: 783.279871, Learning Rate 1.3589566868535863e-05: 100%|██████████| 60000/60000 [00:01<00:00, 32252.30it/s]\n",
      "Train Epoch 438, Train Loss: 783.294086, Learning Rate 1.3479726705844849e-05: 100%|██████████| 60000/60000 [00:01<00:00, 30380.68it/s]\n",
      "Train Epoch 439, Train Loss: 783.314339, Learning Rate 1.3371525692449401e-05: 100%|██████████| 60000/60000 [00:02<00:00, 27409.83it/s]\n",
      "Train Epoch 440, Train Loss: 783.136614, Learning Rate 1.326496809994026e-05: 100%|██████████| 60000/60000 [00:02<00:00, 25764.84it/s]\n",
      "Val Loss: 996.028910:  92%|█████████▏| 9216/10000 [00:00<00:00, 14877.41it/s]\n",
      "Train Epoch 441, Train Loss: 783.043493, Learning Rate 1.3160058135028702e-05: 100%|██████████| 60000/60000 [00:01<00:00, 30105.63it/s]\n",
      "Train Epoch 442, Train Loss: 783.253551, Learning Rate 1.3056799939380524e-05: 100%|██████████| 60000/60000 [00:02<00:00, 29288.80it/s]\n",
      "Train Epoch 443, Train Loss: 782.963934, Learning Rate 1.2955197589452475e-05: 100%|██████████| 60000/60000 [00:02<00:00, 27325.45it/s]\n",
      "Train Epoch 444, Train Loss: 783.008397, Learning Rate 1.2855255096331362e-05: 100%|██████████| 60000/60000 [00:02<00:00, 24558.01it/s]\n",
      "Train Epoch 445, Train Loss: 782.993339, Learning Rate 1.2756976405575682e-05: 100%|██████████| 60000/60000 [00:02<00:00, 23223.47it/s]\n",
      "Train Epoch 446, Train Loss: 782.527432, Learning Rate 1.2660365397059873e-05: 100%|██████████| 60000/60000 [00:02<00:00, 24306.95it/s]\n",
      "Train Epoch 447, Train Loss: 782.637342, Learning Rate 1.256542588482111e-05: 100%|██████████| 60000/60000 [00:02<00:00, 24460.59it/s]\n",
      "Train Epoch 448, Train Loss: 782.621694, Learning Rate 1.2472161616908802e-05: 100%|██████████| 60000/60000 [00:02<00:00, 25675.89it/s]\n",
      "Train Epoch 449, Train Loss: 782.407129, Learning Rate 1.2380576275236523e-05: 100%|██████████| 60000/60000 [00:02<00:00, 26206.77it/s]\n",
      "Train Epoch 450, Train Loss: 782.540073, Learning Rate 1.2290673475436751e-05: 100%|██████████| 60000/60000 [00:02<00:00, 26445.70it/s]\n",
      "Val Loss: 996.061944:  92%|█████████▏| 9216/10000 [00:00<00:00, 15368.11it/s]\n",
      "Train Epoch 451, Train Loss: 781.930254, Learning Rate 1.2202456766718103e-05: 100%|██████████| 60000/60000 [00:02<00:00, 26739.67it/s]\n",
      "Train Epoch 452, Train Loss: 782.149020, Learning Rate 1.2115929631725168e-05: 100%|██████████| 60000/60000 [00:02<00:00, 26299.18it/s]\n",
      "Train Epoch 453, Train Loss: 782.217166, Learning Rate 1.2031095486401078e-05: 100%|██████████| 60000/60000 [00:02<00:00, 28229.50it/s]\n",
      "Train Epoch 454, Train Loss: 781.973752, Learning Rate 1.1947957679852635e-05: 100%|██████████| 60000/60000 [00:02<00:00, 27987.04it/s]\n",
      "Train Epoch 455, Train Loss: 782.085182, Learning Rate 1.1866519494218096e-05: 100%|██████████| 60000/60000 [00:02<00:00, 26304.35it/s]\n",
      "Train Epoch 456, Train Loss: 781.728569, Learning Rate 1.178678414453757e-05: 100%|██████████| 60000/60000 [00:02<00:00, 25953.13it/s]\n",
      "Train Epoch 457, Train Loss: 781.920417, Learning Rate 1.1708754778626146e-05: 100%|██████████| 60000/60000 [00:02<00:00, 25767.00it/s]\n",
      "Train Epoch 458, Train Loss: 781.802888, Learning Rate 1.163243447694957e-05: 100%|██████████| 60000/60000 [00:02<00:00, 26281.06it/s]\n",
      "Train Epoch 459, Train Loss: 781.674273, Learning Rate 1.1557826252502682e-05: 100%|██████████| 60000/60000 [00:02<00:00, 27572.91it/s]\n",
      "Train Epoch 460, Train Loss: 781.538322, Learning Rate 1.1484933050690432e-05: 100%|██████████| 60000/60000 [00:01<00:00, 31874.61it/s]\n",
      "Val Loss: 998.274950:  92%|█████████▏| 9216/10000 [00:00<00:00, 15528.04it/s]\n",
      "Train Epoch 461, Train Loss: 781.454710, Learning Rate 1.1413757749211607e-05: 100%|██████████| 60000/60000 [00:02<00:00, 26677.98it/s]\n",
      "Train Epoch 462, Train Loss: 781.673933, Learning Rate 1.1344303157945245e-05: 100%|██████████| 60000/60000 [00:02<00:00, 26207.43it/s]\n",
      "Train Epoch 463, Train Loss: 781.486693, Learning Rate 1.1276572018839676e-05: 100%|██████████| 60000/60000 [00:02<00:00, 25713.98it/s]\n",
      "Train Epoch 464, Train Loss: 781.207589, Learning Rate 1.121056700580431e-05: 100%|██████████| 60000/60000 [00:02<00:00, 28815.27it/s]\n",
      "Train Epoch 465, Train Loss: 781.401594, Learning Rate 1.1146290724604028e-05: 100%|██████████| 60000/60000 [00:02<00:00, 28873.10it/s]\n",
      "Train Epoch 466, Train Loss: 781.378183, Learning Rate 1.1083745712756373e-05: 100%|██████████| 60000/60000 [00:02<00:00, 27219.77it/s]\n",
      "Train Epoch 467, Train Loss: 781.336235, Learning Rate 1.1022934439431297e-05: 100%|██████████| 60000/60000 [00:02<00:00, 25604.82it/s]\n",
      "Train Epoch 468, Train Loss: 781.241860, Learning Rate 1.096385930535376e-05: 100%|██████████| 60000/60000 [00:02<00:00, 26373.78it/s]\n",
      "Train Epoch 469, Train Loss: 781.281109, Learning Rate 1.0906522642708893e-05: 100%|██████████| 60000/60000 [00:02<00:00, 25940.62it/s]\n",
      "Train Epoch 470, Train Loss: 781.095710, Learning Rate 1.0850926715049973e-05: 100%|██████████| 60000/60000 [00:02<00:00, 26101.03it/s]\n",
      "Val Loss: 999.596761:  92%|█████████▏| 9216/10000 [00:00<00:00, 14903.98it/s]\n",
      "Train Epoch 471, Train Loss: 781.223557, Learning Rate 1.079707371720901e-05: 100%|██████████| 60000/60000 [00:02<00:00, 26817.10it/s]\n",
      "Train Epoch 472, Train Loss: 780.976764, Learning Rate 1.0744965775210165e-05: 100%|██████████| 60000/60000 [00:02<00:00, 26628.11it/s]\n",
      "Train Epoch 473, Train Loss: 780.769060, Learning Rate 1.0694604946185762e-05: 100%|██████████| 60000/60000 [00:02<00:00, 26045.45it/s]\n",
      "Train Epoch 474, Train Loss: 780.878119, Learning Rate 1.064599321829509e-05: 100%|██████████| 60000/60000 [00:02<00:00, 27688.02it/s]\n",
      "Train Epoch 475, Train Loss: 780.909493, Learning Rate 1.059913251064594e-05: 100%|██████████| 60000/60000 [00:02<00:00, 26536.25it/s]\n",
      "Train Epoch 476, Train Loss: 780.805104, Learning Rate 1.0554024673218808e-05: 100%|██████████| 60000/60000 [00:02<00:00, 26562.20it/s]\n",
      "Train Epoch 477, Train Loss: 780.593172, Learning Rate 1.0510671486793875e-05: 100%|██████████| 60000/60000 [00:02<00:00, 25198.25it/s]\n",
      "Train Epoch 478, Train Loss: 780.471364, Learning Rate 1.046907466288071e-05: 100%|██████████| 60000/60000 [00:02<00:00, 25737.27it/s]\n",
      "Train Epoch 479, Train Loss: 780.253780, Learning Rate 1.0429235843650698e-05: 100%|██████████| 60000/60000 [00:02<00:00, 27819.62it/s]\n",
      "Train Epoch 480, Train Loss: 780.299585, Learning Rate 1.0391156601872204e-05: 100%|██████████| 60000/60000 [00:02<00:00, 26969.21it/s]\n",
      "Val Loss: 997.564799:  92%|█████████▏| 9216/10000 [00:00<00:00, 14420.18it/s]\n",
      "Train Epoch 481, Train Loss: 780.277822, Learning Rate 1.0354838440848501e-05: 100%|██████████| 60000/60000 [00:02<00:00, 26020.75it/s]\n",
      "Train Epoch 482, Train Loss: 780.236584, Learning Rate 1.0320282794358388e-05: 100%|██████████| 60000/60000 [00:01<00:00, 30576.51it/s]\n",
      "Train Epoch 483, Train Loss: 780.523652, Learning Rate 1.0287491026599623e-05: 100%|██████████| 60000/60000 [00:02<00:00, 27721.87it/s]\n",
      "Train Epoch 484, Train Loss: 780.221937, Learning Rate 1.0256464432135048e-05: 100%|██████████| 60000/60000 [00:02<00:00, 26348.27it/s]\n",
      "Train Epoch 485, Train Loss: 780.060419, Learning Rate 1.0227204235841491e-05: 100%|██████████| 60000/60000 [00:02<00:00, 26189.46it/s]\n",
      "Train Epoch 486, Train Loss: 779.966966, Learning Rate 1.0199711592861399e-05: 100%|██████████| 60000/60000 [00:02<00:00, 25703.07it/s]\n",
      "Train Epoch 487, Train Loss: 779.993742, Learning Rate 1.0173987588557236e-05: 100%|██████████| 60000/60000 [00:02<00:00, 26037.33it/s]\n",
      "Train Epoch 488, Train Loss: 779.682203, Learning Rate 1.0150033238468655e-05: 100%|██████████| 60000/60000 [00:02<00:00, 26505.74it/s]\n",
      "Train Epoch 489, Train Loss: 779.797491, Learning Rate 1.0127849488272372e-05: 100%|██████████| 60000/60000 [00:02<00:00, 25534.53it/s]\n",
      "Train Epoch 490, Train Loss: 779.962361, Learning Rate 1.0107437213744863e-05: 100%|██████████| 60000/60000 [00:02<00:00, 26670.06it/s]\n",
      "Val Loss: 996.312690:  92%|█████████▏| 9216/10000 [00:00<00:00, 14933.08it/s]\n",
      "Train Epoch 491, Train Loss: 779.873005, Learning Rate 1.0088797220727778e-05: 100%|██████████| 60000/60000 [00:02<00:00, 28836.34it/s]\n",
      "Train Epoch 492, Train Loss: 779.849945, Learning Rate 1.0071930245096122e-05: 100%|██████████| 60000/60000 [00:02<00:00, 28347.71it/s]\n",
      "Train Epoch 493, Train Loss: 779.753645, Learning Rate 1.0056836952729212e-05: 100%|██████████| 60000/60000 [00:02<00:00, 25530.17it/s]\n",
      "Train Epoch 494, Train Loss: 779.706741, Learning Rate 1.0043517939484387e-05: 100%|██████████| 60000/60000 [00:02<00:00, 25852.84it/s]\n",
      "Train Epoch 495, Train Loss: 779.695368, Learning Rate 1.0031973731173485e-05: 100%|██████████| 60000/60000 [00:02<00:00, 27863.05it/s]\n",
      "Train Epoch 496, Train Loss: 779.615836, Learning Rate 1.0022204783542078e-05: 100%|██████████| 60000/60000 [00:02<00:00, 27918.19it/s]\n",
      "Train Epoch 497, Train Loss: 779.621073, Learning Rate 1.0014211482251503e-05: 100%|██████████| 60000/60000 [00:02<00:00, 29907.89it/s]\n",
      "Train Epoch 498, Train Loss: 779.681756, Learning Rate 1.0007994142863597e-05: 100%|██████████| 60000/60000 [00:01<00:00, 31447.77it/s]\n",
      "Train Epoch 499, Train Loss: 779.516240, Learning Rate 1.0003553010828276e-05: 100%|██████████| 60000/60000 [00:02<00:00, 27156.64it/s]\n",
      "Train Epoch 500, Train Loss: 779.555767, Learning Rate 1.0000888261473831e-05: 100%|██████████| 60000/60000 [00:02<00:00, 24912.51it/s]\n",
      "Val Loss: 1000.108493:  92%|█████████▏| 9216/10000 [00:00<00:00, 15819.29it/s]\n",
      "Epoch 500, Train Loss: 779.5557671875: 100%|██████████| 500/500 [19:13<00:00,  2.31s/it]   \n"
     ]
    }
   ],
   "source": [
    "# feel free to change training hyper-parameters!\n",
    "optimizer = torch.optim.Adam(cvae.parameters(), lr=1e-4)\n",
    "scheduler = torch.optim.lr_scheduler.CosineAnnealingLR(optimizer, T_max=500, eta_min=1e-5)\n",
    "train(500, cvae, train_loader, val_loader, optimizer, scheduler=scheduler,device=device, save_interval=10, now_epoch=500)"
   ]
  },
  {
   "cell_type": "code",
   "execution_count": null,
   "id": "39c8d308",
   "metadata": {},
   "outputs": [],
   "source": [
    "# # feel free to change training hyper-parameters!\n",
    "# optimizer = torch.optim.Adam(cvae.parameters(), lr=2e-4)\n",
    "# scheduler = torch.optim.lr_scheduler.CosineAnnealingLR(optimizer, T_max=500, eta_min=1e-5)\n",
    "# train(500, cvae, train_loader, val_loader, optimizer, scheduler=scheduler,device=device, save_interval=10)"
   ]
  },
  {
   "cell_type": "markdown",
   "id": "0855408b",
   "metadata": {
    "deletable": false,
    "editable": false,
    "id": "0855408b",
    "nbgrader": {
     "cell_type": "markdown",
     "checksum": "14e2df23954d25097e6abd8aa949ba59",
     "grade": false,
     "grade_id": "cell-b2a25a74aeb23f85",
     "locked": true,
     "schema_version": 3,
     "solution": false,
     "task": false
    }
   },
   "source": [
    "## Evaluation\n",
    "\n",
    "Make sure your code runs fine with the following cells!"
   ]
  },
  {
   "cell_type": "code",
   "execution_count": null,
   "id": "baf9adcd",
   "metadata": {
    "deletable": false,
    "editable": false,
    "nbgrader": {
     "cell_type": "code",
     "checksum": "fde2594d4b9784d93be6dba2a6256346",
     "grade": false,
     "grade_id": "cell-c589aa5203854893",
     "locked": true,
     "schema_version": 3,
     "solution": false,
     "task": false
    }
   },
   "outputs": [
    {
     "name": "stderr",
     "output_type": "stream",
     "text": [
      "/scorpio/home/liuhanzuo/DL2025/CodingProject3/utils.py:26: FutureWarning: You are using `torch.load` with `weights_only=False` (the current default value), which uses the default pickle module implicitly. It is possible to construct malicious pickle data which will execute arbitrary code during unpickling (See https://github.com/pytorch/pytorch/blob/main/SECURITY.md#untrusted-models for more details). In a future release, the default value for `weights_only` will be flipped to `True`. This limits the functions that could be executed during unpickling. Arbitrary objects will no longer be allowed to be loaded via this mode unless they are explicitly allowlisted by the user via `torch.serialization.add_safe_globals`. We recommend you start setting `weights_only=True` for any use case where you don't have full control of the loaded file. Please open an issue on GitHub for any issues related to this experimental feature.\n",
      "  checkpoint = torch.load(load_path)\n"
     ]
    }
   ],
   "source": [
    "# collect model-generated samples\n",
    "cvae.load_state_dict(load_model('./vae/vae_best.pth')[0])\n",
    "cvae.make_dataset(n_samples_per_class=100)"
   ]
  },
  {
   "cell_type": "code",
   "execution_count": null,
   "id": "d2744f61",
   "metadata": {},
   "outputs": [
    {
     "name": "stdout",
     "output_type": "stream",
     "text": [
      "Standard deviation of number 0: 0.2326744645833969\n",
      "Standard deviation of number 1: 0.15815867483615875\n",
      "Standard deviation of number 2: 0.20202414691448212\n",
      "Standard deviation of number 3: 0.1929437220096588\n",
      "Standard deviation of number 4: 0.16866083443164825\n",
      "Standard deviation of number 5: 0.21034634113311768\n",
      "Standard deviation of number 6: 0.20702821016311646\n",
      "Standard deviation of number 7: 0.18201765418052673\n",
      "Standard deviation of number 8: 0.18764667212963104\n",
      "Standard deviation of number 9: 0.1673002392053604\n"
     ]
    }
   ],
   "source": [
    "@torch.no_grad()\n",
    "def make_dataset(self, n_samples_per_class=10, save=True, save_dir='./vae/generated/'):\n",
    "    self.eval()\n",
    "    device = next(self.parameters()).device\n",
    "    for i in range(self.label_size):\n",
    "        label = torch.zeros(n_samples_per_class, self.label_size, device=device)\n",
    "        label[:, i] = 1\n",
    "        samples = self.decode(torch.randn(\n",
    "            n_samples_per_class, self.latent_size).to(device), label)\n",
    "        imgs = samples.view(n_samples_per_class, 1, 28, 28).clamp(0., 1.)\n",
    "        print(f\"Standard deviation of number {i}: {torch.std(imgs, dim=0).mean().item()}\")\n",
    "        if save:\n",
    "            os.makedirs(os.path.join(save_dir, str(i)), exist_ok=True)\n",
    "            for j in range(n_samples_per_class):\n",
    "                torchvision.utils.save_image(imgs[j], os.path.join(save_dir, str(i), \"{}_{:>03d}.png\".format(i, j)))\n",
    "make_dataset(cvae,n_samples_per_class=100)"
   ]
  },
  {
   "cell_type": "code",
   "execution_count": null,
   "id": "50ab5f99",
   "metadata": {
    "deletable": false,
    "editable": false,
    "id": "50ab5f99",
    "nbgrader": {
     "cell_type": "code",
     "checksum": "203909f47398d9909818a2caf9c15dc2",
     "grade": false,
     "grade_id": "cell-2b3416223f0c4c34",
     "locked": true,
     "schema_version": 3,
     "solution": false,
     "task": false
    }
   },
   "outputs": [
    {
     "name": "stdout",
     "output_type": "stream",
     "text": [
      "Requirement already satisfied: scipy in /scorpio/home/liuhanzuo/.conda/envs/dl/lib/python3.8/site-packages (1.10.1)\n",
      "Requirement already satisfied: numpy<1.27.0,>=1.19.5 in /scorpio/home/liuhanzuo/.conda/envs/dl/lib/python3.8/site-packages (from scipy) (1.24.4)\n",
      "/scorpio/home/liuhanzuo/.conda/envs/dl/lib/python3.8/site-packages/torchvision/models/_utils.py:208: UserWarning: The parameter 'pretrained' is deprecated since 0.13 and may be removed in the future, please use 'weights' instead.\n",
      "  warnings.warn(\n",
      "/scorpio/home/liuhanzuo/.conda/envs/dl/lib/python3.8/site-packages/torchvision/models/_utils.py:223: UserWarning: Arguments other than a weight enum or `None` for 'weights' are deprecated since 0.13 and may be removed in the future. The current behavior is equivalent to passing `weights=Inception_V3_Weights.IMAGENET1K_V1`. You can also use `weights=Inception_V3_Weights.DEFAULT` to get the most up-to-date weights.\n",
      "  warnings.warn(msg)\n",
      "evaluate_cgen.py:115: FutureWarning: You are using `torch.load` with `weights_only=False` (the current default value), which uses the default pickle module implicitly. It is possible to construct malicious pickle data which will execute arbitrary code during unpickling (See https://github.com/pytorch/pytorch/blob/main/SECURITY.md#untrusted-models for more details). In a future release, the default value for `weights_only` will be flipped to `True`. This limits the functions that could be executed during unpickling. Arbitrary objects will no longer be allowed to be loaded via this mode unless they are explicitly allowlisted by the user via `torch.serialization.add_safe_globals`. We recommend you start setting `weights_only=True` for any use case where you don't have full control of the loaded file. Please open an issue on GitHub for any issues related to this experimental feature.\n",
      "  model.load_state_dict(torch.load(\"MnistInceptionV3.pth\"))\n",
      "100%|███████████████████████████████████████████| 10/10 [00:54<00:00,  5.50s/it]\n",
      "FID score for 10 classes: [322.44196  76.15861 434.98022 427.0567  611.6339  616.7012  299.4312\n",
      " 452.64212 288.40643 379.35648]\n"
     ]
    }
   ],
   "source": [
    "# run evaluation\n",
    "!pip install scipy\n",
    "!python evaluate_cgen.py --vae"
   ]
  }
 ],
 "metadata": {
  "colab": {
   "provenance": []
  },
  "kernelspec": {
   "display_name": "Python 3",
   "language": "python",
   "name": "python3"
  },
  "language_info": {
   "codemirror_mode": {
    "name": "ipython",
    "version": 3
   },
   "file_extension": ".py",
   "mimetype": "text/x-python",
   "name": "python",
   "nbconvert_exporter": "python",
   "pygments_lexer": "ipython3",
   "version": "3.8.20"
  },
  "toc": {
   "base_numbering": 1,
   "nav_menu": {},
   "number_sections": false,
   "sideBar": true,
   "skip_h1_title": false,
   "title_cell": "Table of Contents",
   "title_sidebar": "Contents",
   "toc_cell": false,
   "toc_position": {},
   "toc_section_display": true,
   "toc_window_display": false
  }
 },
 "nbformat": 4,
 "nbformat_minor": 5
}
