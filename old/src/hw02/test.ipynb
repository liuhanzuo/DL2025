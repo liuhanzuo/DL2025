{
 "cells": [
  {
   "cell_type": "code",
   "execution_count": 1,
   "metadata": {},
   "outputs": [],
   "source": [
    "def nablaf(x):\n",
    "    if x<1:\n",
    "        return 50*x\n",
    "    elif 1<=x and x<2:\n",
    "        return 2*x+48\n",
    "    else:\n",
    "        return 50*x-48"
   ]
  },
  {
   "cell_type": "code",
   "execution_count": 2,
   "metadata": {},
   "outputs": [
    {
     "name": "stdout",
     "output_type": "stream",
     "text": [
      "[3.3, -9.7, 38.411111111111104, -148.26790123456786, 592.4742112482852, -2364.4971345831427, 9457.388570509236, -37824.15428561213, 151296.01714284573, -605178.668571427, 2420714.0742857126]\n"
     ]
    }
   ],
   "source": [
    "x0 = 3.3\n",
    "x_lst = [x0]\n",
    "N = 10\n",
    "eta = 1/9;beta = 4/9\n",
    "while(len(x_lst)<=N):\n",
    "    xk = x_lst[-1]\n",
    "    xk_plus1= xk-eta*nablaf(xk)+(0 if len(x_lst)==1 else beta*(xk-x_lst[-2]))\n",
    "    x_lst.append(xk_plus1)\n",
    "print(x_lst)"
   ]
  },
  {
   "cell_type": "code",
   "execution_count": null,
   "metadata": {},
   "outputs": [],
   "source": []
  }
 ],
 "metadata": {
  "kernelspec": {
   "display_name": "base",
   "language": "python",
   "name": "python3"
  },
  "language_info": {
   "codemirror_mode": {
    "name": "ipython",
    "version": 3
   },
   "file_extension": ".py",
   "mimetype": "text/x-python",
   "name": "python",
   "nbconvert_exporter": "python",
   "pygments_lexer": "ipython3",
   "version": "3.7.0"
  }
 },
 "nbformat": 4,
 "nbformat_minor": 2
}
