{
 "cells": [
  {
   "cell_type": "code",
   "execution_count": 1,
   "metadata": {},
   "outputs": [
    {
     "name": "stdout",
     "output_type": "stream",
     "text": [
      "tensor([0.])\n",
      "tensor([-0.3989])\n"
     ]
    }
   ],
   "source": [
    "import torch\n",
    "from torch.distributions.normal import Normal\n",
    "\n",
    "# Define mu and sigma as tensors with requires_grad=True\n",
    "mu = torch.tensor([0.0], requires_grad=True)  # mean\n",
    "sigma = torch.tensor([1.0], requires_grad=True)  # standard deviation\n",
    "\n",
    "# Create a Normal distribution object\n",
    "dist = Normal(mu, sigma)\n",
    "\n",
    "# Calculate the probability density function at value 0\n",
    "prob = dist.log_prob(torch.tensor([0.0])).exp()\n",
    "\n",
    "# Use backward() to compute the gradients\n",
    "prob.backward()\n",
    "\n",
    "# Print the gradients\n",
    "print(mu.grad)  # Gradient of prob w.r.t. mu\n",
    "print(sigma.grad)  # Gradient of prob w.r.t. sigma"
   ]
  },
  {
   "cell_type": "code",
   "execution_count": null,
   "metadata": {},
   "outputs": [],
   "source": []
  }
 ],
 "metadata": {
  "kernelspec": {
   "display_name": "DYY",
   "language": "python",
   "name": "python3"
  },
  "language_info": {
   "codemirror_mode": {
    "name": "ipython",
    "version": 3
   },
   "file_extension": ".py",
   "mimetype": "text/x-python",
   "name": "python",
   "nbconvert_exporter": "python",
   "pygments_lexer": "ipython3",
   "version": "3.11.0"
  }
 },
 "nbformat": 4,
 "nbformat_minor": 2
}
