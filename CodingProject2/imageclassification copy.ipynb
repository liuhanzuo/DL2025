{
 "cells": [
  {
   "cell_type": "markdown",
   "id": "f2dc0c4a",
   "metadata": {
    "deletable": false,
    "editable": false,
    "nbgrader": {
     "cell_type": "markdown",
     "checksum": "91a04155783901da96bbe67b7a5e64bd",
     "grade": false,
     "grade_id": "cell-a336e6ffe0bd52b7",
     "locked": true,
     "schema_version": 3,
     "solution": false,
     "task": false
    }
   },
   "source": [
    "## Deep Learning Coding Project 2: Image Classification\n",
    "\n",
    "Before we start, please put your **Chinese** name and student ID in following format:\n",
    "\n",
    "Name, 0000000000 // e.g.) 傅炜, 2021123123"
   ]
  },
  {
   "cell_type": "markdown",
   "id": "8a648ddc",
   "metadata": {
    "deletable": false,
    "nbgrader": {
     "cell_type": "markdown",
     "checksum": "933b227c504b89bf0c43186e8d0e39a1",
     "grade": true,
     "grade_id": "cell-13ce984a5d4a067a",
     "locked": false,
     "points": 0,
     "schema_version": 3,
     "solution": true,
     "task": false
    }
   },
   "source": [
    "刘涵祚,2024011303"
   ]
  },
  {
   "cell_type": "markdown",
   "id": "7468705d",
   "metadata": {
    "deletable": false,
    "editable": false,
    "nbgrader": {
     "cell_type": "markdown",
     "checksum": "cdd86b19ae7e03e9618718ef3c6ea9a0",
     "grade": false,
     "grade_id": "cell-a68075035123f58c",
     "locked": true,
     "schema_version": 3,
     "solution": false,
     "task": false
    }
   },
   "source": [
    "## Introduction\n",
    "\n",
    "We will use Python 3, [NumPy](https://numpy.org/), and [PyTorch](https://pytorch.org/) for this coding project. The example code has been tested under the latest stable release version.\n",
    "\n",
    "### Task\n",
    "\n",
    "In this notebook, you need to train a model to classify images. Given an image, you need to distinguish its category,\n",
    "e.g., whether it is a horse or an automobile. There are total 10 classes:\n",
    "airplane, automobile, bird, cat, deer, dog, frog, horse, ship and truck. We\n",
    "release 40,000 images for training, 10,000 images for validation. Each image has\n",
    "a shape of (3, 128, 128). We will evaluate your model in 10,000 images on the test set.\n",
    "\n",
    "Download the dataset from [here](https://cloud.tsinghua.edu.cn/d/00e0704738e04d32978b/) and organize them into a folder named \"cifar_10_4x\".\n",
    "\n",
    "<!-- Images can be classified as \"No Finding\" or **one or more types**. In the basic task, given an image, you only need to tell whether the X-ray indicates \"Infiltration\". In the bonus task, you need to tell whether *each* of the diseases exists.\n",
    "\n",
    "Images are taken from the [ChestX-ray14 dataset](https://www.kaggle.com/nih-chest-xrays/data) and downsampled to (256, 256). We release 44872 gray scale images for training and validation. We will evaluate your model on 10285 images in the test set. The dataset is available [here](https://cloud.tsinghua.edu.cn/d/16d06a89c5b4459db703/) and organized as follows: `train` directory includes all images for training and validation, and each line of `train.txt` records the labels separated by \"|\". -->\n",
    "\n",
    "### Coding\n",
    "\n",
    "We provide a code template. You can add new cells and modify our example to train your own model. To run this code, you should:\n",
    "\n",
    "+ implement your model (named `Net`) in `model.py`.\n",
    "+ implement your training loop in this notebook\n",
    "\n",
    "Your final submitted model should not be larger than **20M**. **Using any pretrained model is NOT permitted**.\n",
    "Besides, before you submit your result, **make sure you can test your model using our evaluation cell.** Name your best model \"cifar10_4x_best.pth\".\n",
    "\n",
    "### Report & Submission\n",
    "\n",
    "Your report should include:\n",
    "\n",
    "1. the details of your model\n",
    "2. all the hyper-parameters\n",
    "3. all the tricks or training techniques you use\n",
    "4. the training curve of your submitted model.\n",
    "\n",
    "Reporting additional ablation studies and how you improve your model are also encouraged.\n",
    "\n",
    "You should submit:\n",
    "\n",
    "+ all codes\n",
    "+ the model checkpoint (only \"cifar10_4x_best.pth\")\n",
    "+ your report (a separate \"pdf\")\n",
    "\n",
    "to web learning. We will use the evaluation code in this notebook to evaluate your model on the test set.\n",
    "\n",
    "### Grading\n",
    "\n",
    "We will grade this coding project based on the performance of your model (70%) and your report (30%). Regarding the evaluation metric of your model, assume your test accuracy is $X$, then your score is\n",
    "\n",
    "$\\frac{min(X,H)−0.6}{H−0.6}×7$\n",
    "\n",
    "where $H$ is accuracy of the model trained by TAs and $H=0.9$, i.e., you will get the full score if your test accuracy is above 90%.\n",
    "\n",
    "**Bonus**: The best submission with the highest testing accuracy will get 1 bonus point for the final course grade.\n",
    "\n",
    "**Avoid plagiarism! Any student who violates academic integrity will be seriously dealt with and receive an F for the course.**"
   ]
  },
  {
   "cell_type": "markdown",
   "id": "31f6d8c7",
   "metadata": {
    "deletable": false,
    "editable": false,
    "nbgrader": {
     "cell_type": "markdown",
     "checksum": "1ec5655a0d789db88709122c2a0ce6c9",
     "grade": false,
     "grade_id": "cell-4cee29f989d84cdc",
     "locked": true,
     "schema_version": 3,
     "solution": false,
     "task": false
    }
   },
   "source": [
    "## Code Template\n",
    "\n",
    "We have masked the the training loop in this notebook for you to complete. You should also overwrite \"model.py\" and implement your own model."
   ]
  },
  {
   "cell_type": "code",
   "execution_count": 1,
   "id": "d8c2354b",
   "metadata": {
    "deletable": false,
    "editable": false,
    "nbgrader": {
     "cell_type": "code",
     "checksum": "b34bc8b23f9c8e480a9671ef3453e7ac",
     "grade": false,
     "grade_id": "cell-a551fcc5ff27fb87",
     "locked": true,
     "schema_version": 3,
     "solution": false,
     "task": false
    }
   },
   "outputs": [],
   "source": [
    "# %load_ext autoreload\n",
    "# %autoreload 2"
   ]
  },
  {
   "cell_type": "markdown",
   "id": "62b4fcaa",
   "metadata": {
    "deletable": false,
    "editable": false,
    "nbgrader": {
     "cell_type": "markdown",
     "checksum": "4367d7a728b91da35685f558363c4d66",
     "grade": false,
     "grade_id": "cell-ce69007d45b9103b",
     "locked": true,
     "schema_version": 3,
     "solution": false,
     "task": false
    }
   },
   "source": [
    "### Setup Code\n",
    "\n",
    "If you use Colab in this coding project, please uncomment the code, fill the `GOOGLE_DRIVE_PATH_AFTER_MYDRIVE` and run the following cells to mount your Google drive. Then, the notebook can find the required file. If you run the notebook locally, you can skip the following cells."
   ]
  },
  {
   "cell_type": "code",
   "execution_count": 2,
   "id": "785a7720",
   "metadata": {},
   "outputs": [],
   "source": [
    "# from google.colab import drive\n",
    "# drive.mount('/content/drive')"
   ]
  },
  {
   "cell_type": "code",
   "execution_count": 3,
   "id": "ca391e22",
   "metadata": {},
   "outputs": [],
   "source": [
    "# import os\n",
    "\n",
    "# # TODO: Fill in the Google Drive path where you uploaded the assignment\n",
    "# # Example: If you create a 2022SP folder and put all the files under CP1 folder, then '2022SP/CP1'\n",
    "# # GOOGLE_DRIVE_PATH_AFTER_MYDRIVE = '2022SP/CP1'\n",
    "# GOOGLE_DRIVE_PATH_AFTER_MYDRIVE = None \n",
    "# GOOGLE_DRIVE_PATH = os.path.join('drive', 'MyDrive', GOOGLE_DRIVE_PATH_AFTER_MYDRIVE)\n",
    "# print(os.listdir(GOOGLE_DRIVE_PATH))"
   ]
  },
  {
   "cell_type": "code",
   "execution_count": 4,
   "id": "c62c2445",
   "metadata": {},
   "outputs": [],
   "source": [
    "# import sys\n",
    "# sys.path.append(GOOGLE_DRIVE_PATH)"
   ]
  },
  {
   "cell_type": "code",
   "execution_count": 5,
   "id": "2a227e03",
   "metadata": {
    "deletable": false,
    "editable": false,
    "nbgrader": {
     "cell_type": "code",
     "checksum": "8b7e3bc021f202881dd19297b1144711",
     "grade": false,
     "grade_id": "cell-e11eaf041d72deda",
     "locked": true,
     "schema_version": 3,
     "solution": false,
     "task": false
    }
   },
   "outputs": [],
   "source": [
    "from dataset import CIFAR10_4x\n",
    "from evaluation import evaluation\n",
    "\n",
    "from torchvision.transforms.v2 import MixUp\n",
    "from model_dropout import Net  # this should be implemented by yourself\n",
    "from torch.utils.data import default_collate"
   ]
  },
  {
   "cell_type": "markdown",
   "id": "01370c88",
   "metadata": {},
   "source": [
    "### Enjoy Your Coding Time!"
   ]
  },
  {
   "cell_type": "code",
   "execution_count": 6,
   "id": "8ca3c36d",
   "metadata": {},
   "outputs": [],
   "source": [
    "import math\n",
    "import os\n",
    "import random\n",
    "import matplotlib.pyplot as plt\n",
    "import numpy as np\n",
    "import torch\n",
    "import torch.nn as nn\n",
    "import torch.nn.functional as F\n",
    "\n",
    "from torchvision import transforms\n",
    "from PIL import Image\n",
    "\n",
    "\n",
    "def set_seed(seed):\n",
    "    seed = int(seed)\n",
    "    if seed < 0 or seed > (2**32 - 1):\n",
    "        raise ValueError(\"Seed must be between 0 and 2**32 - 1\")\n",
    "    else:\n",
    "        random.seed(seed)\n",
    "        np.random.seed(seed)\n",
    "        torch.manual_seed(seed)\n",
    "        torch.cuda.manual_seed(seed)\n",
    "        torch.backends.cudnn.deterministic = True\n",
    "\n",
    "\n",
    "device = 'cuda' if torch.cuda.is_available() else 'cpu'\n",
    "set_seed(16)"
   ]
  },
  {
   "cell_type": "code",
   "execution_count": 7,
   "id": "ed366135",
   "metadata": {},
   "outputs": [],
   "source": [
    "data_root_dir = '.'\n",
    "\n",
    "transform = transforms.Compose([\n",
    "    transforms.ToTensor(),\n",
    "    transforms.Normalize([125 / 255, 124 / 255, 115 / 255],\n",
    "                         [60 / 255, 59 / 255, 64 / 255])\n",
    "    \n",
    "])\n",
    "\n",
    "\n",
    "train_transform = transforms.Compose([\n",
    "    transforms.RandomHorizontalFlip(),\n",
    "    transforms.RandomCrop(128, padding=4),\n",
    "    transforms.RandomRotation(30),  # 保持旋转角度不变\n",
    "    transforms.ColorJitter(brightness=0.3, contrast=0.3, saturation=0.3, hue=0.2),  # 增加颜色抖动的幅度\n",
    "    transforms.RandomGrayscale(p=0.2),  # 增加随机灰度化的概率\n",
    "    transforms.RandomAffine(degrees=0, translate=(0.25, 0.25)),  # 增加随机仿射变换的平移幅度\n",
    "    transforms.RandomPerspective(distortion_scale=0.3, p=0.5),  # 增加随机透视变换的失真比例\n",
    "    # MixUp(alpha=0.2),\n",
    "    transforms.ToTensor(),\n",
    "    transforms.Normalize([125 / 255, 124 / 255, 115 / 255],\n",
    "                         [60 / 255, 59 / 255, 64 / 255]),\n",
    "])\n"
   ]
  },
  {
   "cell_type": "code",
   "execution_count": 8,
   "id": "228d0018",
   "metadata": {},
   "outputs": [
    {
     "name": "stdout",
     "output_type": "stream",
     "text": [
      "Loading CIFAR10_4x at .\n",
      "Loading file at .\\cifar_10_4x\\train\n",
      "Loading CIFAR10_4x at .\n",
      "Loading file at .\\cifar_10_4x\\valid\n"
     ]
    }
   ],
   "source": [
    "NUMOFWORKERS = 1\n",
    "trainset = CIFAR10_4x(root=data_root_dir,\n",
    "                      split=\"train\", transform=train_transform)\n",
    "trainloader = torch.utils.data.DataLoader(\n",
    "    trainset, batch_size=128, shuffle=True, num_workers=NUMOFWORKERS, pin_memory=True)\n",
    "\n",
    "validset = CIFAR10_4x(root=data_root_dir,\n",
    "                      split='valid', transform=transform)\n",
    "validloader = torch.utils.data.DataLoader(\n",
    "    validset, batch_size=128, shuffle=False, num_workers=NUMOFWORKERS)"
   ]
  },
  {
   "cell_type": "code",
   "execution_count": 9,
   "id": "bc63d0c6",
   "metadata": {},
   "outputs": [
    {
     "name": "stdout",
     "output_type": "stream",
     "text": [
      "number of trained parameters: 4740682\n",
      "number of total parameters: 4740682\n",
      "cuda\n"
     ]
    }
   ],
   "source": [
    "####################################\n",
    "#                                  #\n",
    "#                                  #\n",
    "#                                  #\n",
    "#                                  #\n",
    "#        RUN THIS FOR NEW MODEL    #\n",
    "#                                  #\n",
    "#                                  #\n",
    "#                                  #\n",
    "#                                  #\n",
    "####################################\n",
    "net = Net()\n",
    "print(\"number of trained parameters: %d\" % (\n",
    "    sum([param.nelement() for param in net.parameters() if param.requires_grad])))\n",
    "print(\"number of total parameters: %d\" %\n",
    "      (sum([param.nelement() for param in net.parameters()])))\n",
    "\n",
    "criterion = nn.CrossEntropyLoss()\n",
    "train_history = []\n",
    "optimizer = torch.optim.Adam(net.parameters(), lr=1e-3)\n",
    "print(device)\n",
    "net.to(device)"
   ]
  },
  {
   "cell_type": "code",
   "execution_count": 10,
   "id": "c9e88bf8",
   "metadata": {},
   "outputs": [
    {
     "name": "stderr",
     "output_type": "stream",
     "text": [
      "\u001b[34m\u001b[1mwandb\u001b[0m: Currently logged in as: \u001b[33mlhz24\u001b[0m (\u001b[33mlhz24-tsinghua-university\u001b[0m) to \u001b[32mhttps://api.wandb.ai\u001b[0m. Use \u001b[1m`wandb login --relogin`\u001b[0m to force relogin\n",
      "\u001b[34m\u001b[1mwandb\u001b[0m: Using wandb-core as the SDK backend.  Please refer to https://wandb.me/wandb-core for more information.\n"
     ]
    },
    {
     "data": {
      "text/html": [
       "Tracking run with wandb version 0.19.6"
      ],
      "text/plain": [
       "<IPython.core.display.HTML object>"
      ]
     },
     "metadata": {},
     "output_type": "display_data"
    },
    {
     "data": {
      "text/html": [
       "Run data is saved locally in <code>d:\\DL\\CodingProject2\\wandb\\run-20250302_222401-tdudeape</code>"
      ],
      "text/plain": [
       "<IPython.core.display.HTML object>"
      ]
     },
     "metadata": {},
     "output_type": "display_data"
    },
    {
     "data": {
      "text/html": [
       "Syncing run <strong><a href='https://wandb.ai/lhz24-tsinghua-university/cifar10_4x_omoe/runs/tdudeape' target=\"_blank\">dashing-oath-26</a></strong> to <a href='https://wandb.ai/lhz24-tsinghua-university/cifar10_4x_omoe' target=\"_blank\">Weights & Biases</a> (<a href='https://wandb.me/developer-guide' target=\"_blank\">docs</a>)<br>"
      ],
      "text/plain": [
       "<IPython.core.display.HTML object>"
      ]
     },
     "metadata": {},
     "output_type": "display_data"
    },
    {
     "data": {
      "text/html": [
       " View project at <a href='https://wandb.ai/lhz24-tsinghua-university/cifar10_4x_omoe' target=\"_blank\">https://wandb.ai/lhz24-tsinghua-university/cifar10_4x_omoe</a>"
      ],
      "text/plain": [
       "<IPython.core.display.HTML object>"
      ]
     },
     "metadata": {},
     "output_type": "display_data"
    },
    {
     "data": {
      "text/html": [
       " View run at <a href='https://wandb.ai/lhz24-tsinghua-university/cifar10_4x_omoe/runs/tdudeape' target=\"_blank\">https://wandb.ai/lhz24-tsinghua-university/cifar10_4x_omoe/runs/tdudeape</a>"
      ],
      "text/plain": [
       "<IPython.core.display.HTML object>"
      ]
     },
     "metadata": {},
     "output_type": "display_data"
    },
    {
     "name": "stdout",
     "output_type": "stream",
     "text": [
      "Loaded model from cifar10_4x_best.pth\n"
     ]
    }
   ],
   "source": [
    "# NO EXECUTION\n",
    "import os\n",
    "import torch\n",
    "import wandb\n",
    "wandb.init(project='cifar10_4x_omoe')\n",
    "model_dir = './checkpoint_dropout0.5'\n",
    "if not os.path.exists(model_dir):\n",
    "    os.makedirs(model_dir)\n",
    "if not os.path.exists(os.path.join(model_dir, 'cifar10_4x_0.pth')):\n",
    "    torch.save(net, os.path.join(model_dir, 'cifar10_4x_0.pth'))\n",
    "\n",
    "# check the model size\n",
    "os.system(' '.join(['du', '-h', os.path.join(model_dir, 'cifar10_4x_0.pth')]))\n",
    "\n",
    "largest = 0\n",
    "while True:\n",
    "    if not os.path.exists(os.path.join(model_dir, 'cifar10_4x_%d.pth' % (largest + 1))):\n",
    "        break\n",
    "    largest += 1\n",
    "if os.path.exists(os.path.join(model_dir, f'cifar10_4x_best.pth')):\n",
    "    net = torch.load(os.path.join(model_dir, f'cifar10_4x_best.pth'), weights_only=False)\n",
    "else:\n",
    "    net = torch.load(os.path.join(model_dir, f'cifar10_4x_{largest}.pth'), weights_only=False)\n",
    "net.to(device)\n",
    "print(f\"Loaded model from cifar10_4x_best.pth\")\n",
    "log_path = os.path.join(model_dir, 'log.json')\n",
    "#create the file at log_path\n",
    "log_file = open(log_path, 'w')"
   ]
  },
  {
   "cell_type": "code",
   "execution_count": 11,
   "id": "45e11f0a",
   "metadata": {
    "deletable": false,
    "nbgrader": {
     "cell_type": "code",
     "checksum": "b9c6c195145fd44d054849497f0be5e3",
     "grade": false,
     "grade_id": "cell-2ea063d5855124d3",
     "locked": false,
     "schema_version": 3,
     "solution": true,
     "task": false
    }
   },
   "outputs": [],
   "source": [
    "import json\n",
    "mixup = MixUp(num_classes=10, alpha=0.5)\n",
    "def train(epochs:int, optimizer, scheduler):\n",
    "    ##############################################################################\n",
    "    #                  TODO: You need to complete the code here                  #\n",
    "    ##############################################################################\n",
    "    # YOUR CODE HERE\n",
    "    # print(optimizer.param_groups[0])\n",
    "    results = []\n",
    "    best_idx = 0\n",
    "    best_acc = 0\n",
    "    from tqdm import tqdm\n",
    "    from evaluation import evaluation\n",
    "    best_acc = evaluation(net, validloader, device)\n",
    "    print(f'best accuracy: {best_acc:.2f}%')\n",
    "    for epoch in range(epochs):\n",
    "        if epoch + largest > epochs:\n",
    "            break\n",
    "        net.train()\n",
    "        with tqdm(trainloader) as bar:\n",
    "            nums = trues = 0\n",
    "            losses = 0\n",
    "            for i, (xb, yb) in enumerate(bar): #这里 xb是图片 yb是标签\n",
    "                xb, yb = xb.to(device), yb.to(device)\n",
    "                # print(xb.shape, yb.shape)\n",
    "                xb, yb = mixup(xb, yb)\n",
    "                # print(xb.shape, yb.shape)\n",
    "                optimizer.zero_grad()\n",
    "                final_output, kl_loss_gate, kl_loss_expert_usage = net(xb)\n",
    "                # print(final_output.shape)\n",
    "                with torch.no_grad():\n",
    "                    # _, answer = final_output.max(dim=1)\n",
    "                    # trues += (answer == yb).sum().item()\n",
    "                    # nums += len(yb)\n",
    "                    # now final_output and yb are mixuped logits, shaped as (batch_size, num_classes)\n",
    "                    trues += (final_output.argmax(dim=1) == yb.argmax(dim=1)).sum().item()\n",
    "                    nums += yb.shape[0] \n",
    "                    # print(f'nums: {nums}, trues: {trues}')\n",
    "                loss = criterion(final_output, yb) + kl_loss_gate + kl_loss_expert_usage\n",
    "                losses += loss\n",
    "                loss.backward()\n",
    "                optimizer.step()\n",
    "                if (i % 1 == 0):\n",
    "                    train_loss = losses / nums\n",
    "                    bar.set_description(f'Epoch {epoch + largest}/{epochs}, accuracy {100 * trues / nums:.2f}%, train loss {train_loss:.4f}, kl_loss_gate {kl_loss_gate:.4f}, kl_loss_expert_usage {kl_loss_expert_usage:.4f}, learning rate {optimizer.param_groups[0][\"lr\"]}')\n",
    "        train_acc = 100 * trues / nums\n",
    "        print(f'train accuracy: {train_acc:.2f}%')\n",
    "        net.eval()\n",
    "        nums = loss = 0\n",
    "        kl_loss = 0\n",
    "        kl_loss_expert = 0\n",
    "        with tqdm(validloader) as bar:\n",
    "            with torch.no_grad():\n",
    "                for i, (xb, yb) in enumerate(bar):\n",
    "                    xb, yb = xb.to(device), yb.to(device)\n",
    "                    final_output, kl_loss_gate, kl_loss_expert_usage = net(xb)\n",
    "                    loss += criterion(final_output, yb) + kl_loss_gate + kl_loss_expert_usage\n",
    "                    nums += len(yb)\n",
    "                    kl_loss += kl_loss_gate\n",
    "                    kl_loss_expert += kl_loss_expert_usage\n",
    "        valid_loss = loss / nums\n",
    "        kl_loss_ = kl_loss / nums\n",
    "        kl_loss_expert_ = kl_loss_expert / nums\n",
    "        valid_acc = evaluation(net, validloader, device)\n",
    "        print(f'valid loss: {valid_loss:.4f}, valid accuracy: {valid_acc:.2f}%')\n",
    "        results.append({'train accuracy': train_acc, 'valid accuracy': valid_acc, 'loss': (losses / nums).sum().item(), 'valid loss': (valid_loss).sum().item()})\n",
    "        bar.set_description(f'Epoch {epoch + largest}/{epochs}, train accuracy {train_acc:.2f}%, valid accuracy {valid_acc:.2f}%, train loss {losses / nums:.4f}, valid loss {valid_loss:.4f}, kl_loss_gate {kl_loss_:.4f}, kl_loss_expert_usage {kl_loss_expert_:.4f}, learning rate {optimizer.param_groups[0][\"lr\"]}')\n",
    "        #save the checkpoint\n",
    "        scheduler.step()\n",
    "        # torch.save(net, os.path.join(model_dir, f'cifar10_4x_{epoch + largest}.pth'))\n",
    "        if valid_acc > best_acc:\n",
    "            best_acc = valid_acc\n",
    "            best_idx = epoch + largest\n",
    "            torch.save(net, os.path.join(model_dir, f'cifar10_4x_best.pth'))\n",
    "        print(f'best idx: {best_idx}, best accuracy: {best_acc:.2f}%')\n",
    "        with open(log_path, 'w') as f:\n",
    "            f.write(json.dumps(results) + '\\n')\n",
    "        wandb.log({\n",
    "            'epoch': epoch,\n",
    "            'train_loss': train_loss.item(),\n",
    "            'valid_loss': valid_loss.item(),\n",
    "            'train_accuracy': train_acc,\n",
    "            'valid_accuracy': valid_acc,\n",
    "            'learning_rate': optimizer.param_groups[0]['lr']\n",
    "        })\n",
    "    return train_acc, valid_acc\n",
    "    ##############################################################################\n",
    "    #                              END OF YOUR CODE                              #\n",
    "    ##############################################################################"
   ]
  },
  {
   "cell_type": "code",
   "execution_count": 12,
   "id": "5cf717e0",
   "metadata": {},
   "outputs": [],
   "source": [
    "torch.backends.cudnn.enabled = True"
   ]
  },
  {
   "cell_type": "code",
   "execution_count": 13,
   "id": "6e073ec2",
   "metadata": {},
   "outputs": [
    {
     "name": "stdout",
     "output_type": "stream",
     "text": [
      "cuda\n"
     ]
    },
    {
     "name": "stderr",
     "output_type": "stream",
     "text": [
      "                                                           \r"
     ]
    },
    {
     "name": "stdout",
     "output_type": "stream",
     "text": [
      "Accuracy of the network on the valid images: 27.39%\n",
      "best accuracy: 27.39%\n"
     ]
    },
    {
     "name": "stderr",
     "output_type": "stream",
     "text": [
      "Epoch 0/200, accuracy 25.57%, train loss 0.0161, kl_loss_gate 0.0000, kl_loss_expert_usage 0.0000, learning rate 0.0002: 100%|██████████| 313/313 [01:15<00:00,  4.15it/s]\n"
     ]
    },
    {
     "name": "stdout",
     "output_type": "stream",
     "text": [
      "train accuracy: 25.57%\n"
     ]
    },
    {
     "name": "stderr",
     "output_type": "stream",
     "text": [
      "100%|██████████| 79/79 [00:06<00:00, 12.94it/s]\n",
      "                                                           \r"
     ]
    },
    {
     "name": "stdout",
     "output_type": "stream",
     "text": [
      "Accuracy of the network on the valid images: 36.20%\n",
      "valid loss: 0.0135, valid accuracy: 36.20%\n",
      "best idx: 0, best accuracy: 36.20%\n"
     ]
    },
    {
     "name": "stderr",
     "output_type": "stream",
     "text": [
      "Epoch 1/200, accuracy 28.89%, train loss 0.0158, kl_loss_gate 0.0000, kl_loss_expert_usage 0.0000, learning rate 0.00019999454435186845: 100%|██████████| 313/313 [01:13<00:00,  4.24it/s]\n"
     ]
    },
    {
     "name": "stdout",
     "output_type": "stream",
     "text": [
      "train accuracy: 28.89%\n"
     ]
    },
    {
     "name": "stderr",
     "output_type": "stream",
     "text": [
      "100%|██████████| 79/79 [00:06<00:00, 13.07it/s]\n",
      "                                                           \r"
     ]
    },
    {
     "name": "stdout",
     "output_type": "stream",
     "text": [
      "Accuracy of the network on the valid images: 42.89%\n",
      "valid loss: 0.0125, valid accuracy: 42.89%\n",
      "best idx: 1, best accuracy: 42.89%\n"
     ]
    },
    {
     "name": "stderr",
     "output_type": "stream",
     "text": [
      "Epoch 2/200, accuracy 32.45%, train loss 0.0154, kl_loss_gate 0.0000, kl_loss_expert_usage 0.0000, learning rate 0.00019997817800574712: 100%|██████████| 313/313 [01:15<00:00,  4.15it/s]\n"
     ]
    },
    {
     "name": "stdout",
     "output_type": "stream",
     "text": [
      "train accuracy: 32.45%\n"
     ]
    },
    {
     "name": "stderr",
     "output_type": "stream",
     "text": [
      "100%|██████████| 79/79 [00:05<00:00, 13.25it/s]\n",
      "                                                           \r"
     ]
    },
    {
     "name": "stdout",
     "output_type": "stream",
     "text": [
      "Accuracy of the network on the valid images: 45.61%\n",
      "valid loss: 0.0117, valid accuracy: 45.61%\n",
      "best idx: 2, best accuracy: 45.61%\n"
     ]
    },
    {
     "name": "stderr",
     "output_type": "stream",
     "text": [
      "Epoch 3/200, accuracy 36.62%, train loss 0.0148, kl_loss_gate 0.0000, kl_loss_expert_usage 0.0000, learning rate 0.0001999509027563903: 100%|██████████| 313/313 [01:14<00:00,  4.23it/s]\n"
     ]
    },
    {
     "name": "stdout",
     "output_type": "stream",
     "text": [
      "train accuracy: 36.62%\n"
     ]
    },
    {
     "name": "stderr",
     "output_type": "stream",
     "text": [
      "100%|██████████| 79/79 [00:06<00:00, 13.07it/s]\n",
      "                                                           \r"
     ]
    },
    {
     "name": "stdout",
     "output_type": "stream",
     "text": [
      "Accuracy of the network on the valid images: 51.64%\n",
      "valid loss: 0.0107, valid accuracy: 51.64%\n",
      "best idx: 3, best accuracy: 51.64%\n"
     ]
    },
    {
     "name": "stderr",
     "output_type": "stream",
     "text": [
      "Epoch 4/200, accuracy 40.08%, train loss 0.0144, kl_loss_gate 0.0000, kl_loss_expert_usage 0.0000, learning rate 0.0001999127215948364: 100%|██████████| 313/313 [01:15<00:00,  4.17it/s]\n"
     ]
    },
    {
     "name": "stdout",
     "output_type": "stream",
     "text": [
      "train accuracy: 40.08%\n"
     ]
    },
    {
     "name": "stderr",
     "output_type": "stream",
     "text": [
      "100%|██████████| 79/79 [00:06<00:00, 13.07it/s]\n",
      "                                                           \r"
     ]
    },
    {
     "name": "stdout",
     "output_type": "stream",
     "text": [
      "Accuracy of the network on the valid images: 50.51%\n",
      "valid loss: 0.0109, valid accuracy: 50.51%\n",
      "best idx: 3, best accuracy: 51.64%\n"
     ]
    },
    {
     "name": "stderr",
     "output_type": "stream",
     "text": [
      "Epoch 5/200, accuracy 41.45%, train loss 0.0142, kl_loss_gate 0.0000, kl_loss_expert_usage 0.0000, learning rate 0.0001998636387080801: 100%|██████████| 313/313 [01:13<00:00,  4.24it/s]\n"
     ]
    },
    {
     "name": "stdout",
     "output_type": "stream",
     "text": [
      "train accuracy: 41.45%\n"
     ]
    },
    {
     "name": "stderr",
     "output_type": "stream",
     "text": [
      "100%|██████████| 79/79 [00:05<00:00, 13.19it/s]\n",
      "                                                           \r"
     ]
    },
    {
     "name": "stdout",
     "output_type": "stream",
     "text": [
      "Accuracy of the network on the valid images: 55.70%\n",
      "valid loss: 0.0101, valid accuracy: 55.70%\n",
      "best idx: 5, best accuracy: 55.70%\n"
     ]
    },
    {
     "name": "stderr",
     "output_type": "stream",
     "text": [
      "Epoch 6/200, accuracy 43.27%, train loss 0.0140, kl_loss_gate 0.0000, kl_loss_expert_usage 0.0000, learning rate 0.00019980365947861302: 100%|██████████| 313/313 [01:14<00:00,  4.22it/s]\n"
     ]
    },
    {
     "name": "stdout",
     "output_type": "stream",
     "text": [
      "train accuracy: 43.27%\n"
     ]
    },
    {
     "name": "stderr",
     "output_type": "stream",
     "text": [
      "100%|██████████| 79/79 [00:06<00:00, 13.06it/s]\n",
      "                                                           \r"
     ]
    },
    {
     "name": "stdout",
     "output_type": "stream",
     "text": [
      "Accuracy of the network on the valid images: 56.93%\n",
      "valid loss: 0.0097, valid accuracy: 56.93%\n",
      "best idx: 6, best accuracy: 56.93%\n"
     ]
    },
    {
     "name": "stderr",
     "output_type": "stream",
     "text": [
      "Epoch 7/200, accuracy 44.67%, train loss 0.0138, kl_loss_gate 0.0000, kl_loss_expert_usage 0.0000, learning rate 0.00019973279048383355: 100%|██████████| 313/313 [01:14<00:00,  4.19it/s]\n"
     ]
    },
    {
     "name": "stdout",
     "output_type": "stream",
     "text": [
      "train accuracy: 44.67%\n"
     ]
    },
    {
     "name": "stderr",
     "output_type": "stream",
     "text": [
      "100%|██████████| 79/79 [00:06<00:00, 13.03it/s]\n",
      "                                                           \r"
     ]
    },
    {
     "name": "stdout",
     "output_type": "stream",
     "text": [
      "Accuracy of the network on the valid images: 58.45%\n",
      "valid loss: 0.0096, valid accuracy: 58.45%\n",
      "best idx: 7, best accuracy: 58.45%\n"
     ]
    },
    {
     "name": "stderr",
     "output_type": "stream",
     "text": [
      "Epoch 8/200, accuracy 46.15%, train loss 0.0134, kl_loss_gate 0.0000, kl_loss_expert_usage 0.0000, learning rate 0.00019965103949532567: 100%|██████████| 313/313 [01:14<00:00,  4.18it/s]\n"
     ]
    },
    {
     "name": "stdout",
     "output_type": "stream",
     "text": [
      "train accuracy: 46.15%\n"
     ]
    },
    {
     "name": "stderr",
     "output_type": "stream",
     "text": [
      "100%|██████████| 79/79 [00:06<00:00, 12.98it/s]\n",
      "                                                           \r"
     ]
    },
    {
     "name": "stdout",
     "output_type": "stream",
     "text": [
      "Accuracy of the network on the valid images: 60.73%\n",
      "valid loss: 0.0090, valid accuracy: 60.73%\n",
      "best idx: 8, best accuracy: 60.73%\n"
     ]
    },
    {
     "name": "stderr",
     "output_type": "stream",
     "text": [
      "Epoch 9/200, accuracy 47.02%, train loss 0.0134, kl_loss_gate 0.0000, kl_loss_expert_usage 0.0000, learning rate 0.00019955841547800645: 100%|██████████| 313/313 [01:14<00:00,  4.22it/s]\n"
     ]
    },
    {
     "name": "stdout",
     "output_type": "stream",
     "text": [
      "train accuracy: 47.02%\n"
     ]
    },
    {
     "name": "stderr",
     "output_type": "stream",
     "text": [
      "100%|██████████| 79/79 [00:06<00:00, 13.05it/s]\n",
      "                                                           \r"
     ]
    },
    {
     "name": "stdout",
     "output_type": "stream",
     "text": [
      "Accuracy of the network on the valid images: 59.91%\n",
      "valid loss: 0.0093, valid accuracy: 59.91%\n",
      "best idx: 8, best accuracy: 60.73%\n"
     ]
    },
    {
     "name": "stderr",
     "output_type": "stream",
     "text": [
      "Epoch 10/200, accuracy 48.18%, train loss 0.0130, kl_loss_gate 0.0000, kl_loss_expert_usage 0.0000, learning rate 0.0001994549285891432: 100%|██████████| 313/313 [01:13<00:00,  4.24it/s]\n"
     ]
    },
    {
     "name": "stdout",
     "output_type": "stream",
     "text": [
      "train accuracy: 48.18%\n"
     ]
    },
    {
     "name": "stderr",
     "output_type": "stream",
     "text": [
      "100%|██████████| 79/79 [00:06<00:00, 13.03it/s]\n",
      "                                                           \r"
     ]
    },
    {
     "name": "stdout",
     "output_type": "stream",
     "text": [
      "Accuracy of the network on the valid images: 61.41%\n",
      "valid loss: 0.0091, valid accuracy: 61.41%\n",
      "best idx: 10, best accuracy: 61.41%\n"
     ]
    },
    {
     "name": "stderr",
     "output_type": "stream",
     "text": [
      "Epoch 11/200, accuracy 48.67%, train loss 0.0131, kl_loss_gate 0.0000, kl_loss_expert_usage 0.0000, learning rate 0.00019934059017723943: 100%|██████████| 313/313 [01:13<00:00,  4.25it/s]\n"
     ]
    },
    {
     "name": "stdout",
     "output_type": "stream",
     "text": [
      "train accuracy: 48.67%\n"
     ]
    },
    {
     "name": "stderr",
     "output_type": "stream",
     "text": [
      "100%|██████████| 79/79 [00:06<00:00, 13.10it/s]\n",
      "                                                           \r"
     ]
    },
    {
     "name": "stdout",
     "output_type": "stream",
     "text": [
      "Accuracy of the network on the valid images: 61.85%\n",
      "valid loss: 0.0089, valid accuracy: 61.85%\n",
      "best idx: 11, best accuracy: 61.85%\n"
     ]
    },
    {
     "name": "stderr",
     "output_type": "stream",
     "text": [
      "Epoch 12/200, accuracy 49.51%, train loss 0.0131, kl_loss_gate 0.0000, kl_loss_expert_usage 0.0000, learning rate 0.00019921541278079057: 100%|██████████| 313/313 [01:14<00:00,  4.21it/s]\n"
     ]
    },
    {
     "name": "stdout",
     "output_type": "stream",
     "text": [
      "train accuracy: 49.51%\n"
     ]
    },
    {
     "name": "stderr",
     "output_type": "stream",
     "text": [
      "100%|██████████| 79/79 [00:06<00:00, 13.02it/s]\n",
      "                                                           \r"
     ]
    },
    {
     "name": "stdout",
     "output_type": "stream",
     "text": [
      "Accuracy of the network on the valid images: 64.26%\n",
      "valid loss: 0.0085, valid accuracy: 64.26%\n",
      "best idx: 12, best accuracy: 64.26%\n"
     ]
    },
    {
     "name": "stderr",
     "output_type": "stream",
     "text": [
      "Epoch 13/200, accuracy 51.36%, train loss 0.0126, kl_loss_gate 0.0000, kl_loss_expert_usage 0.0000, learning rate 0.00019907941012690865: 100%|██████████| 313/313 [01:15<00:00,  4.15it/s]\n"
     ]
    },
    {
     "name": "stdout",
     "output_type": "stream",
     "text": [
      "train accuracy: 51.36%\n"
     ]
    },
    {
     "name": "stderr",
     "output_type": "stream",
     "text": [
      "100%|██████████| 79/79 [00:06<00:00, 13.14it/s]\n",
      "                                                           \r"
     ]
    },
    {
     "name": "stdout",
     "output_type": "stream",
     "text": [
      "Accuracy of the network on the valid images: 64.99%\n",
      "valid loss: 0.0083, valid accuracy: 64.99%\n",
      "best idx: 13, best accuracy: 64.99%\n"
     ]
    },
    {
     "name": "stderr",
     "output_type": "stream",
     "text": [
      "Epoch 14/200, accuracy 52.07%, train loss 0.0125, kl_loss_gate 0.0000, kl_loss_expert_usage 0.0000, learning rate 0.00019893259712981735: 100%|██████████| 313/313 [01:14<00:00,  4.22it/s]\n"
     ]
    },
    {
     "name": "stdout",
     "output_type": "stream",
     "text": [
      "train accuracy: 52.07%\n"
     ]
    },
    {
     "name": "stderr",
     "output_type": "stream",
     "text": [
      "100%|██████████| 79/79 [00:06<00:00, 13.02it/s]\n",
      "                                                           \r"
     ]
    },
    {
     "name": "stdout",
     "output_type": "stream",
     "text": [
      "Accuracy of the network on the valid images: 67.07%\n",
      "valid loss: 0.0078, valid accuracy: 67.07%\n",
      "best idx: 14, best accuracy: 67.07%\n"
     ]
    },
    {
     "name": "stderr",
     "output_type": "stream",
     "text": [
      "Epoch 15/200, accuracy 51.51%, train loss 0.0127, kl_loss_gate 0.0000, kl_loss_expert_usage 0.0000, learning rate 0.00019877498988921623: 100%|██████████| 313/313 [01:13<00:00,  4.26it/s]\n"
     ]
    },
    {
     "name": "stdout",
     "output_type": "stream",
     "text": [
      "train accuracy: 51.51%\n"
     ]
    },
    {
     "name": "stderr",
     "output_type": "stream",
     "text": [
      "100%|██████████| 79/79 [00:05<00:00, 13.30it/s]\n",
      "                                                           \r"
     ]
    },
    {
     "name": "stdout",
     "output_type": "stream",
     "text": [
      "Accuracy of the network on the valid images: 68.38%\n",
      "valid loss: 0.0079, valid accuracy: 68.38%\n",
      "best idx: 15, best accuracy: 68.38%\n"
     ]
    },
    {
     "name": "stderr",
     "output_type": "stream",
     "text": [
      "Epoch 16/200, accuracy 52.62%, train loss 0.0126, kl_loss_gate 0.0000, kl_loss_expert_usage 0.0000, learning rate 0.00019860660568851525: 100%|██████████| 313/313 [01:14<00:00,  4.20it/s]\n"
     ]
    },
    {
     "name": "stdout",
     "output_type": "stream",
     "text": [
      "train accuracy: 52.62%\n"
     ]
    },
    {
     "name": "stderr",
     "output_type": "stream",
     "text": [
      "100%|██████████| 79/79 [00:06<00:00, 13.03it/s]\n",
      "                                                           \r"
     ]
    },
    {
     "name": "stdout",
     "output_type": "stream",
     "text": [
      "Accuracy of the network on the valid images: 68.44%\n",
      "valid loss: 0.0079, valid accuracy: 68.44%\n",
      "best idx: 16, best accuracy: 68.44%\n"
     ]
    },
    {
     "name": "stderr",
     "output_type": "stream",
     "text": [
      "Epoch 17/200, accuracy 53.84%, train loss 0.0123, kl_loss_gate 0.0000, kl_loss_expert_usage 0.0000, learning rate 0.00019842746299293955: 100%|██████████| 313/313 [01:13<00:00,  4.23it/s]\n"
     ]
    },
    {
     "name": "stdout",
     "output_type": "stream",
     "text": [
      "train accuracy: 53.84%\n"
     ]
    },
    {
     "name": "stderr",
     "output_type": "stream",
     "text": [
      "100%|██████████| 79/79 [00:06<00:00, 13.05it/s]\n",
      "                                                           \r"
     ]
    },
    {
     "name": "stdout",
     "output_type": "stream",
     "text": [
      "Accuracy of the network on the valid images: 69.74%\n",
      "valid loss: 0.0075, valid accuracy: 69.74%\n",
      "best idx: 17, best accuracy: 69.74%\n"
     ]
    },
    {
     "name": "stderr",
     "output_type": "stream",
     "text": [
      "Epoch 18/200, accuracy 54.41%, train loss 0.0122, kl_loss_gate 0.0000, kl_loss_expert_usage 0.0000, learning rate 0.00019823758144750454: 100%|██████████| 313/313 [01:13<00:00,  4.27it/s]\n"
     ]
    },
    {
     "name": "stdout",
     "output_type": "stream",
     "text": [
      "train accuracy: 54.41%\n"
     ]
    },
    {
     "name": "stderr",
     "output_type": "stream",
     "text": [
      "100%|██████████| 79/79 [00:05<00:00, 13.19it/s]\n",
      "                                                           \r"
     ]
    },
    {
     "name": "stdout",
     "output_type": "stream",
     "text": [
      "Accuracy of the network on the valid images: 69.11%\n",
      "valid loss: 0.0077, valid accuracy: 69.11%\n",
      "best idx: 17, best accuracy: 69.74%\n"
     ]
    },
    {
     "name": "stderr",
     "output_type": "stream",
     "text": [
      "Epoch 19/200, accuracy 54.89%, train loss 0.0122, kl_loss_gate 0.0000, kl_loss_expert_usage 0.0000, learning rate 0.00019803698187486135: 100%|██████████| 313/313 [01:13<00:00,  4.24it/s]\n"
     ]
    },
    {
     "name": "stdout",
     "output_type": "stream",
     "text": [
      "train accuracy: 54.89%\n"
     ]
    },
    {
     "name": "stderr",
     "output_type": "stream",
     "text": [
      "100%|██████████| 79/79 [00:06<00:00, 13.13it/s]\n",
      "                                                           \r"
     ]
    },
    {
     "name": "stdout",
     "output_type": "stream",
     "text": [
      "Accuracy of the network on the valid images: 70.40%\n",
      "valid loss: 0.0074, valid accuracy: 70.40%\n",
      "best idx: 19, best accuracy: 70.40%\n"
     ]
    },
    {
     "name": "stderr",
     "output_type": "stream",
     "text": [
      "Epoch 20/200, accuracy 55.98%, train loss 0.0121, kl_loss_gate 0.0000, kl_loss_expert_usage 0.0000, learning rate 0.00019782568627301367: 100%|██████████| 313/313 [01:13<00:00,  4.23it/s]\n"
     ]
    },
    {
     "name": "stdout",
     "output_type": "stream",
     "text": [
      "train accuracy: 55.98%\n"
     ]
    },
    {
     "name": "stderr",
     "output_type": "stream",
     "text": [
      "100%|██████████| 79/79 [00:06<00:00, 13.07it/s]\n",
      "                                                           \r"
     ]
    },
    {
     "name": "stdout",
     "output_type": "stream",
     "text": [
      "Accuracy of the network on the valid images: 72.09%\n",
      "valid loss: 0.0070, valid accuracy: 72.09%\n",
      "best idx: 20, best accuracy: 72.09%\n"
     ]
    },
    {
     "name": "stderr",
     "output_type": "stream",
     "text": [
      "Epoch 21/200, accuracy 56.41%, train loss 0.0119, kl_loss_gate 0.0000, kl_loss_expert_usage 0.0000, learning rate 0.00019760371781290536: 100%|██████████| 313/313 [01:15<00:00,  4.15it/s]\n"
     ]
    },
    {
     "name": "stdout",
     "output_type": "stream",
     "text": [
      "train accuracy: 56.41%\n"
     ]
    },
    {
     "name": "stderr",
     "output_type": "stream",
     "text": [
      "100%|██████████| 79/79 [00:06<00:00, 13.10it/s]\n",
      "                                                           \r"
     ]
    },
    {
     "name": "stdout",
     "output_type": "stream",
     "text": [
      "Accuracy of the network on the valid images: 72.76%\n",
      "valid loss: 0.0068, valid accuracy: 72.76%\n",
      "best idx: 21, best accuracy: 72.76%\n"
     ]
    },
    {
     "name": "stderr",
     "output_type": "stream",
     "text": [
      "Epoch 22/200, accuracy 55.89%, train loss 0.0121, kl_loss_gate 0.0000, kl_loss_expert_usage 0.0000, learning rate 0.00019737110083587945: 100%|██████████| 313/313 [01:14<00:00,  4.18it/s]\n"
     ]
    },
    {
     "name": "stdout",
     "output_type": "stream",
     "text": [
      "train accuracy: 55.89%\n"
     ]
    },
    {
     "name": "stderr",
     "output_type": "stream",
     "text": [
      "100%|██████████| 79/79 [00:06<00:00, 13.02it/s]\n",
      "                                                           \r"
     ]
    },
    {
     "name": "stdout",
     "output_type": "stream",
     "text": [
      "Accuracy of the network on the valid images: 72.80%\n",
      "valid loss: 0.0071, valid accuracy: 72.80%\n",
      "best idx: 22, best accuracy: 72.80%\n"
     ]
    },
    {
     "name": "stderr",
     "output_type": "stream",
     "text": [
      "Epoch 23/200, accuracy 56.75%, train loss 0.0119, kl_loss_gate 0.0000, kl_loss_expert_usage 0.0000, learning rate 0.0001971278608510088: 100%|██████████| 313/313 [01:14<00:00,  4.18it/s]\n"
     ]
    },
    {
     "name": "stdout",
     "output_type": "stream",
     "text": [
      "train accuracy: 56.75%\n"
     ]
    },
    {
     "name": "stderr",
     "output_type": "stream",
     "text": [
      "100%|██████████| 79/79 [00:06<00:00, 13.00it/s]\n",
      "                                                           \r"
     ]
    },
    {
     "name": "stdout",
     "output_type": "stream",
     "text": [
      "Accuracy of the network on the valid images: 73.75%\n",
      "valid loss: 0.0070, valid accuracy: 73.75%\n",
      "best idx: 23, best accuracy: 73.75%\n"
     ]
    },
    {
     "name": "stderr",
     "output_type": "stream",
     "text": [
      "Epoch 24/200, accuracy 57.34%, train loss 0.0119, kl_loss_gate 0.0000, kl_loss_expert_usage 0.0000, learning rate 0.00019687402453229879: 100%|██████████| 313/313 [01:14<00:00,  4.22it/s]\n"
     ]
    },
    {
     "name": "stdout",
     "output_type": "stream",
     "text": [
      "train accuracy: 57.34%\n"
     ]
    },
    {
     "name": "stderr",
     "output_type": "stream",
     "text": [
      "100%|██████████| 79/79 [00:06<00:00, 13.03it/s]\n",
      "                                                           \r"
     ]
    },
    {
     "name": "stdout",
     "output_type": "stream",
     "text": [
      "Accuracy of the network on the valid images: 74.85%\n",
      "valid loss: 0.0066, valid accuracy: 74.85%\n",
      "best idx: 24, best accuracy: 74.85%\n"
     ]
    },
    {
     "name": "stderr",
     "output_type": "stream",
     "text": [
      "Epoch 25/200, accuracy 57.23%, train loss 0.0119, kl_loss_gate 0.0000, kl_loss_expert_usage 0.0000, learning rate 0.00019660961971576228: 100%|██████████| 313/313 [01:14<00:00,  4.23it/s]\n"
     ]
    },
    {
     "name": "stdout",
     "output_type": "stream",
     "text": [
      "train accuracy: 57.23%\n"
     ]
    },
    {
     "name": "stderr",
     "output_type": "stream",
     "text": [
      "100%|██████████| 79/79 [00:06<00:00, 13.14it/s]\n",
      "                                                           \r"
     ]
    },
    {
     "name": "stdout",
     "output_type": "stream",
     "text": [
      "Accuracy of the network on the valid images: 74.90%\n",
      "valid loss: 0.0065, valid accuracy: 74.90%\n",
      "best idx: 25, best accuracy: 74.90%\n"
     ]
    },
    {
     "name": "stderr",
     "output_type": "stream",
     "text": [
      "Epoch 26/200, accuracy 59.20%, train loss 0.0115, kl_loss_gate 0.0000, kl_loss_expert_usage 0.0000, learning rate 0.00019633467539636697: 100%|██████████| 313/313 [01:14<00:00,  4.20it/s]\n"
     ]
    },
    {
     "name": "stdout",
     "output_type": "stream",
     "text": [
      "train accuracy: 59.20%\n"
     ]
    },
    {
     "name": "stderr",
     "output_type": "stream",
     "text": [
      "100%|██████████| 79/79 [00:06<00:00, 13.11it/s]\n",
      "                                                           \r"
     ]
    },
    {
     "name": "stdout",
     "output_type": "stream",
     "text": [
      "Accuracy of the network on the valid images: 75.54%\n",
      "valid loss: 0.0063, valid accuracy: 75.54%\n",
      "best idx: 26, best accuracy: 75.54%\n"
     ]
    },
    {
     "name": "stderr",
     "output_type": "stream",
     "text": [
      "Epoch 27/200, accuracy 59.32%, train loss 0.0115, kl_loss_gate 0.0000, kl_loss_expert_usage 0.0000, learning rate 0.00019604922172485582: 100%|██████████| 313/313 [01:13<00:00,  4.24it/s]\n"
     ]
    },
    {
     "name": "stdout",
     "output_type": "stream",
     "text": [
      "train accuracy: 59.32%\n"
     ]
    },
    {
     "name": "stderr",
     "output_type": "stream",
     "text": [
      "100%|██████████| 79/79 [00:06<00:00, 13.03it/s]\n",
      "                                                           \r"
     ]
    },
    {
     "name": "stdout",
     "output_type": "stream",
     "text": [
      "Accuracy of the network on the valid images: 76.90%\n",
      "valid loss: 0.0063, valid accuracy: 76.90%\n",
      "best idx: 27, best accuracy: 76.90%\n"
     ]
    },
    {
     "name": "stderr",
     "output_type": "stream",
     "text": [
      "Epoch 28/200, accuracy 60.52%, train loss 0.0113, kl_loss_gate 0.0000, kl_loss_expert_usage 0.0000, learning rate 0.00019575329000444066: 100%|██████████| 313/313 [01:14<00:00,  4.22it/s]\n"
     ]
    },
    {
     "name": "stdout",
     "output_type": "stream",
     "text": [
      "train accuracy: 60.52%\n"
     ]
    },
    {
     "name": "stderr",
     "output_type": "stream",
     "text": [
      "100%|██████████| 79/79 [00:06<00:00, 13.02it/s]\n",
      "                                                           \r"
     ]
    },
    {
     "name": "stdout",
     "output_type": "stream",
     "text": [
      "Accuracy of the network on the valid images: 76.63%\n",
      "valid loss: 0.0063, valid accuracy: 76.63%\n",
      "best idx: 27, best accuracy: 76.90%\n"
     ]
    },
    {
     "name": "stderr",
     "output_type": "stream",
     "text": [
      "Epoch 29/200, accuracy 60.08%, train loss 0.0113, kl_loss_gate 0.0000, kl_loss_expert_usage 0.0000, learning rate 0.00019544691268736953: 100%|██████████| 313/313 [01:14<00:00,  4.20it/s]\n"
     ]
    },
    {
     "name": "stdout",
     "output_type": "stream",
     "text": [
      "train accuracy: 60.08%\n"
     ]
    },
    {
     "name": "stderr",
     "output_type": "stream",
     "text": [
      "100%|██████████| 79/79 [00:06<00:00, 13.12it/s]\n",
      "                                                           \r"
     ]
    },
    {
     "name": "stdout",
     "output_type": "stream",
     "text": [
      "Accuracy of the network on the valid images: 76.81%\n",
      "valid loss: 0.0061, valid accuracy: 76.81%\n",
      "best idx: 27, best accuracy: 76.90%\n"
     ]
    },
    {
     "name": "stderr",
     "output_type": "stream",
     "text": [
      "Epoch 30/200, accuracy 59.79%, train loss 0.0116, kl_loss_gate 0.0000, kl_loss_expert_usage 0.0000, learning rate 0.00019513012337136777: 100%|██████████| 313/313 [01:14<00:00,  4.18it/s]\n"
     ]
    },
    {
     "name": "stdout",
     "output_type": "stream",
     "text": [
      "train accuracy: 59.79%\n"
     ]
    },
    {
     "name": "stderr",
     "output_type": "stream",
     "text": [
      "100%|██████████| 79/79 [00:06<00:00, 13.03it/s]\n",
      "                                                           \r"
     ]
    },
    {
     "name": "stdout",
     "output_type": "stream",
     "text": [
      "Accuracy of the network on the valid images: 78.54%\n",
      "valid loss: 0.0058, valid accuracy: 78.54%\n",
      "best idx: 30, best accuracy: 78.54%\n"
     ]
    },
    {
     "name": "stderr",
     "output_type": "stream",
     "text": [
      "Epoch 31/200, accuracy 61.36%, train loss 0.0112, kl_loss_gate 0.0000, kl_loss_expert_usage 0.0000, learning rate 0.00019480295679595377: 100%|██████████| 313/313 [01:14<00:00,  4.17it/s]\n"
     ]
    },
    {
     "name": "stdout",
     "output_type": "stream",
     "text": [
      "train accuracy: 61.36%\n"
     ]
    },
    {
     "name": "stderr",
     "output_type": "stream",
     "text": [
      "100%|██████████| 79/79 [00:06<00:00, 13.08it/s]\n",
      "                                                           \r"
     ]
    },
    {
     "name": "stdout",
     "output_type": "stream",
     "text": [
      "Accuracy of the network on the valid images: 77.48%\n",
      "valid loss: 0.0061, valid accuracy: 77.48%\n",
      "best idx: 30, best accuracy: 78.54%\n"
     ]
    },
    {
     "name": "stderr",
     "output_type": "stream",
     "text": [
      "Epoch 32/200, accuracy 62.42%, train loss 0.0109, kl_loss_gate 0.0000, kl_loss_expert_usage 0.0000, learning rate 0.00019446544883862935: 100%|██████████| 313/313 [01:14<00:00,  4.22it/s]\n"
     ]
    },
    {
     "name": "stdout",
     "output_type": "stream",
     "text": [
      "train accuracy: 62.42%\n"
     ]
    },
    {
     "name": "stderr",
     "output_type": "stream",
     "text": [
      "100%|██████████| 79/79 [00:06<00:00, 13.16it/s]\n",
      "                                                           \r"
     ]
    },
    {
     "name": "stdout",
     "output_type": "stream",
     "text": [
      "Accuracy of the network on the valid images: 78.13%\n",
      "valid loss: 0.0058, valid accuracy: 78.13%\n",
      "best idx: 30, best accuracy: 78.54%\n"
     ]
    },
    {
     "name": "stderr",
     "output_type": "stream",
     "text": [
      "Epoch 33/200, accuracy 60.97%, train loss 0.0113, kl_loss_gate 0.0000, kl_loss_expert_usage 0.0000, learning rate 0.0001941176365109454: 100%|██████████| 313/313 [01:15<00:00,  4.13it/s]\n"
     ]
    },
    {
     "name": "stdout",
     "output_type": "stream",
     "text": [
      "train accuracy: 60.97%\n"
     ]
    },
    {
     "name": "stderr",
     "output_type": "stream",
     "text": [
      "100%|██████████| 79/79 [00:06<00:00, 12.97it/s]\n",
      "                                                           \r"
     ]
    },
    {
     "name": "stdout",
     "output_type": "stream",
     "text": [
      "Accuracy of the network on the valid images: 79.05%\n",
      "valid loss: 0.0056, valid accuracy: 79.05%\n",
      "best idx: 33, best accuracy: 79.05%\n"
     ]
    },
    {
     "name": "stderr",
     "output_type": "stream",
     "text": [
      "Epoch 34/200, accuracy 62.66%, train loss 0.0110, kl_loss_gate 0.0000, kl_loss_expert_usage 0.0000, learning rate 0.00019375955795444317: 100%|██████████| 313/313 [01:14<00:00,  4.21it/s]\n"
     ]
    },
    {
     "name": "stdout",
     "output_type": "stream",
     "text": [
      "train accuracy: 62.66%\n"
     ]
    },
    {
     "name": "stderr",
     "output_type": "stream",
     "text": [
      "100%|██████████| 79/79 [00:05<00:00, 13.19it/s]\n",
      "                                                           \r"
     ]
    },
    {
     "name": "stdout",
     "output_type": "stream",
     "text": [
      "Accuracy of the network on the valid images: 80.56%\n",
      "valid loss: 0.0054, valid accuracy: 80.56%\n",
      "best idx: 34, best accuracy: 80.56%\n"
     ]
    },
    {
     "name": "stderr",
     "output_type": "stream",
     "text": [
      "Epoch 35/200, accuracy 62.03%, train loss 0.0111, kl_loss_gate 0.0000, kl_loss_expert_usage 0.0000, learning rate 0.00019339125243647153: 100%|██████████| 313/313 [01:14<00:00,  4.19it/s]\n"
     ]
    },
    {
     "name": "stdout",
     "output_type": "stream",
     "text": [
      "train accuracy: 62.03%\n"
     ]
    },
    {
     "name": "stderr",
     "output_type": "stream",
     "text": [
      "100%|██████████| 79/79 [00:06<00:00, 13.08it/s]\n",
      "                                                           \r"
     ]
    },
    {
     "name": "stdout",
     "output_type": "stream",
     "text": [
      "Accuracy of the network on the valid images: 79.84%\n",
      "valid loss: 0.0055, valid accuracy: 79.84%\n",
      "best idx: 34, best accuracy: 80.56%\n"
     ]
    },
    {
     "name": "stderr",
     "output_type": "stream",
     "text": [
      "Epoch 36/200, accuracy 63.56%, train loss 0.0107, kl_loss_gate 0.0000, kl_loss_expert_usage 0.0000, learning rate 0.00019301276034588098: 100%|██████████| 313/313 [01:13<00:00,  4.24it/s]\n"
     ]
    },
    {
     "name": "stdout",
     "output_type": "stream",
     "text": [
      "train accuracy: 63.56%\n"
     ]
    },
    {
     "name": "stderr",
     "output_type": "stream",
     "text": [
      "100%|██████████| 79/79 [00:06<00:00, 13.14it/s]\n",
      "                                                           \r"
     ]
    },
    {
     "name": "stdout",
     "output_type": "stream",
     "text": [
      "Accuracy of the network on the valid images: 79.64%\n",
      "valid loss: 0.0054, valid accuracy: 79.64%\n",
      "best idx: 34, best accuracy: 80.56%\n"
     ]
    },
    {
     "name": "stderr",
     "output_type": "stream",
     "text": [
      "Epoch 37/200, accuracy 63.26%, train loss 0.0109, kl_loss_gate 0.0000, kl_loss_expert_usage 0.0000, learning rate 0.00019262412318859446: 100%|██████████| 313/313 [01:14<00:00,  4.20it/s]\n"
     ]
    },
    {
     "name": "stdout",
     "output_type": "stream",
     "text": [
      "train accuracy: 63.26%\n"
     ]
    },
    {
     "name": "stderr",
     "output_type": "stream",
     "text": [
      "100%|██████████| 79/79 [00:06<00:00, 13.16it/s]\n",
      "                                                           \r"
     ]
    },
    {
     "name": "stdout",
     "output_type": "stream",
     "text": [
      "Accuracy of the network on the valid images: 80.76%\n",
      "valid loss: 0.0054, valid accuracy: 80.76%\n",
      "best idx: 37, best accuracy: 80.76%\n"
     ]
    },
    {
     "name": "stderr",
     "output_type": "stream",
     "text": [
      "Epoch 38/200, accuracy 61.86%, train loss 0.0112, kl_loss_gate 0.0000, kl_loss_expert_usage 0.0000, learning rate 0.00019222538358305578: 100%|██████████| 313/313 [01:14<00:00,  4.20it/s]\n"
     ]
    },
    {
     "name": "stdout",
     "output_type": "stream",
     "text": [
      "train accuracy: 61.86%\n"
     ]
    },
    {
     "name": "stderr",
     "output_type": "stream",
     "text": [
      "100%|██████████| 79/79 [00:06<00:00, 13.08it/s]\n",
      "                                                           \r"
     ]
    },
    {
     "name": "stdout",
     "output_type": "stream",
     "text": [
      "Accuracy of the network on the valid images: 79.37%\n",
      "valid loss: 0.0055, valid accuracy: 79.37%\n",
      "best idx: 37, best accuracy: 80.76%\n"
     ]
    },
    {
     "name": "stderr",
     "output_type": "stream",
     "text": [
      "Epoch 39/200, accuracy 63.91%, train loss 0.0106, kl_loss_gate 0.0000, kl_loss_expert_usage 0.0000, learning rate 0.0001918165852555561: 100%|██████████| 313/313 [01:13<00:00,  4.24it/s]\n"
     ]
    },
    {
     "name": "stdout",
     "output_type": "stream",
     "text": [
      "train accuracy: 63.91%\n"
     ]
    },
    {
     "name": "stderr",
     "output_type": "stream",
     "text": [
      "100%|██████████| 79/79 [00:05<00:00, 13.22it/s]\n",
      "                                                           \r"
     ]
    },
    {
     "name": "stdout",
     "output_type": "stream",
     "text": [
      "Accuracy of the network on the valid images: 80.61%\n",
      "valid loss: 0.0053, valid accuracy: 80.61%\n",
      "best idx: 37, best accuracy: 80.76%\n"
     ]
    },
    {
     "name": "stderr",
     "output_type": "stream",
     "text": [
      "Epoch 40/200, accuracy 63.65%, train loss 0.0107, kl_loss_gate 0.0000, kl_loss_expert_usage 0.0000, learning rate 0.00019139777303543877: 100%|██████████| 313/313 [01:14<00:00,  4.23it/s]\n"
     ]
    },
    {
     "name": "stdout",
     "output_type": "stream",
     "text": [
      "train accuracy: 63.65%\n"
     ]
    },
    {
     "name": "stderr",
     "output_type": "stream",
     "text": [
      "100%|██████████| 79/79 [00:06<00:00, 13.12it/s]\n",
      "                                                           \r"
     ]
    },
    {
     "name": "stdout",
     "output_type": "stream",
     "text": [
      "Accuracy of the network on the valid images: 80.83%\n",
      "valid loss: 0.0054, valid accuracy: 80.83%\n",
      "best idx: 40, best accuracy: 80.83%\n"
     ]
    },
    {
     "name": "stderr",
     "output_type": "stream",
     "text": [
      "Epoch 41/200, accuracy 62.72%, train loss 0.0109, kl_loss_gate 0.0000, kl_loss_expert_usage 0.0000, learning rate 0.00019096899285018333: 100%|██████████| 313/313 [01:14<00:00,  4.23it/s]\n"
     ]
    },
    {
     "name": "stdout",
     "output_type": "stream",
     "text": [
      "train accuracy: 62.72%\n"
     ]
    },
    {
     "name": "stderr",
     "output_type": "stream",
     "text": [
      "100%|██████████| 79/79 [00:05<00:00, 13.18it/s]\n",
      "                                                           \r"
     ]
    },
    {
     "name": "stdout",
     "output_type": "stream",
     "text": [
      "Accuracy of the network on the valid images: 79.44%\n",
      "valid loss: 0.0059, valid accuracy: 79.44%\n",
      "best idx: 40, best accuracy: 80.83%\n"
     ]
    },
    {
     "name": "stderr",
     "output_type": "stream",
     "text": [
      "Epoch 42/200, accuracy 62.95%, train loss 0.0110, kl_loss_gate 0.0000, kl_loss_expert_usage 0.0000, learning rate 0.00019053029172036895: 100%|██████████| 313/313 [01:15<00:00,  4.17it/s]\n"
     ]
    },
    {
     "name": "stdout",
     "output_type": "stream",
     "text": [
      "train accuracy: 62.95%\n"
     ]
    },
    {
     "name": "stderr",
     "output_type": "stream",
     "text": [
      "100%|██████████| 79/79 [00:05<00:00, 13.17it/s]\n",
      "                                                           \r"
     ]
    },
    {
     "name": "stdout",
     "output_type": "stream",
     "text": [
      "Accuracy of the network on the valid images: 81.93%\n",
      "valid loss: 0.0052, valid accuracy: 81.93%\n",
      "best idx: 42, best accuracy: 81.93%\n"
     ]
    },
    {
     "name": "stderr",
     "output_type": "stream",
     "text": [
      "Epoch 43/200, accuracy 65.30%, train loss 0.0104, kl_loss_gate 0.0000, kl_loss_expert_usage 0.0000, learning rate 0.00019008171775451827: 100%|██████████| 313/313 [01:14<00:00,  4.20it/s]\n"
     ]
    },
    {
     "name": "stdout",
     "output_type": "stream",
     "text": [
      "train accuracy: 65.30%\n"
     ]
    },
    {
     "name": "stderr",
     "output_type": "stream",
     "text": [
      "100%|██████████| 79/79 [00:05<00:00, 13.18it/s]\n",
      "                                                           \r"
     ]
    },
    {
     "name": "stdout",
     "output_type": "stream",
     "text": [
      "Accuracy of the network on the valid images: 82.17%\n",
      "valid loss: 0.0051, valid accuracy: 82.17%\n",
      "best idx: 43, best accuracy: 82.17%\n"
     ]
    },
    {
     "name": "stderr",
     "output_type": "stream",
     "text": [
      "Epoch 44/200, accuracy 64.16%, train loss 0.0106, kl_loss_gate 0.0000, kl_loss_expert_usage 0.0000, learning rate 0.0001896233201438216: 100%|██████████| 313/313 [01:13<00:00,  4.23it/s]\n"
     ]
    },
    {
     "name": "stdout",
     "output_type": "stream",
     "text": [
      "train accuracy: 64.16%\n"
     ]
    },
    {
     "name": "stderr",
     "output_type": "stream",
     "text": [
      "100%|██████████| 79/79 [00:06<00:00, 13.07it/s]\n",
      "                                                           \r"
     ]
    },
    {
     "name": "stdout",
     "output_type": "stream",
     "text": [
      "Accuracy of the network on the valid images: 81.63%\n",
      "valid loss: 0.0057, valid accuracy: 81.63%\n",
      "best idx: 43, best accuracy: 82.17%\n"
     ]
    },
    {
     "name": "stderr",
     "output_type": "stream",
     "text": [
      "Epoch 45/200, accuracy 65.49%, train loss 0.0103, kl_loss_gate 0.0000, kl_loss_expert_usage 0.0000, learning rate 0.0001891551491567426: 100%|██████████| 313/313 [01:13<00:00,  4.24it/s]\n"
     ]
    },
    {
     "name": "stdout",
     "output_type": "stream",
     "text": [
      "train accuracy: 65.49%\n"
     ]
    },
    {
     "name": "stderr",
     "output_type": "stream",
     "text": [
      "100%|██████████| 79/79 [00:06<00:00, 13.16it/s]\n",
      "                                                           \r"
     ]
    },
    {
     "name": "stdout",
     "output_type": "stream",
     "text": [
      "Accuracy of the network on the valid images: 82.16%\n",
      "valid loss: 0.0053, valid accuracy: 82.16%\n",
      "best idx: 43, best accuracy: 82.17%\n"
     ]
    },
    {
     "name": "stderr",
     "output_type": "stream",
     "text": [
      "Epoch 46/200, accuracy 65.62%, train loss 0.0103, kl_loss_gate 0.0000, kl_loss_expert_usage 0.0000, learning rate 0.00018867725613350587: 100%|██████████| 313/313 [01:14<00:00,  4.21it/s]\n"
     ]
    },
    {
     "name": "stdout",
     "output_type": "stream",
     "text": [
      "train accuracy: 65.62%\n"
     ]
    },
    {
     "name": "stderr",
     "output_type": "stream",
     "text": [
      "100%|██████████| 79/79 [00:06<00:00, 13.08it/s]\n",
      "                                                           \r"
     ]
    },
    {
     "name": "stdout",
     "output_type": "stream",
     "text": [
      "Accuracy of the network on the valid images: 81.42%\n",
      "valid loss: 0.0052, valid accuracy: 81.42%\n",
      "best idx: 43, best accuracy: 82.17%\n"
     ]
    },
    {
     "name": "stderr",
     "output_type": "stream",
     "text": [
      "Epoch 47/200, accuracy 65.99%, train loss 0.0104, kl_loss_gate 0.0000, kl_loss_expert_usage 0.0000, learning rate 0.00018818969348046672: 100%|██████████| 313/313 [01:14<00:00,  4.19it/s]\n"
     ]
    },
    {
     "name": "stdout",
     "output_type": "stream",
     "text": [
      "train accuracy: 65.99%\n"
     ]
    },
    {
     "name": "stderr",
     "output_type": "stream",
     "text": [
      "100%|██████████| 79/79 [00:06<00:00, 13.06it/s]\n",
      "                                                           \r"
     ]
    },
    {
     "name": "stdout",
     "output_type": "stream",
     "text": [
      "Accuracy of the network on the valid images: 82.52%\n",
      "valid loss: 0.0054, valid accuracy: 82.52%\n",
      "best idx: 47, best accuracy: 82.52%\n"
     ]
    },
    {
     "name": "stderr",
     "output_type": "stream",
     "text": [
      "Epoch 48/200, accuracy 65.47%, train loss 0.0104, kl_loss_gate 0.0000, kl_loss_expert_usage 0.0000, learning rate 0.00018769251466436442: 100%|██████████| 313/313 [01:14<00:00,  4.23it/s]\n"
     ]
    },
    {
     "name": "stdout",
     "output_type": "stream",
     "text": [
      "train accuracy: 65.47%\n"
     ]
    },
    {
     "name": "stderr",
     "output_type": "stream",
     "text": [
      "100%|██████████| 79/79 [00:06<00:00, 13.12it/s]\n",
      "                                                           \r"
     ]
    },
    {
     "name": "stdout",
     "output_type": "stream",
     "text": [
      "Accuracy of the network on the valid images: 82.23%\n",
      "valid loss: 0.0052, valid accuracy: 82.23%\n",
      "best idx: 47, best accuracy: 82.52%\n"
     ]
    },
    {
     "name": "stderr",
     "output_type": "stream",
     "text": [
      "Epoch 49/200, accuracy 64.92%, train loss 0.0106, kl_loss_gate 0.0000, kl_loss_expert_usage 0.0000, learning rate 0.00018718577420645888: 100%|██████████| 313/313 [01:14<00:00,  4.19it/s]\n"
     ]
    },
    {
     "name": "stdout",
     "output_type": "stream",
     "text": [
      "train accuracy: 64.92%\n"
     ]
    },
    {
     "name": "stderr",
     "output_type": "stream",
     "text": [
      "100%|██████████| 79/79 [00:06<00:00, 12.67it/s]\n",
      "                                                           \r"
     ]
    },
    {
     "name": "stdout",
     "output_type": "stream",
     "text": [
      "Accuracy of the network on the valid images: 82.18%\n",
      "valid loss: 0.0052, valid accuracy: 82.18%\n",
      "best idx: 47, best accuracy: 82.52%\n"
     ]
    },
    {
     "name": "stderr",
     "output_type": "stream",
     "text": [
      "Epoch 50/200, accuracy 65.05%, train loss 0.0104, kl_loss_gate 0.0000, kl_loss_expert_usage 0.0000, learning rate 0.00018666952767655166: 100%|██████████| 313/313 [01:18<00:00,  4.01it/s]\n"
     ]
    },
    {
     "name": "stdout",
     "output_type": "stream",
     "text": [
      "train accuracy: 65.05%\n"
     ]
    },
    {
     "name": "stderr",
     "output_type": "stream",
     "text": [
      "100%|██████████| 79/79 [00:06<00:00, 12.32it/s]\n",
      "                                                           \r"
     ]
    },
    {
     "name": "stdout",
     "output_type": "stream",
     "text": [
      "Accuracy of the network on the valid images: 83.26%\n",
      "valid loss: 0.0048, valid accuracy: 83.26%\n",
      "best idx: 50, best accuracy: 83.26%\n"
     ]
    },
    {
     "name": "stderr",
     "output_type": "stream",
     "text": [
      "Epoch 51/200, accuracy 65.23%, train loss 0.0104, kl_loss_gate 0.0000, kl_loss_expert_usage 0.0000, learning rate 0.00018614383168689242: 100%|██████████| 313/313 [01:26<00:00,  3.64it/s]\n"
     ]
    },
    {
     "name": "stdout",
     "output_type": "stream",
     "text": [
      "train accuracy: 65.23%\n"
     ]
    },
    {
     "name": "stderr",
     "output_type": "stream",
     "text": [
      "100%|██████████| 79/79 [00:06<00:00, 12.69it/s]\n",
      "                                                           \r"
     ]
    },
    {
     "name": "stdout",
     "output_type": "stream",
     "text": [
      "Accuracy of the network on the valid images: 83.06%\n",
      "valid loss: 0.0052, valid accuracy: 83.06%\n",
      "best idx: 50, best accuracy: 83.26%\n"
     ]
    },
    {
     "name": "stderr",
     "output_type": "stream",
     "text": [
      "Epoch 52/200, accuracy 66.82%, train loss 0.0103, kl_loss_gate 0.0000, kl_loss_expert_usage 0.0000, learning rate 0.00018560874388597043: 100%|██████████| 313/313 [01:31<00:00,  3.41it/s]\n"
     ]
    },
    {
     "name": "stdout",
     "output_type": "stream",
     "text": [
      "train accuracy: 66.82%\n"
     ]
    },
    {
     "name": "stderr",
     "output_type": "stream",
     "text": [
      "100%|██████████| 79/79 [00:06<00:00, 12.79it/s]\n",
      "                                                           \r"
     ]
    },
    {
     "name": "stdout",
     "output_type": "stream",
     "text": [
      "Accuracy of the network on the valid images: 83.77%\n",
      "valid loss: 0.0047, valid accuracy: 83.77%\n",
      "best idx: 52, best accuracy: 83.77%\n"
     ]
    },
    {
     "name": "stderr",
     "output_type": "stream",
     "text": [
      "Epoch 53/200, accuracy 66.00%, train loss 0.0103, kl_loss_gate 0.0000, kl_loss_expert_usage 0.0000, learning rate 0.00018506432295219299:  89%|████████▉ | 280/313 [01:13<00:08,  3.83it/s]\n"
     ]
    },
    {
     "ename": "KeyboardInterrupt",
     "evalue": "",
     "output_type": "error",
     "traceback": [
      "\u001b[1;31m---------------------------------------------------------------------------\u001b[0m",
      "\u001b[1;31mKeyboardInterrupt\u001b[0m                         Traceback (most recent call last)",
      "Cell \u001b[1;32mIn[13], line 11\u001b[0m\n\u001b[0;32m      8\u001b[0m scheduler \u001b[38;5;241m=\u001b[39m torch\u001b[38;5;241m.\u001b[39moptim\u001b[38;5;241m.\u001b[39mlr_scheduler\u001b[38;5;241m.\u001b[39mCosineAnnealingLR(optimizer, \u001b[38;5;241m300\u001b[39m, eta_min\u001b[38;5;241m=\u001b[39m\u001b[38;5;241m1e-6\u001b[39m)\n\u001b[0;32m     10\u001b[0m \u001b[38;5;28mprint\u001b[39m(device)\n\u001b[1;32m---> 11\u001b[0m tacc,vacc \u001b[38;5;241m=\u001b[39m \u001b[43mtrain\u001b[49m\u001b[43m(\u001b[49m\u001b[38;5;241;43m200\u001b[39;49m\u001b[43m,\u001b[49m\u001b[43m \u001b[49m\u001b[43moptimizer\u001b[49m\u001b[43m,\u001b[49m\u001b[43m \u001b[49m\u001b[43mscheduler\u001b[49m\u001b[43m)\u001b[49m\n",
      "Cell \u001b[1;32mIn[11], line 36\u001b[0m, in \u001b[0;36mtrain\u001b[1;34m(epochs, optimizer, scheduler)\u001b[0m\n\u001b[0;32m     30\u001b[0m \u001b[38;5;66;03m# print(final_output.shape)\u001b[39;00m\n\u001b[0;32m     31\u001b[0m \u001b[38;5;28;01mwith\u001b[39;00m torch\u001b[38;5;241m.\u001b[39mno_grad():\n\u001b[0;32m     32\u001b[0m     \u001b[38;5;66;03m# _, answer = final_output.max(dim=1)\u001b[39;00m\n\u001b[0;32m     33\u001b[0m     \u001b[38;5;66;03m# trues += (answer == yb).sum().item()\u001b[39;00m\n\u001b[0;32m     34\u001b[0m     \u001b[38;5;66;03m# nums += len(yb)\u001b[39;00m\n\u001b[0;32m     35\u001b[0m     \u001b[38;5;66;03m# now final_output and yb are mixuped logits, shaped as (batch_size, num_classes)\u001b[39;00m\n\u001b[1;32m---> 36\u001b[0m     trues \u001b[38;5;241m+\u001b[39m\u001b[38;5;241m=\u001b[39m \u001b[43m(\u001b[49m\u001b[43mfinal_output\u001b[49m\u001b[38;5;241;43m.\u001b[39;49m\u001b[43margmax\u001b[49m\u001b[43m(\u001b[49m\u001b[43mdim\u001b[49m\u001b[38;5;241;43m=\u001b[39;49m\u001b[38;5;241;43m1\u001b[39;49m\u001b[43m)\u001b[49m\u001b[43m \u001b[49m\u001b[38;5;241;43m==\u001b[39;49m\u001b[43m \u001b[49m\u001b[43myb\u001b[49m\u001b[38;5;241;43m.\u001b[39;49m\u001b[43margmax\u001b[49m\u001b[43m(\u001b[49m\u001b[43mdim\u001b[49m\u001b[38;5;241;43m=\u001b[39;49m\u001b[38;5;241;43m1\u001b[39;49m\u001b[43m)\u001b[49m\u001b[43m)\u001b[49m\u001b[38;5;241;43m.\u001b[39;49m\u001b[43msum\u001b[49m\u001b[43m(\u001b[49m\u001b[43m)\u001b[49m\u001b[38;5;241;43m.\u001b[39;49m\u001b[43mitem\u001b[49m\u001b[43m(\u001b[49m\u001b[43m)\u001b[49m\n\u001b[0;32m     37\u001b[0m     nums \u001b[38;5;241m+\u001b[39m\u001b[38;5;241m=\u001b[39m yb\u001b[38;5;241m.\u001b[39mshape[\u001b[38;5;241m0\u001b[39m] \n\u001b[0;32m     38\u001b[0m     \u001b[38;5;66;03m# print(f'nums: {nums}, trues: {trues}')\u001b[39;00m\n",
      "\u001b[1;31mKeyboardInterrupt\u001b[0m: "
     ]
    }
   ],
   "source": [
    "net.to(device)\n",
    "def get_last_lr(log_path):\n",
    "    return 1e-4 # 默认学习率\n",
    "\n",
    "current_lr = get_last_lr(log_path)\n",
    "optimizer = torch.optim.Adam(net.parameters(),lr=current_lr,weight_decay=2.5e-4) \n",
    "#at the last epoch, lr becomes 0.1 of the starter lr\n",
    "scheduler = torch.optim.lr_scheduler.CosineAnnealingLR(optimizer, 300, eta_min=1e-6)\n",
    "\n",
    "print(device)\n",
    "tacc,vacc = train(300, optimizer, scheduler)"
   ]
  },
  {
   "cell_type": "code",
   "execution_count": null,
   "id": "38e39ed9",
   "metadata": {},
   "outputs": [
    {
     "name": "stderr",
     "output_type": "stream",
     "text": [
      "d:\\DL\\CodingProject2\\model_.py:209: UserWarning: Implicit dimension choice for log_softmax has been deprecated. Change the call to include dim=X as an argument.\n",
      "  kl_loss_expert_usage = F.kl_div(F.log_softmax(expert_usage_dist), uniform_dist, reduction='batchmean')\n"
     ]
    },
    {
     "name": "stdout",
     "output_type": "stream",
     "text": [
      "Accuracy of the network on the valid images: 91 %\n"
     ]
    },
    {
     "data": {
      "text/plain": [
       "91.92"
      ]
     },
     "execution_count": 182,
     "metadata": {},
     "output_type": "execute_result"
    }
   ],
   "source": [
    "from evaluation import evaluation\n",
    "evaluation(net,validloader,device)"
   ]
  },
  {
   "cell_type": "markdown",
   "id": "e793356d",
   "metadata": {
    "deletable": false,
    "editable": false,
    "nbgrader": {
     "cell_type": "markdown",
     "checksum": "885b0bf12e9c21f035c6df6199532ea9",
     "grade": false,
     "grade_id": "cell-a25d638df48b13bc",
     "locked": true,
     "schema_version": 3,
     "solution": false,
     "task": false
    }
   },
   "source": [
    "## Evaluation\n",
    "\n",
    "Before submission, please run the following cell to make sure your model can be correctly graded."
   ]
  }
 ],
 "metadata": {
  "kernelspec": {
   "display_name": "lora",
   "language": "python",
   "name": "python3"
  },
  "language_info": {
   "codemirror_mode": {
    "name": "ipython",
    "version": 3
   },
   "file_extension": ".py",
   "mimetype": "text/x-python",
   "name": "python",
   "nbconvert_exporter": "python",
   "pygments_lexer": "ipython3",
   "version": "3.10.16"
  },
  "toc": {
   "base_numbering": 1,
   "nav_menu": {},
   "number_sections": false,
   "sideBar": true,
   "skip_h1_title": false,
   "title_cell": "Table of Contents",
   "title_sidebar": "Contents",
   "toc_cell": false,
   "toc_position": {},
   "toc_section_display": true,
   "toc_window_display": false
  }
 },
 "nbformat": 4,
 "nbformat_minor": 5
}
