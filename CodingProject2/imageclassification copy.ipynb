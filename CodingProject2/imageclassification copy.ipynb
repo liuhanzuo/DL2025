{
 "cells": [
  {
   "cell_type": "markdown",
   "id": "f2dc0c4a",
   "metadata": {
    "deletable": false,
    "editable": false,
    "nbgrader": {
     "cell_type": "markdown",
     "checksum": "91a04155783901da96bbe67b7a5e64bd",
     "grade": false,
     "grade_id": "cell-a336e6ffe0bd52b7",
     "locked": true,
     "schema_version": 3,
     "solution": false,
     "task": false
    }
   },
   "source": [
    "## Deep Learning Coding Project 2: Image Classification\n",
    "\n",
    "Before we start, please put your **Chinese** name and student ID in following format:\n",
    "\n",
    "Name, 0000000000 // e.g.) 傅炜, 2021123123"
   ]
  },
  {
   "cell_type": "markdown",
   "id": "8a648ddc",
   "metadata": {
    "deletable": false,
    "nbgrader": {
     "cell_type": "markdown",
     "checksum": "933b227c504b89bf0c43186e8d0e39a1",
     "grade": true,
     "grade_id": "cell-13ce984a5d4a067a",
     "locked": false,
     "points": 0,
     "schema_version": 3,
     "solution": true,
     "task": false
    }
   },
   "source": [
    "刘涵祚,2024011303"
   ]
  },
  {
   "cell_type": "markdown",
   "id": "7468705d",
   "metadata": {
    "deletable": false,
    "editable": false,
    "nbgrader": {
     "cell_type": "markdown",
     "checksum": "cdd86b19ae7e03e9618718ef3c6ea9a0",
     "grade": false,
     "grade_id": "cell-a68075035123f58c",
     "locked": true,
     "schema_version": 3,
     "solution": false,
     "task": false
    }
   },
   "source": [
    "## Introduction\n",
    "\n",
    "We will use Python 3, [NumPy](https://numpy.org/), and [PyTorch](https://pytorch.org/) for this coding project. The example code has been tested under the latest stable release version.\n",
    "\n",
    "### Task\n",
    "\n",
    "In this notebook, you need to train a model to classify images. Given an image, you need to distinguish its category,\n",
    "e.g., whether it is a horse or an automobile. There are total 10 classes:\n",
    "airplane, automobile, bird, cat, deer, dog, frog, horse, ship and truck. We\n",
    "release 40,000 images for training, 10,000 images for validation. Each image has\n",
    "a shape of (3, 128, 128). We will evaluate your model in 10,000 images on the test set.\n",
    "\n",
    "Download the dataset from [here](https://cloud.tsinghua.edu.cn/d/00e0704738e04d32978b/) and organize them into a folder named \"cifar_10_4x\".\n",
    "\n",
    "<!-- Images can be classified as \"No Finding\" or **one or more types**. In the basic task, given an image, you only need to tell whether the X-ray indicates \"Infiltration\". In the bonus task, you need to tell whether *each* of the diseases exists.\n",
    "\n",
    "Images are taken from the [ChestX-ray14 dataset](https://www.kaggle.com/nih-chest-xrays/data) and downsampled to (256, 256). We release 44872 gray scale images for training and validation. We will evaluate your model on 10285 images in the test set. The dataset is available [here](https://cloud.tsinghua.edu.cn/d/16d06a89c5b4459db703/) and organized as follows: `train` directory includes all images for training and validation, and each line of `train.txt` records the labels separated by \"|\". -->\n",
    "\n",
    "### Coding\n",
    "\n",
    "We provide a code template. You can add new cells and modify our example to train your own model. To run this code, you should:\n",
    "\n",
    "+ implement your model (named `Net`) in `model.py`.\n",
    "+ implement your training loop in this notebook\n",
    "\n",
    "Your final submitted model should not be larger than **20M**. **Using any pretrained model is NOT permitted**.\n",
    "Besides, before you submit your result, **make sure you can test your model using our evaluation cell.** Name your best model \"cifar10_4x_best.pth\".\n",
    "\n",
    "### Report & Submission\n",
    "\n",
    "Your report should include:\n",
    "\n",
    "1. the details of your model\n",
    "2. all the hyper-parameters\n",
    "3. all the tricks or training techniques you use\n",
    "4. the training curve of your submitted model.\n",
    "\n",
    "Reporting additional ablation studies and how you improve your model are also encouraged.\n",
    "\n",
    "You should submit:\n",
    "\n",
    "+ all codes\n",
    "+ the model checkpoint (only \"cifar10_4x_best.pth\")\n",
    "+ your report (a separate \"pdf\")\n",
    "\n",
    "to web learning. We will use the evaluation code in this notebook to evaluate your model on the test set.\n",
    "\n",
    "### Grading\n",
    "\n",
    "We will grade this coding project based on the performance of your model (70%) and your report (30%). Regarding the evaluation metric of your model, assume your test accuracy is $X$, then your score is\n",
    "\n",
    "$\\frac{min(X,H)−0.6}{H−0.6}×7$\n",
    "\n",
    "where $H$ is accuracy of the model trained by TAs and $H=0.9$, i.e., you will get the full score if your test accuracy is above 90%.\n",
    "\n",
    "**Bonus**: The best submission with the highest testing accuracy will get 1 bonus point for the final course grade.\n",
    "\n",
    "**Avoid plagiarism! Any student who violates academic integrity will be seriously dealt with and receive an F for the course.**"
   ]
  },
  {
   "cell_type": "markdown",
   "id": "31f6d8c7",
   "metadata": {
    "deletable": false,
    "editable": false,
    "nbgrader": {
     "cell_type": "markdown",
     "checksum": "1ec5655a0d789db88709122c2a0ce6c9",
     "grade": false,
     "grade_id": "cell-4cee29f989d84cdc",
     "locked": true,
     "schema_version": 3,
     "solution": false,
     "task": false
    }
   },
   "source": [
    "## Code Template\n",
    "\n",
    "We have masked the the training loop in this notebook for you to complete. You should also overwrite \"model.py\" and implement your own model."
   ]
  },
  {
   "cell_type": "code",
   "execution_count": 1,
   "id": "d8c2354b",
   "metadata": {
    "deletable": false,
    "editable": false,
    "nbgrader": {
     "cell_type": "code",
     "checksum": "b34bc8b23f9c8e480a9671ef3453e7ac",
     "grade": false,
     "grade_id": "cell-a551fcc5ff27fb87",
     "locked": true,
     "schema_version": 3,
     "solution": false,
     "task": false
    }
   },
   "outputs": [],
   "source": [
    "# %load_ext autoreload\n",
    "# %autoreload 2"
   ]
  },
  {
   "cell_type": "markdown",
   "id": "62b4fcaa",
   "metadata": {
    "deletable": false,
    "editable": false,
    "nbgrader": {
     "cell_type": "markdown",
     "checksum": "4367d7a728b91da35685f558363c4d66",
     "grade": false,
     "grade_id": "cell-ce69007d45b9103b",
     "locked": true,
     "schema_version": 3,
     "solution": false,
     "task": false
    }
   },
   "source": [
    "### Setup Code\n",
    "\n",
    "If you use Colab in this coding project, please uncomment the code, fill the `GOOGLE_DRIVE_PATH_AFTER_MYDRIVE` and run the following cells to mount your Google drive. Then, the notebook can find the required file. If you run the notebook locally, you can skip the following cells."
   ]
  },
  {
   "cell_type": "code",
   "execution_count": 2,
   "id": "785a7720",
   "metadata": {},
   "outputs": [],
   "source": [
    "# from google.colab import drive\n",
    "# drive.mount('/content/drive')"
   ]
  },
  {
   "cell_type": "code",
   "execution_count": 3,
   "id": "ca391e22",
   "metadata": {},
   "outputs": [],
   "source": [
    "# import os\n",
    "\n",
    "# # TODO: Fill in the Google Drive path where you uploaded the assignment\n",
    "# # Example: If you create a 2022SP folder and put all the files under CP1 folder, then '2022SP/CP1'\n",
    "# # GOOGLE_DRIVE_PATH_AFTER_MYDRIVE = '2022SP/CP1'\n",
    "# GOOGLE_DRIVE_PATH_AFTER_MYDRIVE = None \n",
    "# GOOGLE_DRIVE_PATH = os.path.join('drive', 'MyDrive', GOOGLE_DRIVE_PATH_AFTER_MYDRIVE)\n",
    "# print(os.listdir(GOOGLE_DRIVE_PATH))"
   ]
  },
  {
   "cell_type": "code",
   "execution_count": 4,
   "id": "c62c2445",
   "metadata": {},
   "outputs": [],
   "source": [
    "# import sys\n",
    "# sys.path.append(GOOGLE_DRIVE_PATH)"
   ]
  },
  {
   "cell_type": "code",
   "execution_count": 5,
   "id": "2a227e03",
   "metadata": {
    "deletable": false,
    "editable": false,
    "nbgrader": {
     "cell_type": "code",
     "checksum": "8b7e3bc021f202881dd19297b1144711",
     "grade": false,
     "grade_id": "cell-e11eaf041d72deda",
     "locked": true,
     "schema_version": 3,
     "solution": false,
     "task": false
    }
   },
   "outputs": [],
   "source": [
    "from dataset import CIFAR10_4x\n",
    "from evaluation import evaluation\n",
    "\n",
    "from torchvision.transforms.v2 import MixUp\n",
    "from model_nodropout_new import Net  # this should be implemented by yourself\n",
    "from torch.utils.data import default_collate"
   ]
  },
  {
   "cell_type": "markdown",
   "id": "01370c88",
   "metadata": {},
   "source": [
    "### Enjoy Your Coding Time!"
   ]
  },
  {
   "cell_type": "code",
   "execution_count": 6,
   "id": "8ca3c36d",
   "metadata": {},
   "outputs": [],
   "source": [
    "import math\n",
    "import os\n",
    "import random\n",
    "import matplotlib.pyplot as plt\n",
    "import numpy as np\n",
    "import torch\n",
    "import torch.nn as nn\n",
    "import torch.nn.functional as F\n",
    "\n",
    "from torchvision import transforms\n",
    "from PIL import Image\n",
    "\n",
    "\n",
    "def set_seed(seed):\n",
    "    seed = int(seed)\n",
    "    if seed < 0 or seed > (2**32 - 1):\n",
    "        raise ValueError(\"Seed must be between 0 and 2**32 - 1\")\n",
    "    else:\n",
    "        random.seed(seed)\n",
    "        np.random.seed(seed)\n",
    "        torch.manual_seed(seed)\n",
    "        torch.cuda.manual_seed(seed)\n",
    "        torch.backends.cudnn.deterministic = True\n",
    "\n",
    "\n",
    "device = 'cuda' if torch.cuda.is_available() else 'cpu'\n",
    "set_seed(16)"
   ]
  },
  {
   "cell_type": "code",
   "execution_count": 7,
   "id": "ed366135",
   "metadata": {},
   "outputs": [],
   "source": [
    "data_root_dir = '.'\n",
    "\n",
    "transform = transforms.Compose([\n",
    "    transforms.ToTensor(),\n",
    "    transforms.Normalize([125 / 255, 124 / 255, 115 / 255],\n",
    "                         [60 / 255, 59 / 255, 64 / 255])\n",
    "    \n",
    "])\n",
    "\n",
    "\n",
    "train_transform = transforms.Compose([\n",
    "    transforms.RandomHorizontalFlip(),\n",
    "    transforms.RandomCrop(128, padding=4),\n",
    "    transforms.RandomRotation(30),\n",
    "    transforms.ColorJitter(brightness=0.3, contrast=0.3, saturation=0.3, hue=0.2),\n",
    "    transforms.RandomGrayscale(p=0.2),\n",
    "    transforms.RandomAffine(degrees=0, translate=(0.25, 0.25)),\n",
    "    transforms.RandomPerspective(distortion_scale=0.3, p=0.5),\n",
    "    transforms.ToTensor(),\n",
    "    transforms.Normalize([125 / 255, 124 / 255, 115 / 255], [60 / 255, 59 / 255, 64 / 255]),\n",
    "])\n",
    "\n"
   ]
  },
  {
   "cell_type": "code",
   "execution_count": 8,
   "id": "228d0018",
   "metadata": {},
   "outputs": [
    {
     "name": "stdout",
     "output_type": "stream",
     "text": [
      "Loading CIFAR10_4x at .\n",
      "Loading file at .\\cifar_10_4x\\train\n",
      "Loading CIFAR10_4x at .\n",
      "Loading file at .\\cifar_10_4x\\valid\n"
     ]
    }
   ],
   "source": [
    "NUMOFWORKERS = 1\n",
    "trainset = CIFAR10_4x(root=data_root_dir,\n",
    "                      split=\"train\", transform=train_transform)\n",
    "trainloader = torch.utils.data.DataLoader(\n",
    "    trainset, batch_size=64, shuffle=True, num_workers=NUMOFWORKERS, pin_memory=True)\n",
    "\n",
    "validset = CIFAR10_4x(root=data_root_dir,\n",
    "                      split='valid', transform=transform)\n",
    "validloader = torch.utils.data.DataLoader(\n",
    "    validset, batch_size=128, shuffle=False, num_workers=NUMOFWORKERS)"
   ]
  },
  {
   "cell_type": "code",
   "execution_count": 9,
   "id": "bc63d0c6",
   "metadata": {},
   "outputs": [
    {
     "name": "stdout",
     "output_type": "stream",
     "text": [
      "number of trained parameters: 5136714\n",
      "number of total parameters: 5136714\n",
      "cuda\n"
     ]
    }
   ],
   "source": [
    "####################################\n",
    "#                                  #\n",
    "#                                  #\n",
    "#                                  #\n",
    "#                                  #\n",
    "#        RUN THIS FOR NEW MODEL    #\n",
    "#                                  #\n",
    "#                                  #\n",
    "#                                  #\n",
    "#                                  #\n",
    "####################################\n",
    "net = Net()\n",
    "print(\"number of trained parameters: %d\" % (\n",
    "    sum([param.nelement() for param in net.parameters() if param.requires_grad])))\n",
    "print(\"number of total parameters: %d\" %\n",
    "      (sum([param.nelement() for param in net.parameters()])))\n",
    "\n",
    "criterion = nn.CrossEntropyLoss()\n",
    "train_history = []\n",
    "optimizer = torch.optim.Adam(net.parameters(), lr=1e-3)\n",
    "print(device)\n",
    "net.to(device)"
   ]
  },
  {
   "cell_type": "code",
   "execution_count": 10,
   "id": "c9e88bf8",
   "metadata": {},
   "outputs": [
    {
     "name": "stderr",
     "output_type": "stream",
     "text": [
      "\u001b[34m\u001b[1mwandb\u001b[0m: Currently logged in as: \u001b[33mlhz24\u001b[0m (\u001b[33mlhz24-tsinghua-university\u001b[0m) to \u001b[32mhttps://api.wandb.ai\u001b[0m. Use \u001b[1m`wandb login --relogin`\u001b[0m to force relogin\n",
      "\u001b[34m\u001b[1mwandb\u001b[0m: Using wandb-core as the SDK backend.  Please refer to https://wandb.me/wandb-core for more information.\n"
     ]
    },
    {
     "data": {
      "text/html": [
       "Tracking run with wandb version 0.19.6"
      ],
      "text/plain": [
       "<IPython.core.display.HTML object>"
      ]
     },
     "metadata": {},
     "output_type": "display_data"
    },
    {
     "data": {
      "text/html": [
       "Run data is saved locally in <code>d:\\DL\\CodingProject2\\wandb\\run-20250309_150009-o1lodkbl</code>"
      ],
      "text/plain": [
       "<IPython.core.display.HTML object>"
      ]
     },
     "metadata": {},
     "output_type": "display_data"
    },
    {
     "data": {
      "text/html": [
       "Syncing run <strong><a href='https://wandb.ai/lhz24-tsinghua-university/cifar10_4x_dropout/runs/o1lodkbl' target=\"_blank\">devoted-wave-22</a></strong> to <a href='https://wandb.ai/lhz24-tsinghua-university/cifar10_4x_dropout' target=\"_blank\">Weights & Biases</a> (<a href='https://wandb.me/developer-guide' target=\"_blank\">docs</a>)<br>"
      ],
      "text/plain": [
       "<IPython.core.display.HTML object>"
      ]
     },
     "metadata": {},
     "output_type": "display_data"
    },
    {
     "data": {
      "text/html": [
       " View project at <a href='https://wandb.ai/lhz24-tsinghua-university/cifar10_4x_dropout' target=\"_blank\">https://wandb.ai/lhz24-tsinghua-university/cifar10_4x_dropout</a>"
      ],
      "text/plain": [
       "<IPython.core.display.HTML object>"
      ]
     },
     "metadata": {},
     "output_type": "display_data"
    },
    {
     "data": {
      "text/html": [
       " View run at <a href='https://wandb.ai/lhz24-tsinghua-university/cifar10_4x_dropout/runs/o1lodkbl' target=\"_blank\">https://wandb.ai/lhz24-tsinghua-university/cifar10_4x_dropout/runs/o1lodkbl</a>"
      ],
      "text/plain": [
       "<IPython.core.display.HTML object>"
      ]
     },
     "metadata": {},
     "output_type": "display_data"
    },
    {
     "name": "stdout",
     "output_type": "stream",
     "text": [
      "Loaded model from cifar10_4x_best.pth\n",
      "----------------------------------------------------------------\n",
      "        Layer (type)               Output Shape         Param #\n",
      "================================================================\n",
      "            Conv2d-1         [-1, 64, 128, 128]           9,472\n",
      "       BatchNorm2d-2         [-1, 64, 128, 128]             128\n",
      "         MaxPool2d-3           [-1, 64, 64, 64]               0\n",
      "            Conv2d-4           [-1, 64, 64, 64]         102,464\n",
      "       BatchNorm2d-5           [-1, 64, 64, 64]             128\n",
      "              SiLU-6           [-1, 64, 64, 64]               0\n",
      "            Conv2d-7           [-1, 64, 64, 64]         102,464\n",
      "            Conv2d-8           [-1, 64, 64, 64]         102,464\n",
      "       BatchNorm2d-9           [-1, 64, 64, 64]             128\n",
      "             SiLU-10           [-1, 64, 64, 64]               0\n",
      "           Conv2d-11           [-1, 64, 64, 64]         102,464\n",
      "           Conv2d-12           [-1, 64, 64, 64]         102,464\n",
      "      BatchNorm2d-13           [-1, 64, 64, 64]             128\n",
      "             SiLU-14           [-1, 64, 64, 64]               0\n",
      "           Conv2d-15           [-1, 64, 64, 64]         102,464\n",
      "           Conv2d-16           [-1, 64, 64, 64]         102,464\n",
      "      BatchNorm2d-17           [-1, 64, 64, 64]             128\n",
      "             SiLU-18           [-1, 64, 64, 64]               0\n",
      "           Conv2d-19           [-1, 64, 64, 64]         102,464\n",
      "           Conv2d-20           [-1, 64, 64, 64]          36,928\n",
      "      BatchNorm2d-21           [-1, 64, 64, 64]             128\n",
      "             SiLU-22           [-1, 64, 64, 64]               0\n",
      "           Conv2d-23           [-1, 64, 64, 64]          36,928\n",
      "           Conv2d-24           [-1, 64, 64, 64]          36,928\n",
      "      BatchNorm2d-25           [-1, 64, 64, 64]             128\n",
      "             SiLU-26           [-1, 64, 64, 64]               0\n",
      "           Conv2d-27           [-1, 64, 64, 64]          36,928\n",
      "           Conv2d-28           [-1, 64, 64, 64]          36,928\n",
      "      BatchNorm2d-29           [-1, 64, 64, 64]             128\n",
      "             SiLU-30           [-1, 64, 64, 64]               0\n",
      "           Conv2d-31           [-1, 64, 64, 64]          36,928\n",
      "           Conv2d-32           [-1, 64, 64, 64]          36,928\n",
      "      BatchNorm2d-33           [-1, 64, 64, 64]             128\n",
      "             SiLU-34           [-1, 64, 64, 64]               0\n",
      "           Conv2d-35           [-1, 64, 64, 64]          36,928\n",
      "           Conv2d-36          [-1, 128, 32, 32]         147,584\n",
      "      BatchNorm2d-37          [-1, 128, 32, 32]             256\n",
      "        MaxPool2d-38          [-1, 128, 16, 16]               0\n",
      "           Conv2d-39          [-1, 128, 16, 16]         147,584\n",
      "      BatchNorm2d-40          [-1, 128, 16, 16]             256\n",
      "             SiLU-41          [-1, 128, 16, 16]               0\n",
      "           Conv2d-42          [-1, 128, 16, 16]         147,584\n",
      "           Conv2d-43          [-1, 128, 16, 16]         147,584\n",
      "      BatchNorm2d-44          [-1, 128, 16, 16]             256\n",
      "             SiLU-45          [-1, 128, 16, 16]               0\n",
      "           Conv2d-46          [-1, 128, 16, 16]         147,584\n",
      "           Conv2d-47          [-1, 128, 16, 16]         147,584\n",
      "      BatchNorm2d-48          [-1, 128, 16, 16]             256\n",
      "             SiLU-49          [-1, 128, 16, 16]               0\n",
      "           Conv2d-50          [-1, 128, 16, 16]         147,584\n",
      "           Conv2d-51          [-1, 128, 16, 16]         147,584\n",
      "      BatchNorm2d-52          [-1, 128, 16, 16]             256\n",
      "             SiLU-53          [-1, 128, 16, 16]               0\n",
      "           Conv2d-54          [-1, 128, 16, 16]         147,584\n",
      "           Conv2d-55          [-1, 128, 16, 16]         409,728\n",
      "      BatchNorm2d-56          [-1, 128, 16, 16]             256\n",
      "        MaxPool2d-57            [-1, 128, 8, 8]               0\n",
      "           Linear-58                   [-1, 32]         262,176\n",
      "             GELU-59                   [-1, 32]               0\n",
      "          Dropout-60                   [-1, 32]               0\n",
      "           Conv2d-61            [-1, 128, 8, 8]         147,584\n",
      "      BatchNorm2d-62            [-1, 128, 8, 8]             256\n",
      "             SiLU-63            [-1, 128, 8, 8]               0\n",
      "           Conv2d-64            [-1, 128, 8, 8]         147,584\n",
      "           Conv2d-65            [-1, 128, 8, 8]         147,584\n",
      "      BatchNorm2d-66            [-1, 128, 8, 8]             256\n",
      "             SiLU-67            [-1, 128, 8, 8]               0\n",
      "           Conv2d-68            [-1, 128, 8, 8]         147,584\n",
      "           Conv2d-69            [-1, 128, 8, 8]         147,584\n",
      "      BatchNorm2d-70            [-1, 128, 8, 8]             256\n",
      "             SiLU-71            [-1, 128, 8, 8]               0\n",
      "           Conv2d-72            [-1, 128, 8, 8]         147,584\n",
      "           Conv2d-73            [-1, 128, 8, 8]         147,584\n",
      "      BatchNorm2d-74            [-1, 128, 8, 8]             256\n",
      "             SiLU-75            [-1, 128, 8, 8]               0\n",
      "           Conv2d-76            [-1, 128, 8, 8]         147,584\n",
      "           Linear-77                   [-1, 32]         262,176\n",
      "             GELU-78                   [-1, 32]               0\n",
      "          Dropout-79                   [-1, 32]               0\n",
      "           Conv2d-80             [-1, 64, 8, 8]          73,792\n",
      "      BatchNorm2d-81             [-1, 64, 8, 8]             128\n",
      "        MaxPool2d-82             [-1, 64, 4, 4]               0\n",
      "           Linear-83                   [-1, 64]          65,600\n",
      "             GELU-84                   [-1, 64]               0\n",
      "          Dropout-85                   [-1, 64]               0\n",
      "           Conv2d-86             [-1, 64, 4, 4]          36,928\n",
      "      BatchNorm2d-87             [-1, 64, 4, 4]             128\n",
      "             SiLU-88             [-1, 64, 4, 4]               0\n",
      "           Conv2d-89             [-1, 64, 4, 4]          36,928\n",
      "           Conv2d-90             [-1, 64, 4, 4]          36,928\n",
      "      BatchNorm2d-91             [-1, 64, 4, 4]             128\n",
      "             SiLU-92             [-1, 64, 4, 4]               0\n",
      "           Conv2d-93             [-1, 64, 4, 4]          36,928\n",
      "           Conv2d-94             [-1, 64, 4, 4]          36,928\n",
      "      BatchNorm2d-95             [-1, 64, 4, 4]             128\n",
      "             SiLU-96             [-1, 64, 4, 4]               0\n",
      "           Conv2d-97             [-1, 64, 4, 4]          36,928\n",
      "           Linear-98                   [-1, 64]          65,600\n",
      "             GELU-99                   [-1, 64]               0\n",
      "         Dropout-100                   [-1, 64]               0\n",
      "          Linear-101                   [-1, 64]           4,160\n",
      "            GELU-102                   [-1, 64]               0\n",
      "         Dropout-103                   [-1, 64]               0\n",
      "          Linear-104                  [-1, 256]          65,792\n",
      "            GELU-105                  [-1, 256]               0\n",
      "         Dropout-106                  [-1, 256]               0\n",
      "          Linear-107                  [-1, 256]          65,792\n",
      "            GELU-108                  [-1, 256]               0\n",
      "         Dropout-109                  [-1, 256]               0\n",
      "          Linear-110                   [-1, 10]           2,570\n",
      "================================================================\n",
      "Total params: 5,136,714\n",
      "Trainable params: 5,136,714\n",
      "Non-trainable params: 0\n",
      "----------------------------------------------------------------\n",
      "Input size (MB): 0.19\n",
      "Forward/backward pass size (MB): 89.99\n",
      "Params size (MB): 19.60\n",
      "Estimated Total Size (MB): 109.78\n",
      "----------------------------------------------------------------\n"
     ]
    }
   ],
   "source": [
    "# NO EXECUTION\n",
    "import os\n",
    "import torch\n",
    "from torchsummary import summary\n",
    "import wandb\n",
    "wandb.init(project='cifar10_4x_dropout')\n",
    "model_dir = './checkpoint_nodropout_new0.1'\n",
    "if not os.path.exists(model_dir):\n",
    "    os.makedirs(model_dir)\n",
    "\n",
    "def kaiming_init(m):\n",
    "    if isinstance(m, torch.nn.Conv2d) or isinstance(m, torch.nn.Linear):\n",
    "        torch.nn.init.kaiming_normal_(m.weight, nonlinearity='tanh')\n",
    "        if m.bias is not None:\n",
    "            torch.nn.init.constant_(m.bias, 0)\n",
    "\n",
    "net.apply(kaiming_init)\n",
    "# os.system(' '.join(['du', '-h', os.path.join(model_dir, 'cifar10_4x_0.pth')]))\n",
    "\n",
    "if os.path.exists(os.path.join(model_dir, f'cifar10_4x_best.pth')):\n",
    "    net = torch.load(os.path.join(model_dir, f'cifar10_4x_best.pth'), weights_only=False)\n",
    "# else:\n",
    "    # torch.save(net, os.path.join(model_dir, f'cifar10_4x_best.pth'))\n",
    "\n",
    "print(f\"Loaded model from cifar10_4x_best.pth\")\n",
    "log_path = os.path.join(model_dir, 'log.json')\n",
    "#create the file at log_path\n",
    "log_file = open(log_path, 'w')\n",
    "summary(net, input_size=(3, 128, 128))\n"
   ]
  },
  {
   "cell_type": "code",
   "execution_count": 11,
   "id": "45e11f0a",
   "metadata": {
    "deletable": false,
    "nbgrader": {
     "cell_type": "code",
     "checksum": "b9c6c195145fd44d054849497f0be5e3",
     "grade": false,
     "grade_id": "cell-2ea063d5855124d3",
     "locked": false,
     "schema_version": 3,
     "solution": true,
     "task": false
    }
   },
   "outputs": [],
   "source": [
    "import json\n",
    "\n",
    "def train(epochs:int, optimizer, scheduler, alpha_rate=0.1):\n",
    "    mixup = MixUp(num_classes=10, alpha=alpha_rate)\n",
    "    ##############################################################################\n",
    "    #                  TODO: You need to complete the code here                  #\n",
    "    ##############################################################################\n",
    "    # YOUR CODE HERE\n",
    "    # print(optimizer.param_groups[0])\n",
    "    results = []\n",
    "    best_idx = 0\n",
    "    best_acc = 0\n",
    "    from tqdm import tqdm\n",
    "    from evaluation import evaluation\n",
    "    best_acc = evaluation(net, validloader, device)\n",
    "    print(f'best accuracy: {best_acc:.2f}%')\n",
    "    for epoch in range(epochs):\n",
    "        net.train()\n",
    "        with tqdm(trainloader) as bar:\n",
    "            nums = trues = 0\n",
    "            losses = 0\n",
    "            for i, (xb, yb) in enumerate(bar): #这里 xb是图片 yb是标签\n",
    "                xb, yb = xb.to(device), yb.to(device)\n",
    "                # print(xb.shape, yb.shape)\n",
    "                xb, yb = mixup(xb, yb)\n",
    "                # print(xb.shape, yb.shape)\n",
    "                optimizer.zero_grad()\n",
    "                final_output = net(xb)\n",
    "                # print(final_output.shape)\n",
    "                with torch.no_grad():\n",
    "                    # _, answer = final_output.max(dim=1)\n",
    "                    # trues += (answer == yb).sum().item()\n",
    "                    # nums += len(yb)\n",
    "                    # now final_output and yb are mixuped logits, shaped as (batch_size, num_classes)\n",
    "                    trues += (final_output.argmax(dim=1) == yb.argmax(dim=1)).sum().item()\n",
    "                    nums += yb.shape[0] \n",
    "                    # print(f'nums: {nums}, trues: {trues}')\n",
    "                loss = criterion(final_output, yb)\n",
    "                losses += loss\n",
    "                loss.backward()\n",
    "                optimizer.step()\n",
    "                if (i % 1 == 0):\n",
    "                    train_loss = losses / nums\n",
    "                    bar.set_description(f'Epoch {epoch}/{epochs}, accuracy {100 * trues / nums:.2f}%, train loss {train_loss:.4f}, learning rate {optimizer.param_groups[0][\"lr\"]}')\n",
    "        train_acc = 100 * trues / nums\n",
    "        print(f'train accuracy: {train_acc:.2f}%')\n",
    "        net.eval()\n",
    "        nums = loss = 0\n",
    "        with tqdm(validloader) as bar:\n",
    "            with torch.no_grad():\n",
    "                for i, (xb, yb) in enumerate(bar):\n",
    "                    xb, yb = xb.to(device), yb.to(device)\n",
    "                    final_output = net(xb)\n",
    "                    loss += criterion(final_output, yb)\n",
    "                    nums += len(yb)\n",
    "        valid_loss = loss / nums\n",
    "        valid_acc = evaluation(net, validloader, device)\n",
    "        print(f'valid loss: {valid_loss:.4f}, valid accuracy: {valid_acc:.2f}%')\n",
    "        results.append({'train accuracy': train_acc, 'valid accuracy': valid_acc, 'loss': (losses / nums).sum().item(), 'valid loss': (valid_loss).sum().item()})\n",
    "        bar.set_description(f'Epoch {epoch}/{epochs}, train accuracy {train_acc:.2f}%, valid accuracy {valid_acc:.2f}%, train loss {losses / nums:.4f}, valid loss {valid_loss:.4f}, learning rate {optimizer.param_groups[0][\"lr\"]}')\n",
    "        #save the checkpoint\n",
    "        scheduler.step()\n",
    "        # torch.save(net, os.path.join(model_dir, f'cifar10_4x_{epoch + largest}.pth'))\n",
    "        if valid_acc > best_acc:\n",
    "            best_acc = valid_acc\n",
    "            best_idx = epoch \n",
    "            torch.save(net, os.path.join(model_dir, f'cifar10_4x_best.pth'))\n",
    "        print(f'best idx: {best_idx}, best accuracy: {best_acc:.2f}%')\n",
    "        with open(log_path, 'w') as f:\n",
    "            f.write(json.dumps(results) + '\\n')\n",
    "        wandb.log({\n",
    "            'epoch': epoch,\n",
    "            'train_loss': train_loss.item(),\n",
    "            'valid_loss': valid_loss.item(),\n",
    "            'train_accuracy': train_acc,\n",
    "            'valid_accuracy': valid_acc,\n",
    "            'learning_rate': optimizer.param_groups[0]['lr']\n",
    "        })\n",
    "    return train_acc, valid_acc\n",
    "    ##############################################################################\n",
    "    #                              END OF YOUR CODE                              #\n",
    "    ##############################################################################"
   ]
  },
  {
   "cell_type": "code",
   "execution_count": 12,
   "id": "5cf717e0",
   "metadata": {},
   "outputs": [],
   "source": [
    "torch.backends.cudnn.enabled = True"
   ]
  },
  {
   "cell_type": "code",
   "execution_count": 13,
   "id": "6e073ec2",
   "metadata": {},
   "outputs": [
    {
     "name": "stdout",
     "output_type": "stream",
     "text": [
      "cuda\n"
     ]
    },
    {
     "name": "stderr",
     "output_type": "stream",
     "text": [
      "                                                           \r"
     ]
    },
    {
     "name": "stdout",
     "output_type": "stream",
     "text": [
      "Accuracy of the network on the valid images: 95.82%\n",
      "best accuracy: 95.82%\n"
     ]
    },
    {
     "name": "stderr",
     "output_type": "stream",
     "text": [
      "Epoch 0/200, accuracy 93.53%, train loss 0.0074, learning rate 1e-05: 100%|██████████| 625/625 [01:15<00:00,  8.24it/s]\n"
     ]
    },
    {
     "name": "stdout",
     "output_type": "stream",
     "text": [
      "train accuracy: 93.53%\n"
     ]
    },
    {
     "name": "stderr",
     "output_type": "stream",
     "text": [
      "100%|██████████| 79/79 [00:07<00:00, 10.64it/s]\n",
      "                                                           \r"
     ]
    },
    {
     "name": "stdout",
     "output_type": "stream",
     "text": [
      "Accuracy of the network on the valid images: 95.73%\n",
      "valid loss: 0.0013, valid accuracy: 95.73%\n",
      "best idx: 0, best accuracy: 95.82%\n"
     ]
    },
    {
     "name": "stderr",
     "output_type": "stream",
     "text": [
      "Epoch 1/200, accuracy 93.02%, train loss 0.0079, learning rate 9.999444846167474e-06: 100%|██████████| 625/625 [01:14<00:00,  8.44it/s]\n"
     ]
    },
    {
     "name": "stdout",
     "output_type": "stream",
     "text": [
      "train accuracy: 93.02%\n"
     ]
    },
    {
     "name": "stderr",
     "output_type": "stream",
     "text": [
      "100%|██████████| 79/79 [00:07<00:00, 10.64it/s]\n",
      "                                                           \r"
     ]
    },
    {
     "name": "stdout",
     "output_type": "stream",
     "text": [
      "Accuracy of the network on the valid images: 95.88%\n",
      "valid loss: 0.0013, valid accuracy: 95.88%\n",
      "best idx: 1, best accuracy: 95.88%\n"
     ]
    },
    {
     "name": "stderr",
     "output_type": "stream",
     "text": [
      "Epoch 2/200, accuracy 92.42%, train loss 0.0082, learning rate 9.997779521645793e-06: 100%|██████████| 625/625 [01:14<00:00,  8.34it/s]\n"
     ]
    },
    {
     "name": "stdout",
     "output_type": "stream",
     "text": [
      "train accuracy: 92.42%\n"
     ]
    },
    {
     "name": "stderr",
     "output_type": "stream",
     "text": [
      "100%|██████████| 79/79 [00:07<00:00, 10.64it/s]\n",
      "                                                           \r"
     ]
    },
    {
     "name": "stdout",
     "output_type": "stream",
     "text": [
      "Accuracy of the network on the valid images: 95.79%\n",
      "valid loss: 0.0016, valid accuracy: 95.79%\n",
      "best idx: 1, best accuracy: 95.88%\n"
     ]
    },
    {
     "name": "stderr",
     "output_type": "stream",
     "text": [
      "Epoch 3/200, accuracy 93.27%, train loss 0.0077, learning rate 9.995004437328866e-06: 100%|██████████| 625/625 [01:15<00:00,  8.29it/s]\n"
     ]
    },
    {
     "name": "stdout",
     "output_type": "stream",
     "text": [
      "train accuracy: 93.27%\n"
     ]
    },
    {
     "name": "stderr",
     "output_type": "stream",
     "text": [
      "100%|██████████| 79/79 [00:07<00:00, 10.63it/s]\n",
      "                                                           \r"
     ]
    },
    {
     "name": "stdout",
     "output_type": "stream",
     "text": [
      "Accuracy of the network on the valid images: 95.79%\n",
      "valid loss: 0.0014, valid accuracy: 95.79%\n",
      "best idx: 1, best accuracy: 95.88%\n"
     ]
    },
    {
     "name": "stderr",
     "output_type": "stream",
     "text": [
      "Epoch 4/200, accuracy 93.28%, train loss 0.0077, learning rate 9.991120277927224e-06: 100%|██████████| 625/625 [01:14<00:00,  8.38it/s]\n"
     ]
    },
    {
     "name": "stdout",
     "output_type": "stream",
     "text": [
      "train accuracy: 93.28%\n"
     ]
    },
    {
     "name": "stderr",
     "output_type": "stream",
     "text": [
      "100%|██████████| 79/79 [00:07<00:00, 10.62it/s]\n",
      "                                                           \r"
     ]
    },
    {
     "name": "stdout",
     "output_type": "stream",
     "text": [
      "Accuracy of the network on the valid images: 95.77%\n",
      "valid loss: 0.0014, valid accuracy: 95.77%\n",
      "best idx: 1, best accuracy: 95.88%\n"
     ]
    },
    {
     "name": "stderr",
     "output_type": "stream",
     "text": [
      "Epoch 5/200, accuracy 92.45%, train loss 0.0082, learning rate 9.986128001799078e-06: 100%|██████████| 625/625 [01:14<00:00,  8.40it/s]\n"
     ]
    },
    {
     "name": "stdout",
     "output_type": "stream",
     "text": [
      "train accuracy: 92.45%\n"
     ]
    },
    {
     "name": "stderr",
     "output_type": "stream",
     "text": [
      "100%|██████████| 79/79 [00:07<00:00, 10.65it/s]\n",
      "                                                           \r"
     ]
    },
    {
     "name": "stdout",
     "output_type": "stream",
     "text": [
      "Accuracy of the network on the valid images: 95.80%\n",
      "valid loss: 0.0013, valid accuracy: 95.80%\n",
      "best idx: 1, best accuracy: 95.88%\n"
     ]
    },
    {
     "name": "stderr",
     "output_type": "stream",
     "text": [
      "Epoch 6/200, accuracy 92.21%, train loss 0.0082, learning rate 9.980028840713862e-06: 100%|██████████| 625/625 [01:14<00:00,  8.35it/s]\n"
     ]
    },
    {
     "name": "stdout",
     "output_type": "stream",
     "text": [
      "train accuracy: 92.21%\n"
     ]
    },
    {
     "name": "stderr",
     "output_type": "stream",
     "text": [
      "100%|██████████| 79/79 [00:07<00:00, 10.67it/s]\n",
      "                                                           \r"
     ]
    },
    {
     "name": "stdout",
     "output_type": "stream",
     "text": [
      "Accuracy of the network on the valid images: 95.83%\n",
      "valid loss: 0.0013, valid accuracy: 95.83%\n",
      "best idx: 1, best accuracy: 95.88%\n"
     ]
    },
    {
     "name": "stderr",
     "output_type": "stream",
     "text": [
      "Epoch 7/200, accuracy 92.86%, train loss 0.0078, learning rate 9.972824299548312e-06: 100%|██████████| 625/625 [01:14<00:00,  8.37it/s]\n"
     ]
    },
    {
     "name": "stdout",
     "output_type": "stream",
     "text": [
      "train accuracy: 92.86%\n"
     ]
    },
    {
     "name": "stderr",
     "output_type": "stream",
     "text": [
      "100%|██████████| 79/79 [00:07<00:00, 10.62it/s]\n",
      "                                                           \r"
     ]
    },
    {
     "name": "stdout",
     "output_type": "stream",
     "text": [
      "Accuracy of the network on the valid images: 95.75%\n",
      "valid loss: 0.0013, valid accuracy: 95.75%\n",
      "best idx: 1, best accuracy: 95.88%\n"
     ]
    },
    {
     "name": "stderr",
     "output_type": "stream",
     "text": [
      "Epoch 8/200, accuracy 92.45%, train loss 0.0084, learning rate 9.964516155915153e-06: 100%|██████████| 625/625 [01:15<00:00,  8.31it/s]\n"
     ]
    },
    {
     "name": "stdout",
     "output_type": "stream",
     "text": [
      "train accuracy: 92.45%\n"
     ]
    },
    {
     "name": "stderr",
     "output_type": "stream",
     "text": [
      "100%|██████████| 79/79 [00:07<00:00, 10.65it/s]\n",
      "                                                           \r"
     ]
    },
    {
     "name": "stdout",
     "output_type": "stream",
     "text": [
      "Accuracy of the network on the valid images: 95.70%\n",
      "valid loss: 0.0013, valid accuracy: 95.70%\n",
      "best idx: 1, best accuracy: 95.88%\n"
     ]
    },
    {
     "name": "stderr",
     "output_type": "stream",
     "text": [
      "Epoch 9/200, accuracy 92.06%, train loss 0.0080, learning rate 9.95510645972451e-06: 100%|██████████| 625/625 [01:13<00:00,  8.45it/s]\n"
     ]
    },
    {
     "name": "stdout",
     "output_type": "stream",
     "text": [
      "train accuracy: 92.06%\n"
     ]
    },
    {
     "name": "stderr",
     "output_type": "stream",
     "text": [
      "100%|██████████| 79/79 [00:07<00:00, 10.65it/s]\n",
      "                                                           \r"
     ]
    },
    {
     "name": "stdout",
     "output_type": "stream",
     "text": [
      "Accuracy of the network on the valid images: 95.74%\n",
      "valid loss: 0.0013, valid accuracy: 95.74%\n",
      "best idx: 1, best accuracy: 95.88%\n"
     ]
    },
    {
     "name": "stderr",
     "output_type": "stream",
     "text": [
      "Epoch 10/200, accuracy 93.56%, train loss 0.0075, learning rate 9.94459753267812e-06: 100%|██████████| 625/625 [01:14<00:00,  8.37it/s]\n"
     ]
    },
    {
     "name": "stdout",
     "output_type": "stream",
     "text": [
      "train accuracy: 93.56%\n"
     ]
    },
    {
     "name": "stderr",
     "output_type": "stream",
     "text": [
      "100%|██████████| 79/79 [00:07<00:00, 10.64it/s]\n",
      "                                                           \r"
     ]
    },
    {
     "name": "stdout",
     "output_type": "stream",
     "text": [
      "Accuracy of the network on the valid images: 95.73%\n",
      "valid loss: 0.0013, valid accuracy: 95.73%\n",
      "best idx: 1, best accuracy: 95.88%\n"
     ]
    },
    {
     "name": "stderr",
     "output_type": "stream",
     "text": [
      "Epoch 11/200, accuracy 92.75%, train loss 0.0083, learning rate 9.932991967696484e-06: 100%|██████████| 625/625 [01:14<00:00,  8.37it/s]\n"
     ]
    },
    {
     "name": "stdout",
     "output_type": "stream",
     "text": [
      "train accuracy: 92.75%\n"
     ]
    },
    {
     "name": "stderr",
     "output_type": "stream",
     "text": [
      "100%|██████████| 79/79 [00:07<00:00, 10.68it/s]\n",
      "                                                           \r"
     ]
    },
    {
     "name": "stdout",
     "output_type": "stream",
     "text": [
      "Accuracy of the network on the valid images: 95.81%\n",
      "valid loss: 0.0013, valid accuracy: 95.81%\n",
      "best idx: 1, best accuracy: 95.88%\n"
     ]
    },
    {
     "name": "stderr",
     "output_type": "stream",
     "text": [
      "Epoch 12/200, accuracy 92.76%, train loss 0.0081, learning rate 9.920292628279101e-06: 100%|██████████| 625/625 [01:14<00:00,  8.38it/s]\n"
     ]
    },
    {
     "name": "stdout",
     "output_type": "stream",
     "text": [
      "train accuracy: 92.76%\n"
     ]
    },
    {
     "name": "stderr",
     "output_type": "stream",
     "text": [
      "100%|██████████| 79/79 [00:07<00:00, 10.67it/s]\n",
      "                                                           \r"
     ]
    },
    {
     "name": "stdout",
     "output_type": "stream",
     "text": [
      "Accuracy of the network on the valid images: 95.81%\n",
      "valid loss: 0.0013, valid accuracy: 95.81%\n",
      "best idx: 1, best accuracy: 95.88%\n"
     ]
    },
    {
     "name": "stderr",
     "output_type": "stream",
     "text": [
      "Epoch 13/200, accuracy 93.44%, train loss 0.0077, learning rate 9.906502647797948e-06: 100%|██████████| 625/625 [01:13<00:00,  8.51it/s]\n"
     ]
    },
    {
     "name": "stdout",
     "output_type": "stream",
     "text": [
      "train accuracy: 93.44%\n"
     ]
    },
    {
     "name": "stderr",
     "output_type": "stream",
     "text": [
      "100%|██████████| 79/79 [00:07<00:00, 10.80it/s]\n",
      "                                                           \r"
     ]
    },
    {
     "name": "stdout",
     "output_type": "stream",
     "text": [
      "Accuracy of the network on the valid images: 95.76%\n",
      "valid loss: 0.0015, valid accuracy: 95.76%\n",
      "best idx: 1, best accuracy: 95.88%\n"
     ]
    },
    {
     "name": "stderr",
     "output_type": "stream",
     "text": [
      "Epoch 14/200, accuracy 92.17%, train loss 0.0086, learning rate 9.891625428724366e-06: 100%|██████████| 625/625 [01:14<00:00,  8.37it/s]\n"
     ]
    },
    {
     "name": "stdout",
     "output_type": "stream",
     "text": [
      "train accuracy: 92.17%\n"
     ]
    },
    {
     "name": "stderr",
     "output_type": "stream",
     "text": [
      "100%|██████████| 79/79 [00:07<00:00, 10.67it/s]\n",
      "                                                           \r"
     ]
    },
    {
     "name": "stdout",
     "output_type": "stream",
     "text": [
      "Accuracy of the network on the valid images: 95.79%\n",
      "valid loss: 0.0013, valid accuracy: 95.79%\n",
      "best idx: 1, best accuracy: 95.88%\n"
     ]
    },
    {
     "name": "stderr",
     "output_type": "stream",
     "text": [
      "Epoch 15/200, accuracy 93.15%, train loss 0.0077, learning rate 9.875664641789547e-06: 100%|██████████| 625/625 [01:14<00:00,  8.38it/s]\n"
     ]
    },
    {
     "name": "stdout",
     "output_type": "stream",
     "text": [
      "train accuracy: 93.15%\n"
     ]
    },
    {
     "name": "stderr",
     "output_type": "stream",
     "text": [
      "100%|██████████| 79/79 [00:07<00:00, 10.73it/s]\n",
      "                                                           \r"
     ]
    },
    {
     "name": "stdout",
     "output_type": "stream",
     "text": [
      "Accuracy of the network on the valid images: 95.79%\n",
      "valid loss: 0.0014, valid accuracy: 95.79%\n",
      "best idx: 1, best accuracy: 95.88%\n"
     ]
    },
    {
     "name": "stderr",
     "output_type": "stream",
     "text": [
      "Epoch 16/200, accuracy 92.38%, train loss 0.0080, learning rate 9.858624225078841e-06: 100%|██████████| 625/625 [01:14<00:00,  8.40it/s]\n"
     ]
    },
    {
     "name": "stdout",
     "output_type": "stream",
     "text": [
      "train accuracy: 92.38%\n"
     ]
    },
    {
     "name": "stderr",
     "output_type": "stream",
     "text": [
      "100%|██████████| 79/79 [00:07<00:00, 10.65it/s]\n",
      "                                                           \r"
     ]
    },
    {
     "name": "stdout",
     "output_type": "stream",
     "text": [
      "Accuracy of the network on the valid images: 95.73%\n",
      "valid loss: 0.0015, valid accuracy: 95.73%\n",
      "best idx: 1, best accuracy: 95.88%\n"
     ]
    },
    {
     "name": "stderr",
     "output_type": "stream",
     "text": [
      "Epoch 17/200, accuracy 92.33%, train loss 0.0084, learning rate 9.840508383060093e-06: 100%|██████████| 625/625 [01:13<00:00,  8.45it/s]\n"
     ]
    },
    {
     "name": "stdout",
     "output_type": "stream",
     "text": [
      "train accuracy: 92.33%\n"
     ]
    },
    {
     "name": "stderr",
     "output_type": "stream",
     "text": [
      "100%|██████████| 79/79 [00:07<00:00, 10.76it/s]\n",
      "                                                           \r"
     ]
    },
    {
     "name": "stdout",
     "output_type": "stream",
     "text": [
      "Accuracy of the network on the valid images: 95.69%\n",
      "valid loss: 0.0016, valid accuracy: 95.69%\n",
      "best idx: 1, best accuracy: 95.88%\n"
     ]
    },
    {
     "name": "stderr",
     "output_type": "stream",
     "text": [
      "Epoch 18/200, accuracy 92.26%, train loss 0.0081, learning rate 9.821321585546246e-06: 100%|██████████| 625/625 [01:14<00:00,  8.38it/s]\n"
     ]
    },
    {
     "name": "stdout",
     "output_type": "stream",
     "text": [
      "train accuracy: 92.26%\n"
     ]
    },
    {
     "name": "stderr",
     "output_type": "stream",
     "text": [
      "100%|██████████| 79/79 [00:07<00:00, 10.64it/s]\n",
      "                                                           \r"
     ]
    },
    {
     "name": "stdout",
     "output_type": "stream",
     "text": [
      "Accuracy of the network on the valid images: 95.85%\n",
      "valid loss: 0.0013, valid accuracy: 95.85%\n",
      "best idx: 1, best accuracy: 95.88%\n"
     ]
    },
    {
     "name": "stderr",
     "output_type": "stream",
     "text": [
      "Epoch 19/200, accuracy 92.85%, train loss 0.0079, learning rate 9.801068566592487e-06: 100%|██████████| 625/625 [01:14<00:00,  8.33it/s]\n"
     ]
    },
    {
     "name": "stdout",
     "output_type": "stream",
     "text": [
      "train accuracy: 92.85%\n"
     ]
    },
    {
     "name": "stderr",
     "output_type": "stream",
     "text": [
      "100%|██████████| 79/79 [00:07<00:00, 10.61it/s]\n",
      "                                                           \r"
     ]
    },
    {
     "name": "stdout",
     "output_type": "stream",
     "text": [
      "Accuracy of the network on the valid images: 95.83%\n",
      "valid loss: 0.0013, valid accuracy: 95.83%\n",
      "best idx: 1, best accuracy: 95.88%\n"
     ]
    },
    {
     "name": "stderr",
     "output_type": "stream",
     "text": [
      "Epoch 20/200, accuracy 92.87%, train loss 0.0077, learning rate 9.779754323328193e-06: 100%|██████████| 625/625 [01:14<00:00,  8.35it/s]\n"
     ]
    },
    {
     "name": "stdout",
     "output_type": "stream",
     "text": [
      "train accuracy: 92.87%\n"
     ]
    },
    {
     "name": "stderr",
     "output_type": "stream",
     "text": [
      "100%|██████████| 79/79 [00:07<00:00, 10.64it/s]\n",
      "                                                           \r"
     ]
    },
    {
     "name": "stdout",
     "output_type": "stream",
     "text": [
      "Accuracy of the network on the valid images: 95.77%\n",
      "valid loss: 0.0015, valid accuracy: 95.77%\n",
      "best idx: 1, best accuracy: 95.88%\n"
     ]
    },
    {
     "name": "stderr",
     "output_type": "stream",
     "text": [
      "Epoch 21/200, accuracy 92.44%, train loss 0.0083, learning rate 9.757384114723955e-06: 100%|██████████| 625/625 [01:14<00:00,  8.44it/s]\n"
     ]
    },
    {
     "name": "stdout",
     "output_type": "stream",
     "text": [
      "train accuracy: 92.44%\n"
     ]
    },
    {
     "name": "stderr",
     "output_type": "stream",
     "text": [
      "100%|██████████| 79/79 [00:07<00:00, 10.68it/s]\n",
      "                                                           \r"
     ]
    },
    {
     "name": "stdout",
     "output_type": "stream",
     "text": [
      "Accuracy of the network on the valid images: 95.73%\n",
      "valid loss: 0.0014, valid accuracy: 95.73%\n",
      "best idx: 1, best accuracy: 95.88%\n"
     ]
    },
    {
     "name": "stderr",
     "output_type": "stream",
     "text": [
      "Epoch 22/200, accuracy 92.85%, train loss 0.0078, learning rate 9.733963460294016e-06: 100%|██████████| 625/625 [01:14<00:00,  8.34it/s]\n"
     ]
    },
    {
     "name": "stdout",
     "output_type": "stream",
     "text": [
      "train accuracy: 92.85%\n"
     ]
    },
    {
     "name": "stderr",
     "output_type": "stream",
     "text": [
      "100%|██████████| 79/79 [00:07<00:00, 10.75it/s]\n",
      "                                                           \r"
     ]
    },
    {
     "name": "stdout",
     "output_type": "stream",
     "text": [
      "Accuracy of the network on the valid images: 95.84%\n",
      "valid loss: 0.0013, valid accuracy: 95.84%\n",
      "best idx: 1, best accuracy: 95.88%\n"
     ]
    },
    {
     "name": "stderr",
     "output_type": "stream",
     "text": [
      "Epoch 23/200, accuracy 93.60%, train loss 0.0075, learning rate 9.709498138734405e-06: 100%|██████████| 625/625 [01:15<00:00,  8.32it/s]\n"
     ]
    },
    {
     "name": "stdout",
     "output_type": "stream",
     "text": [
      "train accuracy: 93.60%\n"
     ]
    },
    {
     "name": "stderr",
     "output_type": "stream",
     "text": [
      "100%|██████████| 79/79 [00:07<00:00, 10.72it/s]\n",
      "                                                           \r"
     ]
    },
    {
     "name": "stdout",
     "output_type": "stream",
     "text": [
      "Accuracy of the network on the valid images: 95.76%\n",
      "valid loss: 0.0013, valid accuracy: 95.76%\n",
      "best idx: 1, best accuracy: 95.88%\n"
     ]
    },
    {
     "name": "stderr",
     "output_type": "stream",
     "text": [
      "Epoch 24/200, accuracy 92.57%, train loss 0.0079, learning rate 9.683994186497132e-06: 100%|██████████| 625/625 [01:14<00:00,  8.35it/s]\n"
     ]
    },
    {
     "name": "stdout",
     "output_type": "stream",
     "text": [
      "train accuracy: 92.57%\n"
     ]
    },
    {
     "name": "stderr",
     "output_type": "stream",
     "text": [
      "100%|██████████| 79/79 [00:07<00:00, 10.77it/s]\n",
      "                                                           \r"
     ]
    },
    {
     "name": "stdout",
     "output_type": "stream",
     "text": [
      "Accuracy of the network on the valid images: 95.78%\n",
      "valid loss: 0.0014, valid accuracy: 95.78%\n",
      "best idx: 1, best accuracy: 95.88%\n"
     ]
    },
    {
     "name": "stderr",
     "output_type": "stream",
     "text": [
      "Epoch 25/200, accuracy 92.80%, train loss 0.0080, learning rate 9.65745789630079e-06: 100%|██████████| 625/625 [01:13<00:00,  8.47it/s]\n"
     ]
    },
    {
     "name": "stdout",
     "output_type": "stream",
     "text": [
      "train accuracy: 92.80%\n"
     ]
    },
    {
     "name": "stderr",
     "output_type": "stream",
     "text": [
      "100%|██████████| 79/79 [00:07<00:00, 10.70it/s]\n",
      "                                                           \r"
     ]
    },
    {
     "name": "stdout",
     "output_type": "stream",
     "text": [
      "Accuracy of the network on the valid images: 95.75%\n",
      "valid loss: 0.0014, valid accuracy: 95.75%\n",
      "best idx: 1, best accuracy: 95.88%\n"
     ]
    },
    {
     "name": "stderr",
     "output_type": "stream",
     "text": [
      "Epoch 26/200, accuracy 92.38%, train loss 0.0079, learning rate 9.629895815577915e-06: 100%|██████████| 625/625 [01:14<00:00,  8.34it/s]\n"
     ]
    },
    {
     "name": "stdout",
     "output_type": "stream",
     "text": [
      "train accuracy: 92.38%\n"
     ]
    },
    {
     "name": "stderr",
     "output_type": "stream",
     "text": [
      "100%|██████████| 79/79 [00:07<00:00, 10.72it/s]\n",
      "                                                           \r"
     ]
    },
    {
     "name": "stdout",
     "output_type": "stream",
     "text": [
      "Accuracy of the network on the valid images: 95.86%\n",
      "valid loss: 0.0013, valid accuracy: 95.86%\n",
      "best idx: 1, best accuracy: 95.88%\n"
     ]
    },
    {
     "name": "stderr",
     "output_type": "stream",
     "text": [
      "Epoch 27/200, accuracy 93.48%, train loss 0.0079, learning rate 9.601314744859504e-06: 100%|██████████| 625/625 [01:14<00:00,  8.38it/s]\n"
     ]
    },
    {
     "name": "stdout",
     "output_type": "stream",
     "text": [
      "train accuracy: 93.48%\n"
     ]
    },
    {
     "name": "stderr",
     "output_type": "stream",
     "text": [
      "100%|██████████| 79/79 [00:07<00:00, 10.65it/s]\n",
      "                                                           \r"
     ]
    },
    {
     "name": "stdout",
     "output_type": "stream",
     "text": [
      "Accuracy of the network on the valid images: 95.82%\n",
      "valid loss: 0.0013, valid accuracy: 95.82%\n",
      "best idx: 1, best accuracy: 95.88%\n"
     ]
    },
    {
     "name": "stderr",
     "output_type": "stream",
     "text": [
      "Epoch 28/200, accuracy 92.41%, train loss 0.0079, learning rate 9.571721736097089e-06: 100%|██████████| 625/625 [01:15<00:00,  8.31it/s]\n"
     ]
    },
    {
     "name": "stdout",
     "output_type": "stream",
     "text": [
      "train accuracy: 92.41%\n"
     ]
    },
    {
     "name": "stderr",
     "output_type": "stream",
     "text": [
      "100%|██████████| 79/79 [00:07<00:00, 10.69it/s]\n",
      "                                                           \r"
     ]
    },
    {
     "name": "stdout",
     "output_type": "stream",
     "text": [
      "Accuracy of the network on the valid images: 95.87%\n",
      "valid loss: 0.0014, valid accuracy: 95.87%\n",
      "best idx: 1, best accuracy: 95.88%\n"
     ]
    },
    {
     "name": "stderr",
     "output_type": "stream",
     "text": [
      "Epoch 29/200, accuracy 93.29%, train loss 0.0076, learning rate 9.541124090922771e-06: 100%|██████████| 625/625 [01:14<00:00,  8.42it/s]\n"
     ]
    },
    {
     "name": "stdout",
     "output_type": "stream",
     "text": [
      "train accuracy: 93.29%\n"
     ]
    },
    {
     "name": "stderr",
     "output_type": "stream",
     "text": [
      "100%|██████████| 79/79 [00:07<00:00, 10.69it/s]\n",
      "                                                           \r"
     ]
    },
    {
     "name": "stdout",
     "output_type": "stream",
     "text": [
      "Accuracy of the network on the valid images: 95.88%\n",
      "valid loss: 0.0014, valid accuracy: 95.88%\n",
      "best idx: 1, best accuracy: 95.88%\n"
     ]
    },
    {
     "name": "stderr",
     "output_type": "stream",
     "text": [
      "Epoch 30/200, accuracy 92.72%, train loss 0.0079, learning rate 9.509529358847657e-06: 100%|██████████| 625/625 [01:15<00:00,  8.31it/s]\n"
     ]
    },
    {
     "name": "stdout",
     "output_type": "stream",
     "text": [
      "train accuracy: 92.72%\n"
     ]
    },
    {
     "name": "stderr",
     "output_type": "stream",
     "text": [
      "100%|██████████| 79/79 [00:07<00:00, 10.63it/s]\n",
      "                                                           \r"
     ]
    },
    {
     "name": "stdout",
     "output_type": "stream",
     "text": [
      "Accuracy of the network on the valid images: 95.82%\n",
      "valid loss: 0.0015, valid accuracy: 95.82%\n",
      "best idx: 1, best accuracy: 95.88%\n"
     ]
    },
    {
     "name": "stderr",
     "output_type": "stream",
     "text": [
      "Epoch 31/200, accuracy 93.72%, train loss 0.0075, learning rate 9.476945335399123e-06: 100%|██████████| 625/625 [01:15<00:00,  8.30it/s]\n"
     ]
    },
    {
     "name": "stdout",
     "output_type": "stream",
     "text": [
      "train accuracy: 93.72%\n"
     ]
    },
    {
     "name": "stderr",
     "output_type": "stream",
     "text": [
      "100%|██████████| 79/79 [00:07<00:00, 10.64it/s]\n",
      "                                                           \r"
     ]
    },
    {
     "name": "stdout",
     "output_type": "stream",
     "text": [
      "Accuracy of the network on the valid images: 95.82%\n",
      "valid loss: 0.0014, valid accuracy: 95.82%\n",
      "best idx: 1, best accuracy: 95.88%\n"
     ]
    },
    {
     "name": "stderr",
     "output_type": "stream",
     "text": [
      "Epoch 32/200, accuracy 92.25%, train loss 0.0086, learning rate 9.443380060197387e-06: 100%|██████████| 625/625 [01:14<00:00,  8.34it/s]\n"
     ]
    },
    {
     "name": "stdout",
     "output_type": "stream",
     "text": [
      "train accuracy: 92.25%\n"
     ]
    },
    {
     "name": "stderr",
     "output_type": "stream",
     "text": [
      "100%|██████████| 79/79 [00:07<00:00, 10.68it/s]\n",
      "                                                           \r"
     ]
    },
    {
     "name": "stdout",
     "output_type": "stream",
     "text": [
      "Accuracy of the network on the valid images: 95.78%\n",
      "valid loss: 0.0015, valid accuracy: 95.78%\n",
      "best idx: 1, best accuracy: 95.88%\n"
     ]
    },
    {
     "name": "stderr",
     "output_type": "stream",
     "text": [
      "Epoch 33/200, accuracy 92.38%, train loss 0.0081, learning rate 9.408841814971862e-06: 100%|██████████| 625/625 [01:14<00:00,  8.42it/s]\n"
     ]
    },
    {
     "name": "stdout",
     "output_type": "stream",
     "text": [
      "train accuracy: 92.38%\n"
     ]
    },
    {
     "name": "stderr",
     "output_type": "stream",
     "text": [
      "100%|██████████| 79/79 [00:07<00:00, 10.62it/s]\n",
      "                                                           \r"
     ]
    },
    {
     "name": "stdout",
     "output_type": "stream",
     "text": [
      "Accuracy of the network on the valid images: 95.77%\n",
      "valid loss: 0.0013, valid accuracy: 95.77%\n",
      "best idx: 1, best accuracy: 95.88%\n"
     ]
    },
    {
     "name": "stderr",
     "output_type": "stream",
     "text": [
      "Epoch 34/200, accuracy 93.11%, train loss 0.0080, learning rate 9.373339121517748e-06: 100%|██████████| 625/625 [01:14<00:00,  8.35it/s]\n"
     ]
    },
    {
     "name": "stdout",
     "output_type": "stream",
     "text": [
      "train accuracy: 93.11%\n"
     ]
    },
    {
     "name": "stderr",
     "output_type": "stream",
     "text": [
      "100%|██████████| 79/79 [00:07<00:00, 10.64it/s]\n",
      "                                                           \r"
     ]
    },
    {
     "name": "stdout",
     "output_type": "stream",
     "text": [
      "Accuracy of the network on the valid images: 95.74%\n",
      "valid loss: 0.0014, valid accuracy: 95.74%\n",
      "best idx: 1, best accuracy: 95.88%\n"
     ]
    },
    {
     "name": "stderr",
     "output_type": "stream",
     "text": [
      "Epoch 35/200, accuracy 93.34%, train loss 0.0075, learning rate 9.336880739593417e-06: 100%|██████████| 625/625 [01:14<00:00,  8.35it/s]\n"
     ]
    },
    {
     "name": "stdout",
     "output_type": "stream",
     "text": [
      "train accuracy: 93.34%\n"
     ]
    },
    {
     "name": "stderr",
     "output_type": "stream",
     "text": [
      "100%|██████████| 79/79 [00:07<00:00, 10.63it/s]\n",
      "                                                           \r"
     ]
    },
    {
     "name": "stdout",
     "output_type": "stream",
     "text": [
      "Accuracy of the network on the valid images: 95.78%\n",
      "valid loss: 0.0013, valid accuracy: 95.78%\n",
      "best idx: 1, best accuracy: 95.88%\n"
     ]
    },
    {
     "name": "stderr",
     "output_type": "stream",
     "text": [
      "Epoch 36/200, accuracy 91.94%, train loss 0.0084, learning rate 9.29947566475907e-06: 100%|██████████| 625/625 [01:14<00:00,  8.36it/s]\n"
     ]
    },
    {
     "name": "stdout",
     "output_type": "stream",
     "text": [
      "train accuracy: 91.94%\n"
     ]
    },
    {
     "name": "stderr",
     "output_type": "stream",
     "text": [
      "100%|██████████| 79/79 [00:07<00:00, 10.64it/s]\n",
      "                                                           \r"
     ]
    },
    {
     "name": "stdout",
     "output_type": "stream",
     "text": [
      "Accuracy of the network on the valid images: 95.79%\n",
      "valid loss: 0.0015, valid accuracy: 95.79%\n",
      "best idx: 1, best accuracy: 95.88%\n"
     ]
    },
    {
     "name": "stderr",
     "output_type": "stream",
     "text": [
      "Epoch 37/200, accuracy 92.14%, train loss 0.0083, learning rate 9.261133126157218e-06: 100%|██████████| 625/625 [01:14<00:00,  8.41it/s]\n"
     ]
    },
    {
     "name": "stdout",
     "output_type": "stream",
     "text": [
      "train accuracy: 92.14%\n"
     ]
    },
    {
     "name": "stderr",
     "output_type": "stream",
     "text": [
      "100%|██████████| 79/79 [00:07<00:00, 10.74it/s]\n",
      "                                                           \r"
     ]
    },
    {
     "name": "stdout",
     "output_type": "stream",
     "text": [
      "Accuracy of the network on the valid images: 95.93%\n",
      "valid loss: 0.0013, valid accuracy: 95.93%\n",
      "best idx: 37, best accuracy: 95.93%\n"
     ]
    },
    {
     "name": "stderr",
     "output_type": "stream",
     "text": [
      "Epoch 38/200, accuracy 92.38%, train loss 0.0079, learning rate 9.221862584235529e-06: 100%|██████████| 625/625 [01:14<00:00,  8.37it/s]\n"
     ]
    },
    {
     "name": "stdout",
     "output_type": "stream",
     "text": [
      "train accuracy: 92.38%\n"
     ]
    },
    {
     "name": "stderr",
     "output_type": "stream",
     "text": [
      "100%|██████████| 79/79 [00:07<00:00, 10.80it/s]\n",
      "                                                           \r"
     ]
    },
    {
     "name": "stdout",
     "output_type": "stream",
     "text": [
      "Accuracy of the network on the valid images: 95.73%\n",
      "valid loss: 0.0013, valid accuracy: 95.73%\n",
      "best idx: 37, best accuracy: 95.93%\n"
     ]
    },
    {
     "name": "stderr",
     "output_type": "stream",
     "text": [
      "Epoch 39/200, accuracy 92.54%, train loss 0.0083, learning rate 9.181673728412607e-06: 100%|██████████| 625/625 [01:14<00:00,  8.41it/s]\n"
     ]
    },
    {
     "name": "stdout",
     "output_type": "stream",
     "text": [
      "train accuracy: 92.54%\n"
     ]
    },
    {
     "name": "stderr",
     "output_type": "stream",
     "text": [
      "100%|██████████| 79/79 [00:07<00:00, 10.71it/s]\n",
      "                                                           \r"
     ]
    },
    {
     "name": "stdout",
     "output_type": "stream",
     "text": [
      "Accuracy of the network on the valid images: 95.81%\n",
      "valid loss: 0.0013, valid accuracy: 95.81%\n",
      "best idx: 37, best accuracy: 95.93%\n"
     ]
    },
    {
     "name": "stderr",
     "output_type": "stream",
     "text": [
      "Epoch 40/200, accuracy 91.69%, train loss 0.0084, learning rate 9.140576474687265e-06: 100%|██████████| 625/625 [01:15<00:00,  8.28it/s]\n"
     ]
    },
    {
     "name": "stdout",
     "output_type": "stream",
     "text": [
      "train accuracy: 91.69%\n"
     ]
    },
    {
     "name": "stderr",
     "output_type": "stream",
     "text": [
      "100%|██████████| 79/79 [00:07<00:00, 10.77it/s]\n",
      "                                                           \r"
     ]
    },
    {
     "name": "stdout",
     "output_type": "stream",
     "text": [
      "Accuracy of the network on the valid images: 95.82%\n",
      "valid loss: 0.0013, valid accuracy: 95.82%\n",
      "best idx: 37, best accuracy: 95.93%\n"
     ]
    },
    {
     "name": "stderr",
     "output_type": "stream",
     "text": [
      "Epoch 41/200, accuracy 92.91%, train loss 0.0079, learning rate 9.09858096319191e-06: 100%|██████████| 625/625 [01:13<00:00,  8.46it/s]\n"
     ]
    },
    {
     "name": "stdout",
     "output_type": "stream",
     "text": [
      "train accuracy: 92.91%\n"
     ]
    },
    {
     "name": "stderr",
     "output_type": "stream",
     "text": [
      "100%|██████████| 79/79 [00:07<00:00, 10.69it/s]\n",
      "                                                           \r"
     ]
    },
    {
     "name": "stdout",
     "output_type": "stream",
     "text": [
      "Accuracy of the network on the valid images: 95.84%\n",
      "valid loss: 0.0013, valid accuracy: 95.84%\n",
      "best idx: 37, best accuracy: 95.93%\n"
     ]
    },
    {
     "name": "stderr",
     "output_type": "stream",
     "text": [
      "Epoch 42/200, accuracy 92.69%, train loss 0.0081, learning rate 9.055697555690609e-06: 100%|██████████| 625/625 [01:14<00:00,  8.37it/s]\n"
     ]
    },
    {
     "name": "stdout",
     "output_type": "stream",
     "text": [
      "train accuracy: 92.69%\n"
     ]
    },
    {
     "name": "stderr",
     "output_type": "stream",
     "text": [
      "100%|██████████| 79/79 [00:07<00:00, 10.69it/s]\n",
      "                                                           \r"
     ]
    },
    {
     "name": "stdout",
     "output_type": "stream",
     "text": [
      "Accuracy of the network on the valid images: 95.78%\n",
      "valid loss: 0.0013, valid accuracy: 95.78%\n",
      "best idx: 37, best accuracy: 95.93%\n"
     ]
    },
    {
     "name": "stderr",
     "output_type": "stream",
     "text": [
      "Epoch 43/200, accuracy 92.38%, train loss 0.0081, learning rate 9.011936833022485e-06: 100%|██████████| 625/625 [01:14<00:00,  8.36it/s]\n"
     ]
    },
    {
     "name": "stdout",
     "output_type": "stream",
     "text": [
      "train accuracy: 92.38%\n"
     ]
    },
    {
     "name": "stderr",
     "output_type": "stream",
     "text": [
      "100%|██████████| 79/79 [00:07<00:00, 10.77it/s]\n",
      "                                                           \r"
     ]
    },
    {
     "name": "stdout",
     "output_type": "stream",
     "text": [
      "Accuracy of the network on the valid images: 95.86%\n",
      "valid loss: 0.0013, valid accuracy: 95.86%\n",
      "best idx: 37, best accuracy: 95.93%\n"
     ]
    },
    {
     "name": "stderr",
     "output_type": "stream",
     "text": [
      "Epoch 44/200, accuracy 92.47%, train loss 0.0081, learning rate 8.967309592491052e-06: 100%|██████████| 625/625 [01:14<00:00,  8.37it/s]\n"
     ]
    },
    {
     "name": "stdout",
     "output_type": "stream",
     "text": [
      "train accuracy: 92.47%\n"
     ]
    },
    {
     "name": "stderr",
     "output_type": "stream",
     "text": [
      "100%|██████████| 79/79 [00:07<00:00, 10.73it/s]\n",
      "                                                           \r"
     ]
    },
    {
     "name": "stdout",
     "output_type": "stream",
     "text": [
      "Accuracy of the network on the valid images: 95.85%\n",
      "valid loss: 0.0013, valid accuracy: 95.85%\n",
      "best idx: 37, best accuracy: 95.93%\n"
     ]
    },
    {
     "name": "stderr",
     "output_type": "stream",
     "text": [
      "Epoch 45/200, accuracy 92.80%, train loss 0.0079, learning rate 8.92182684520014e-06: 100%|██████████| 625/625 [01:14<00:00,  8.41it/s]\n"
     ]
    },
    {
     "name": "stdout",
     "output_type": "stream",
     "text": [
      "train accuracy: 92.80%\n"
     ]
    },
    {
     "name": "stderr",
     "output_type": "stream",
     "text": [
      "100%|██████████| 79/79 [00:07<00:00, 10.70it/s]\n",
      "                                                           \r"
     ]
    },
    {
     "name": "stdout",
     "output_type": "stream",
     "text": [
      "Accuracy of the network on the valid images: 95.84%\n",
      "valid loss: 0.0013, valid accuracy: 95.84%\n",
      "best idx: 37, best accuracy: 95.93%\n"
     ]
    },
    {
     "name": "stderr",
     "output_type": "stream",
     "text": [
      "Epoch 46/200, accuracy 92.80%, train loss 0.0080, learning rate 8.87549981333707e-06: 100%|██████████| 625/625 [01:14<00:00,  8.36it/s]\n"
     ]
    },
    {
     "name": "stdout",
     "output_type": "stream",
     "text": [
      "train accuracy: 92.80%\n"
     ]
    },
    {
     "name": "stderr",
     "output_type": "stream",
     "text": [
      "100%|██████████| 79/79 [00:07<00:00, 10.75it/s]\n",
      "                                                           \r"
     ]
    },
    {
     "name": "stdout",
     "output_type": "stream",
     "text": [
      "Accuracy of the network on the valid images: 95.88%\n",
      "valid loss: 0.0013, valid accuracy: 95.88%\n",
      "best idx: 37, best accuracy: 95.93%\n"
     ]
    },
    {
     "name": "stderr",
     "output_type": "stream",
     "text": [
      "Epoch 47/200, accuracy 92.76%, train loss 0.0078, learning rate 8.828339927403745e-06: 100%|██████████| 625/625 [01:14<00:00,  8.34it/s]\n"
     ]
    },
    {
     "name": "stdout",
     "output_type": "stream",
     "text": [
      "train accuracy: 92.76%\n"
     ]
    },
    {
     "name": "stderr",
     "output_type": "stream",
     "text": [
      "100%|██████████| 79/79 [00:07<00:00, 10.75it/s]\n",
      "                                                           \r"
     ]
    },
    {
     "name": "stdout",
     "output_type": "stream",
     "text": [
      "Accuracy of the network on the valid images: 95.84%\n",
      "valid loss: 0.0013, valid accuracy: 95.84%\n",
      "best idx: 37, best accuracy: 95.93%\n"
     ]
    },
    {
     "name": "stderr",
     "output_type": "stream",
     "text": [
      "Epoch 48/200, accuracy 92.56%, train loss 0.0079, learning rate 8.780358823396354e-06: 100%|██████████| 625/625 [01:14<00:00,  8.35it/s]\n"
     ]
    },
    {
     "name": "stdout",
     "output_type": "stream",
     "text": [
      "train accuracy: 92.56%\n"
     ]
    },
    {
     "name": "stderr",
     "output_type": "stream",
     "text": [
      "100%|██████████| 79/79 [00:07<00:00, 10.64it/s]\n",
      "                                                           \r"
     ]
    },
    {
     "name": "stdout",
     "output_type": "stream",
     "text": [
      "Accuracy of the network on the valid images: 95.76%\n",
      "valid loss: 0.0013, valid accuracy: 95.76%\n",
      "best idx: 37, best accuracy: 95.93%\n"
     ]
    },
    {
     "name": "stderr",
     "output_type": "stream",
     "text": [
      "Epoch 49/200, accuracy 93.86%, train loss 0.0076, learning rate 8.731568339934353e-06: 100%|██████████| 625/625 [01:13<00:00,  8.47it/s]\n"
     ]
    },
    {
     "name": "stdout",
     "output_type": "stream",
     "text": [
      "train accuracy: 93.86%\n"
     ]
    },
    {
     "name": "stderr",
     "output_type": "stream",
     "text": [
      "100%|██████████| 79/79 [00:07<00:00, 10.62it/s]\n",
      "                                                           \r"
     ]
    },
    {
     "name": "stdout",
     "output_type": "stream",
     "text": [
      "Accuracy of the network on the valid images: 95.71%\n",
      "valid loss: 0.0014, valid accuracy: 95.71%\n",
      "best idx: 37, best accuracy: 95.93%\n"
     ]
    },
    {
     "name": "stderr",
     "output_type": "stream",
     "text": [
      "Epoch 50/200, accuracy 92.33%, train loss 0.0083, learning rate 8.681980515339466e-06: 100%|██████████| 625/625 [01:14<00:00,  8.37it/s]\n"
     ]
    },
    {
     "name": "stdout",
     "output_type": "stream",
     "text": [
      "train accuracy: 92.33%\n"
     ]
    },
    {
     "name": "stderr",
     "output_type": "stream",
     "text": [
      "100%|██████████| 79/79 [00:07<00:00, 10.71it/s]\n",
      "                                                           \r"
     ]
    },
    {
     "name": "stdout",
     "output_type": "stream",
     "text": [
      "Accuracy of the network on the valid images: 95.76%\n",
      "valid loss: 0.0013, valid accuracy: 95.76%\n",
      "best idx: 37, best accuracy: 95.93%\n"
     ]
    },
    {
     "name": "stderr",
     "output_type": "stream",
     "text": [
      "Epoch 51/200, accuracy 93.11%, train loss 0.0080, learning rate 8.631607584665416e-06: 100%|██████████| 625/625 [01:14<00:00,  8.33it/s]\n"
     ]
    },
    {
     "name": "stdout",
     "output_type": "stream",
     "text": [
      "train accuracy: 93.11%\n"
     ]
    },
    {
     "name": "stderr",
     "output_type": "stream",
     "text": [
      "100%|██████████| 79/79 [00:07<00:00, 10.77it/s]\n",
      "                                                           \r"
     ]
    },
    {
     "name": "stdout",
     "output_type": "stream",
     "text": [
      "Accuracy of the network on the valid images: 95.80%\n",
      "valid loss: 0.0014, valid accuracy: 95.80%\n",
      "best idx: 37, best accuracy: 95.93%\n"
     ]
    },
    {
     "name": "stderr",
     "output_type": "stream",
     "text": [
      "Epoch 52/200, accuracy 93.16%, train loss 0.0080, learning rate 8.580461976679102e-06: 100%|██████████| 625/625 [01:14<00:00,  8.36it/s]\n"
     ]
    },
    {
     "name": "stdout",
     "output_type": "stream",
     "text": [
      "train accuracy: 93.16%\n"
     ]
    },
    {
     "name": "stderr",
     "output_type": "stream",
     "text": [
      "100%|██████████| 79/79 [00:07<00:00, 10.84it/s]\n",
      "                                                           \r"
     ]
    },
    {
     "name": "stdout",
     "output_type": "stream",
     "text": [
      "Accuracy of the network on the valid images: 95.79%\n",
      "valid loss: 0.0014, valid accuracy: 95.79%\n",
      "best idx: 37, best accuracy: 95.93%\n"
     ]
    },
    {
     "name": "stderr",
     "output_type": "stream",
     "text": [
      "Epoch 53/200, accuracy 92.57%, train loss 0.0080, learning rate 8.528556310793983e-06: 100%|██████████| 625/625 [01:14<00:00,  8.43it/s]\n"
     ]
    },
    {
     "name": "stdout",
     "output_type": "stream",
     "text": [
      "train accuracy: 92.57%\n"
     ]
    },
    {
     "name": "stderr",
     "output_type": "stream",
     "text": [
      "100%|██████████| 79/79 [00:07<00:00, 10.75it/s]\n",
      "                                                           \r"
     ]
    },
    {
     "name": "stdout",
     "output_type": "stream",
     "text": [
      "Accuracy of the network on the valid images: 95.83%\n",
      "valid loss: 0.0014, valid accuracy: 95.83%\n",
      "best idx: 37, best accuracy: 95.93%\n"
     ]
    },
    {
     "name": "stderr",
     "output_type": "stream",
     "text": [
      "Epoch 54/200, accuracy 92.64%, train loss 0.0080, learning rate 8.475903393956436e-06: 100%|██████████| 625/625 [01:14<00:00,  8.35it/s]\n"
     ]
    },
    {
     "name": "stdout",
     "output_type": "stream",
     "text": [
      "train accuracy: 92.64%\n"
     ]
    },
    {
     "name": "stderr",
     "output_type": "stream",
     "text": [
      "100%|██████████| 79/79 [00:07<00:00, 10.68it/s]\n",
      "                                                           \r"
     ]
    },
    {
     "name": "stdout",
     "output_type": "stream",
     "text": [
      "Accuracy of the network on the valid images: 95.82%\n",
      "valid loss: 0.0015, valid accuracy: 95.82%\n",
      "best idx: 37, best accuracy: 95.93%\n"
     ]
    },
    {
     "name": "stderr",
     "output_type": "stream",
     "text": [
      "Epoch 55/200, accuracy 92.17%, train loss 0.0081, learning rate 8.42251621748583e-06: 100%|██████████| 625/625 [01:14<00:00,  8.37it/s]\n"
     ]
    },
    {
     "name": "stdout",
     "output_type": "stream",
     "text": [
      "train accuracy: 92.17%\n"
     ]
    },
    {
     "name": "stderr",
     "output_type": "stream",
     "text": [
      "100%|██████████| 79/79 [00:07<00:00, 10.64it/s]\n",
      "                                                           \r"
     ]
    },
    {
     "name": "stdout",
     "output_type": "stream",
     "text": [
      "Accuracy of the network on the valid images: 95.75%\n",
      "valid loss: 0.0016, valid accuracy: 95.75%\n",
      "best idx: 37, best accuracy: 95.93%\n"
     ]
    },
    {
     "name": "stderr",
     "output_type": "stream",
     "text": [
      "Epoch 56/200, accuracy 92.24%, train loss 0.0082, learning rate 8.368407953869106e-06: 100%|██████████| 625/625 [01:14<00:00,  8.39it/s]\n"
     ]
    },
    {
     "name": "stdout",
     "output_type": "stream",
     "text": [
      "train accuracy: 92.24%\n"
     ]
    },
    {
     "name": "stderr",
     "output_type": "stream",
     "text": [
      "100%|██████████| 79/79 [00:07<00:00, 10.72it/s]\n",
      "                                                           \r"
     ]
    },
    {
     "name": "stdout",
     "output_type": "stream",
     "text": [
      "Accuracy of the network on the valid images: 95.72%\n",
      "valid loss: 0.0014, valid accuracy: 95.72%\n",
      "best idx: 37, best accuracy: 95.93%\n"
     ]
    },
    {
     "name": "stderr",
     "output_type": "stream",
     "text": [
      "Epoch 57/200, accuracy 92.55%, train loss 0.0078, learning rate 8.313591953510676e-06: 100%|██████████| 625/625 [01:14<00:00,  8.43it/s]\n"
     ]
    },
    {
     "name": "stdout",
     "output_type": "stream",
     "text": [
      "train accuracy: 92.55%\n"
     ]
    },
    {
     "name": "stderr",
     "output_type": "stream",
     "text": [
      "100%|██████████| 79/79 [00:07<00:00, 10.77it/s]\n",
      "                                                           \r"
     ]
    },
    {
     "name": "stdout",
     "output_type": "stream",
     "text": [
      "Accuracy of the network on the valid images: 95.82%\n",
      "valid loss: 0.0013, valid accuracy: 95.82%\n",
      "best idx: 37, best accuracy: 95.93%\n"
     ]
    },
    {
     "name": "stderr",
     "output_type": "stream",
     "text": [
      "Epoch 58/200, accuracy 92.06%, train loss 0.0080, learning rate 8.258081741438397e-06: 100%|██████████| 625/625 [01:15<00:00,  8.33it/s]\n"
     ]
    },
    {
     "name": "stdout",
     "output_type": "stream",
     "text": [
      "train accuracy: 92.06%\n"
     ]
    },
    {
     "name": "stderr",
     "output_type": "stream",
     "text": [
      "100%|██████████| 79/79 [00:07<00:00, 10.85it/s]\n",
      "                                                           \r"
     ]
    },
    {
     "name": "stdout",
     "output_type": "stream",
     "text": [
      "Accuracy of the network on the valid images: 95.72%\n",
      "valid loss: 0.0014, valid accuracy: 95.72%\n",
      "best idx: 37, best accuracy: 95.93%\n"
     ]
    },
    {
     "name": "stderr",
     "output_type": "stream",
     "text": [
      "Epoch 59/200, accuracy 92.58%, train loss 0.0079, learning rate 8.201891013966481e-06: 100%|██████████| 625/625 [01:14<00:00,  8.41it/s]\n"
     ]
    },
    {
     "name": "stdout",
     "output_type": "stream",
     "text": [
      "train accuracy: 92.58%\n"
     ]
    },
    {
     "name": "stderr",
     "output_type": "stream",
     "text": [
      "100%|██████████| 79/79 [00:07<00:00, 10.69it/s]\n",
      "                                                           \r"
     ]
    },
    {
     "name": "stdout",
     "output_type": "stream",
     "text": [
      "Accuracy of the network on the valid images: 95.74%\n",
      "valid loss: 0.0013, valid accuracy: 95.74%\n",
      "best idx: 37, best accuracy: 95.93%\n"
     ]
    },
    {
     "name": "stderr",
     "output_type": "stream",
     "text": [
      "Epoch 60/200, accuracy 93.12%, train loss 0.0076, learning rate 8.145033635316133e-06: 100%|██████████| 625/625 [01:15<00:00,  8.32it/s]\n"
     ]
    },
    {
     "name": "stdout",
     "output_type": "stream",
     "text": [
      "train accuracy: 93.12%\n"
     ]
    },
    {
     "name": "stderr",
     "output_type": "stream",
     "text": [
      "100%|██████████| 79/79 [00:07<00:00, 10.62it/s]\n",
      "                                                           \r"
     ]
    },
    {
     "name": "stdout",
     "output_type": "stream",
     "text": [
      "Accuracy of the network on the valid images: 95.76%\n",
      "valid loss: 0.0013, valid accuracy: 95.76%\n",
      "best idx: 37, best accuracy: 95.93%\n"
     ]
    },
    {
     "name": "stderr",
     "output_type": "stream",
     "text": [
      "Epoch 61/200, accuracy 92.84%, train loss 0.0076, learning rate 8.087523634194758e-06: 100%|██████████| 625/625 [01:14<00:00,  8.44it/s]\n"
     ]
    },
    {
     "name": "stdout",
     "output_type": "stream",
     "text": [
      "train accuracy: 92.84%\n"
     ]
    },
    {
     "name": "stderr",
     "output_type": "stream",
     "text": [
      "100%|██████████| 79/79 [00:07<00:00, 10.74it/s]\n",
      "                                                           \r"
     ]
    },
    {
     "name": "stdout",
     "output_type": "stream",
     "text": [
      "Accuracy of the network on the valid images: 95.76%\n",
      "valid loss: 0.0013, valid accuracy: 95.76%\n",
      "best idx: 37, best accuracy: 95.93%\n"
     ]
    },
    {
     "name": "stderr",
     "output_type": "stream",
     "text": [
      "Epoch 62/200, accuracy 93.55%, train loss 0.0075, learning rate 8.029375200334593e-06: 100%|██████████| 625/625 [01:14<00:00,  8.36it/s]\n"
     ]
    },
    {
     "name": "stdout",
     "output_type": "stream",
     "text": [
      "train accuracy: 93.55%\n"
     ]
    },
    {
     "name": "stderr",
     "output_type": "stream",
     "text": [
      "100%|██████████| 79/79 [00:07<00:00, 10.77it/s]\n",
      "                                                           \r"
     ]
    },
    {
     "name": "stdout",
     "output_type": "stream",
     "text": [
      "Accuracy of the network on the valid images: 95.81%\n",
      "valid loss: 0.0013, valid accuracy: 95.81%\n",
      "best idx: 37, best accuracy: 95.93%\n"
     ]
    },
    {
     "name": "stderr",
     "output_type": "stream",
     "text": [
      "Epoch 63/200, accuracy 92.86%, train loss 0.0079, learning rate 7.970602680991598e-06: 100%|██████████| 625/625 [01:14<00:00,  8.34it/s]\n"
     ]
    },
    {
     "name": "stdout",
     "output_type": "stream",
     "text": [
      "train accuracy: 92.86%\n"
     ]
    },
    {
     "name": "stderr",
     "output_type": "stream",
     "text": [
      "100%|██████████| 79/79 [00:07<00:00, 10.73it/s]\n",
      "                                                           \r"
     ]
    },
    {
     "name": "stdout",
     "output_type": "stream",
     "text": [
      "Accuracy of the network on the valid images: 95.81%\n",
      "valid loss: 0.0013, valid accuracy: 95.81%\n",
      "best idx: 37, best accuracy: 95.93%\n"
     ]
    },
    {
     "name": "stderr",
     "output_type": "stream",
     "text": [
      "Epoch 64/200, accuracy 93.23%, train loss 0.0079, learning rate 7.911220577405488e-06: 100%|██████████| 625/625 [01:14<00:00,  8.39it/s]\n"
     ]
    },
    {
     "name": "stdout",
     "output_type": "stream",
     "text": [
      "train accuracy: 93.23%\n"
     ]
    },
    {
     "name": "stderr",
     "output_type": "stream",
     "text": [
      "100%|██████████| 79/79 [00:07<00:00, 10.69it/s]\n",
      "                                                           \r"
     ]
    },
    {
     "name": "stdout",
     "output_type": "stream",
     "text": [
      "Accuracy of the network on the valid images: 95.74%\n",
      "valid loss: 0.0013, valid accuracy: 95.74%\n",
      "best idx: 37, best accuracy: 95.93%\n"
     ]
    },
    {
     "name": "stderr",
     "output_type": "stream",
     "text": [
      "Epoch 65/200, accuracy 92.73%, train loss 0.0080, learning rate 7.851243541221774e-06: 100%|██████████| 625/625 [01:14<00:00,  8.43it/s]\n"
     ]
    },
    {
     "name": "stdout",
     "output_type": "stream",
     "text": [
      "train accuracy: 92.73%\n"
     ]
    },
    {
     "name": "stderr",
     "output_type": "stream",
     "text": [
      "100%|██████████| 79/79 [00:07<00:00, 10.77it/s]\n",
      "                                                           \r"
     ]
    },
    {
     "name": "stdout",
     "output_type": "stream",
     "text": [
      "Accuracy of the network on the valid images: 95.68%\n",
      "valid loss: 0.0014, valid accuracy: 95.68%\n",
      "best idx: 37, best accuracy: 95.93%\n"
     ]
    },
    {
     "name": "stderr",
     "output_type": "stream",
     "text": [
      "Epoch 66/200, accuracy 92.76%, train loss 0.0079, learning rate 7.790686370876676e-06: 100%|██████████| 625/625 [01:14<00:00,  8.34it/s]\n"
     ]
    },
    {
     "name": "stdout",
     "output_type": "stream",
     "text": [
      "train accuracy: 92.76%\n"
     ]
    },
    {
     "name": "stderr",
     "output_type": "stream",
     "text": [
      "100%|██████████| 79/79 [00:07<00:00, 10.76it/s]\n",
      "                                                           \r"
     ]
    },
    {
     "name": "stdout",
     "output_type": "stream",
     "text": [
      "Accuracy of the network on the valid images: 95.83%\n",
      "valid loss: 0.0013, valid accuracy: 95.83%\n",
      "best idx: 37, best accuracy: 95.93%\n"
     ]
    },
    {
     "name": "stderr",
     "output_type": "stream",
     "text": [
      "Epoch 67/200, accuracy 93.00%, train loss 0.0075, learning rate 7.72956400794584e-06: 100%|██████████| 625/625 [01:14<00:00,  8.38it/s]\n"
     ]
    },
    {
     "name": "stdout",
     "output_type": "stream",
     "text": [
      "train accuracy: 93.00%\n"
     ]
    },
    {
     "name": "stderr",
     "output_type": "stream",
     "text": [
      "100%|██████████| 79/79 [00:07<00:00, 10.65it/s]\n",
      "                                                           \r"
     ]
    },
    {
     "name": "stdout",
     "output_type": "stream",
     "text": [
      "Accuracy of the network on the valid images: 95.75%\n",
      "valid loss: 0.0013, valid accuracy: 95.75%\n",
      "best idx: 37, best accuracy: 95.93%\n"
     ]
    },
    {
     "name": "stderr",
     "output_type": "stream",
     "text": [
      "Epoch 68/200, accuracy 93.27%, train loss 0.0077, learning rate 7.667891533457723e-06: 100%|██████████| 625/625 [01:14<00:00,  8.38it/s]\n"
     ]
    },
    {
     "name": "stdout",
     "output_type": "stream",
     "text": [
      "train accuracy: 93.27%\n"
     ]
    },
    {
     "name": "stderr",
     "output_type": "stream",
     "text": [
      "100%|██████████| 79/79 [00:07<00:00, 10.83it/s]\n",
      "                                                           \r"
     ]
    },
    {
     "name": "stdout",
     "output_type": "stream",
     "text": [
      "Accuracy of the network on the valid images: 95.76%\n",
      "valid loss: 0.0013, valid accuracy: 95.76%\n",
      "best idx: 37, best accuracy: 95.93%\n"
     ]
    },
    {
     "name": "stderr",
     "output_type": "stream",
     "text": [
      "Epoch 69/200, accuracy 94.17%, train loss 0.0076, learning rate 7.605684164172586e-06: 100%|██████████| 625/625 [01:14<00:00,  8.42it/s]\n"
     ]
    },
    {
     "name": "stdout",
     "output_type": "stream",
     "text": [
      "train accuracy: 94.17%\n"
     ]
    },
    {
     "name": "stderr",
     "output_type": "stream",
     "text": [
      "100%|██████████| 79/79 [00:07<00:00, 10.67it/s]\n",
      "                                                           \r"
     ]
    },
    {
     "name": "stdout",
     "output_type": "stream",
     "text": [
      "Accuracy of the network on the valid images: 95.73%\n",
      "valid loss: 0.0013, valid accuracy: 95.73%\n",
      "best idx: 37, best accuracy: 95.93%\n"
     ]
    },
    {
     "name": "stderr",
     "output_type": "stream",
     "text": [
      "Epoch 70/200, accuracy 92.57%, train loss 0.0082, learning rate 7.542957248827966e-06: 100%|██████████| 625/625 [01:14<00:00,  8.43it/s]\n"
     ]
    },
    {
     "name": "stdout",
     "output_type": "stream",
     "text": [
      "train accuracy: 92.57%\n"
     ]
    },
    {
     "name": "stderr",
     "output_type": "stream",
     "text": [
      "100%|██████████| 79/79 [00:07<00:00, 10.79it/s]\n",
      "                                                           \r"
     ]
    },
    {
     "name": "stdout",
     "output_type": "stream",
     "text": [
      "Accuracy of the network on the valid images: 95.73%\n",
      "valid loss: 0.0015, valid accuracy: 95.73%\n",
      "best idx: 37, best accuracy: 95.93%\n"
     ]
    },
    {
     "name": "stderr",
     "output_type": "stream",
     "text": [
      "Epoch 71/200, accuracy 92.25%, train loss 0.0084, learning rate 7.479726264351623e-06: 100%|██████████| 625/625 [01:14<00:00,  8.44it/s]\n"
     ]
    },
    {
     "name": "stdout",
     "output_type": "stream",
     "text": [
      "train accuracy: 92.25%\n"
     ]
    },
    {
     "name": "stderr",
     "output_type": "stream",
     "text": [
      "100%|██████████| 79/79 [00:07<00:00, 10.66it/s]\n",
      "                                                           \r"
     ]
    },
    {
     "name": "stdout",
     "output_type": "stream",
     "text": [
      "Accuracy of the network on the valid images: 95.77%\n",
      "valid loss: 0.0014, valid accuracy: 95.77%\n",
      "best idx: 37, best accuracy: 95.93%\n"
     ]
    },
    {
     "name": "stderr",
     "output_type": "stream",
     "text": [
      "Epoch 72/200, accuracy 93.00%, train loss 0.0077, learning rate 7.416006812042833e-06: 100%|██████████| 625/625 [01:14<00:00,  8.37it/s]\n"
     ]
    },
    {
     "name": "stdout",
     "output_type": "stream",
     "text": [
      "train accuracy: 93.00%\n"
     ]
    },
    {
     "name": "stderr",
     "output_type": "stream",
     "text": [
      "100%|██████████| 79/79 [00:07<00:00, 10.69it/s]\n",
      "                                                           \r"
     ]
    },
    {
     "name": "stdout",
     "output_type": "stream",
     "text": [
      "Accuracy of the network on the valid images: 95.81%\n",
      "valid loss: 0.0013, valid accuracy: 95.81%\n",
      "best idx: 37, best accuracy: 95.93%\n"
     ]
    },
    {
     "name": "stderr",
     "output_type": "stream",
     "text": [
      "Epoch 73/200, accuracy 92.82%, train loss 0.0080, learning rate 7.351814613722996e-06: 100%|██████████| 625/625 [01:14<00:00,  8.41it/s]\n"
     ]
    },
    {
     "name": "stdout",
     "output_type": "stream",
     "text": [
      "train accuracy: 92.82%\n"
     ]
    },
    {
     "name": "stderr",
     "output_type": "stream",
     "text": [
      "100%|██████████| 79/79 [00:07<00:00, 10.75it/s]\n",
      "                                                           \r"
     ]
    },
    {
     "name": "stdout",
     "output_type": "stream",
     "text": [
      "Accuracy of the network on the valid images: 95.77%\n",
      "valid loss: 0.0013, valid accuracy: 95.77%\n",
      "best idx: 37, best accuracy: 95.93%\n"
     ]
    },
    {
     "name": "stderr",
     "output_type": "stream",
     "text": [
      "Epoch 74/200, accuracy 91.32%, train loss 0.0085, learning rate 7.287165507856519e-06: 100%|██████████| 625/625 [01:14<00:00,  8.34it/s]\n"
     ]
    },
    {
     "name": "stdout",
     "output_type": "stream",
     "text": [
      "train accuracy: 91.32%\n"
     ]
    },
    {
     "name": "stderr",
     "output_type": "stream",
     "text": [
      "100%|██████████| 79/79 [00:07<00:00, 10.73it/s]\n",
      "                                                           \r"
     ]
    },
    {
     "name": "stdout",
     "output_type": "stream",
     "text": [
      "Accuracy of the network on the valid images: 95.78%\n",
      "valid loss: 0.0013, valid accuracy: 95.78%\n",
      "best idx: 37, best accuracy: 95.93%\n"
     ]
    },
    {
     "name": "stderr",
     "output_type": "stream",
     "text": [
      "Epoch 75/200, accuracy 92.85%, train loss 0.0083, learning rate 7.222075445642911e-06: 100%|██████████| 625/625 [01:14<00:00,  8.37it/s]\n"
     ]
    },
    {
     "name": "stdout",
     "output_type": "stream",
     "text": [
      "train accuracy: 92.85%\n"
     ]
    },
    {
     "name": "stderr",
     "output_type": "stream",
     "text": [
      "100%|██████████| 79/79 [00:07<00:00, 10.71it/s]\n",
      "                                                           \r"
     ]
    },
    {
     "name": "stdout",
     "output_type": "stream",
     "text": [
      "Accuracy of the network on the valid images: 95.87%\n",
      "valid loss: 0.0013, valid accuracy: 95.87%\n",
      "best idx: 37, best accuracy: 95.93%\n"
     ]
    },
    {
     "name": "stderr",
     "output_type": "stream",
     "text": [
      "Epoch 76/200, accuracy 92.38%, train loss 0.0083, learning rate 7.156560487081058e-06: 100%|██████████| 625/625 [01:15<00:00,  8.30it/s]\n"
     ]
    },
    {
     "name": "stdout",
     "output_type": "stream",
     "text": [
      "train accuracy: 92.38%\n"
     ]
    },
    {
     "name": "stderr",
     "output_type": "stream",
     "text": [
      "100%|██████████| 79/79 [00:07<00:00, 10.68it/s]\n",
      "                                                           \r"
     ]
    },
    {
     "name": "stdout",
     "output_type": "stream",
     "text": [
      "Accuracy of the network on the valid images: 95.77%\n",
      "valid loss: 0.0014, valid accuracy: 95.77%\n",
      "best idx: 37, best accuracy: 95.93%\n"
     ]
    },
    {
     "name": "stderr",
     "output_type": "stream",
     "text": [
      "Epoch 77/200, accuracy 93.42%, train loss 0.0076, learning rate 7.0906367970066635e-06: 100%|██████████| 625/625 [01:14<00:00,  8.42it/s]\n"
     ]
    },
    {
     "name": "stdout",
     "output_type": "stream",
     "text": [
      "train accuracy: 93.42%\n"
     ]
    },
    {
     "name": "stderr",
     "output_type": "stream",
     "text": [
      "100%|██████████| 79/79 [00:07<00:00, 10.68it/s]\n",
      "                                                           \r"
     ]
    },
    {
     "name": "stdout",
     "output_type": "stream",
     "text": [
      "Accuracy of the network on the valid images: 95.76%\n",
      "valid loss: 0.0013, valid accuracy: 95.76%\n",
      "best idx: 37, best accuracy: 95.93%\n"
     ]
    },
    {
     "name": "stderr",
     "output_type": "stream",
     "text": [
      "Epoch 78/200, accuracy 93.56%, train loss 0.0078, learning rate 7.024320641103818e-06: 100%|██████████| 625/625 [01:14<00:00,  8.37it/s]\n"
     ]
    },
    {
     "name": "stdout",
     "output_type": "stream",
     "text": [
      "train accuracy: 93.56%\n"
     ]
    },
    {
     "name": "stderr",
     "output_type": "stream",
     "text": [
      "100%|██████████| 79/79 [00:07<00:00, 10.69it/s]\n",
      "                                                           \r"
     ]
    },
    {
     "name": "stdout",
     "output_type": "stream",
     "text": [
      "Accuracy of the network on the valid images: 95.82%\n",
      "valid loss: 0.0013, valid accuracy: 95.82%\n",
      "best idx: 37, best accuracy: 95.93%\n"
     ]
    },
    {
     "name": "stderr",
     "output_type": "stream",
     "text": [
      "Epoch 79/200, accuracy 93.12%, train loss 0.0079, learning rate 6.957628381891679e-06: 100%|██████████| 625/625 [01:14<00:00,  8.39it/s]\n"
     ]
    },
    {
     "name": "stdout",
     "output_type": "stream",
     "text": [
      "train accuracy: 93.12%\n"
     ]
    },
    {
     "name": "stderr",
     "output_type": "stream",
     "text": [
      "100%|██████████| 79/79 [00:07<00:00, 10.68it/s]\n",
      "                                                           \r"
     ]
    },
    {
     "name": "stdout",
     "output_type": "stream",
     "text": [
      "Accuracy of the network on the valid images: 95.78%\n",
      "valid loss: 0.0014, valid accuracy: 95.78%\n",
      "best idx: 37, best accuracy: 95.93%\n"
     ]
    },
    {
     "name": "stderr",
     "output_type": "stream",
     "text": [
      "Epoch 80/200, accuracy 92.61%, train loss 0.0081, learning rate 6.8905764746872695e-06: 100%|██████████| 625/625 [01:15<00:00,  8.25it/s]\n"
     ]
    },
    {
     "name": "stdout",
     "output_type": "stream",
     "text": [
      "train accuracy: 92.61%\n"
     ]
    },
    {
     "name": "stderr",
     "output_type": "stream",
     "text": [
      "100%|██████████| 79/79 [00:07<00:00, 10.79it/s]\n",
      "                                                           \r"
     ]
    },
    {
     "name": "stdout",
     "output_type": "stream",
     "text": [
      "Accuracy of the network on the valid images: 95.85%\n",
      "valid loss: 0.0014, valid accuracy: 95.85%\n",
      "best idx: 37, best accuracy: 95.93%\n"
     ]
    },
    {
     "name": "stderr",
     "output_type": "stream",
     "text": [
      "Epoch 81/200, accuracy 92.66%, train loss 0.0077, learning rate 6.823181463545374e-06: 100%|██████████| 625/625 [01:14<00:00,  8.43it/s]\n"
     ]
    },
    {
     "name": "stdout",
     "output_type": "stream",
     "text": [
      "train accuracy: 92.66%\n"
     ]
    },
    {
     "name": "stderr",
     "output_type": "stream",
     "text": [
      "100%|██████████| 79/79 [00:07<00:00, 10.74it/s]\n",
      "                                                           \r"
     ]
    },
    {
     "name": "stdout",
     "output_type": "stream",
     "text": [
      "Accuracy of the network on the valid images: 95.93%\n",
      "valid loss: 0.0013, valid accuracy: 95.93%\n",
      "best idx: 37, best accuracy: 95.93%\n"
     ]
    },
    {
     "name": "stderr",
     "output_type": "stream",
     "text": [
      "Epoch 82/200, accuracy 92.91%, train loss 0.0077, learning rate 6.7554599771765385e-06: 100%|██████████| 625/625 [01:14<00:00,  8.39it/s]\n"
     ]
    },
    {
     "name": "stdout",
     "output_type": "stream",
     "text": [
      "train accuracy: 92.91%\n"
     ]
    },
    {
     "name": "stderr",
     "output_type": "stream",
     "text": [
      "100%|██████████| 79/79 [00:07<00:00, 10.76it/s]\n",
      "                                                           \r"
     ]
    },
    {
     "name": "stdout",
     "output_type": "stream",
     "text": [
      "Accuracy of the network on the valid images: 95.87%\n",
      "valid loss: 0.0013, valid accuracy: 95.87%\n",
      "best idx: 37, best accuracy: 95.93%\n"
     ]
    },
    {
     "name": "stderr",
     "output_type": "stream",
     "text": [
      "Epoch 83/200, accuracy 93.64%, train loss 0.0076, learning rate 6.687428724844184e-06: 100%|██████████| 625/625 [01:14<00:00,  8.44it/s]\n"
     ]
    },
    {
     "name": "stdout",
     "output_type": "stream",
     "text": [
      "train accuracy: 93.64%\n"
     ]
    },
    {
     "name": "stderr",
     "output_type": "stream",
     "text": [
      "100%|██████████| 79/79 [00:07<00:00, 10.68it/s]\n",
      "                                                           \r"
     ]
    },
    {
     "name": "stdout",
     "output_type": "stream",
     "text": [
      "Accuracy of the network on the valid images: 95.88%\n",
      "valid loss: 0.0013, valid accuracy: 95.88%\n",
      "best idx: 37, best accuracy: 95.93%\n"
     ]
    },
    {
     "name": "stderr",
     "output_type": "stream",
     "text": [
      "Epoch 84/200, accuracy 93.16%, train loss 0.0076, learning rate 6.619104492241852e-06: 100%|██████████| 625/625 [01:14<00:00,  8.39it/s]\n"
     ]
    },
    {
     "name": "stdout",
     "output_type": "stream",
     "text": [
      "train accuracy: 93.16%\n"
     ]
    },
    {
     "name": "stderr",
     "output_type": "stream",
     "text": [
      "100%|██████████| 79/79 [00:07<00:00, 10.67it/s]\n",
      "                                                           \r"
     ]
    },
    {
     "name": "stdout",
     "output_type": "stream",
     "text": [
      "Accuracy of the network on the valid images: 95.86%\n",
      "valid loss: 0.0013, valid accuracy: 95.86%\n",
      "best idx: 37, best accuracy: 95.93%\n"
     ]
    },
    {
     "name": "stderr",
     "output_type": "stream",
     "text": [
      "Epoch 85/200, accuracy 93.18%, train loss 0.0076, learning rate 6.550504137351582e-06: 100%|██████████| 625/625 [01:14<00:00,  8.43it/s]\n"
     ]
    },
    {
     "name": "stdout",
     "output_type": "stream",
     "text": [
      "train accuracy: 93.18%\n"
     ]
    },
    {
     "name": "stderr",
     "output_type": "stream",
     "text": [
      "100%|██████████| 79/79 [00:07<00:00, 10.74it/s]\n",
      "                                                           \r"
     ]
    },
    {
     "name": "stdout",
     "output_type": "stream",
     "text": [
      "Accuracy of the network on the valid images: 95.87%\n",
      "valid loss: 0.0013, valid accuracy: 95.87%\n",
      "best idx: 37, best accuracy: 95.93%\n"
     ]
    },
    {
     "name": "stderr",
     "output_type": "stream",
     "text": [
      "Epoch 86/200, accuracy 92.52%, train loss 0.0079, learning rate 6.4816445862844486e-06: 100%|██████████| 625/625 [01:14<00:00,  8.36it/s]\n"
     ]
    },
    {
     "name": "stdout",
     "output_type": "stream",
     "text": [
      "train accuracy: 92.52%\n"
     ]
    },
    {
     "name": "stderr",
     "output_type": "stream",
     "text": [
      "100%|██████████| 79/79 [00:07<00:00, 10.67it/s]\n",
      "                                                           \r"
     ]
    },
    {
     "name": "stdout",
     "output_type": "stream",
     "text": [
      "Accuracy of the network on the valid images: 95.87%\n",
      "valid loss: 0.0013, valid accuracy: 95.87%\n",
      "best idx: 37, best accuracy: 95.93%\n"
     ]
    },
    {
     "name": "stderr",
     "output_type": "stream",
     "text": [
      "Epoch 87/200, accuracy 93.16%, train loss 0.0079, learning rate 6.412542829104313e-06: 100%|██████████| 625/625 [01:13<00:00,  8.48it/s]\n"
     ]
    },
    {
     "name": "stdout",
     "output_type": "stream",
     "text": [
      "train accuracy: 93.16%\n"
     ]
    },
    {
     "name": "stderr",
     "output_type": "stream",
     "text": [
      "100%|██████████| 79/79 [00:07<00:00, 10.79it/s]\n",
      "                                                           \r"
     ]
    },
    {
     "name": "stdout",
     "output_type": "stream",
     "text": [
      "Accuracy of the network on the valid images: 95.88%\n",
      "valid loss: 0.0015, valid accuracy: 95.88%\n",
      "best idx: 37, best accuracy: 95.93%\n"
     ]
    },
    {
     "name": "stderr",
     "output_type": "stream",
     "text": [
      "Epoch 88/200, accuracy 92.78%, train loss 0.0083, learning rate 6.3432159156357684e-06: 100%|██████████| 625/625 [01:14<00:00,  8.35it/s]\n"
     ]
    },
    {
     "name": "stdout",
     "output_type": "stream",
     "text": [
      "train accuracy: 92.78%\n"
     ]
    },
    {
     "name": "stderr",
     "output_type": "stream",
     "text": [
      "100%|██████████| 79/79 [00:07<00:00, 10.70it/s]\n",
      "                                                           \r"
     ]
    },
    {
     "name": "stdout",
     "output_type": "stream",
     "text": [
      "Accuracy of the network on the valid images: 95.86%\n",
      "valid loss: 0.0015, valid accuracy: 95.86%\n",
      "best idx: 37, best accuracy: 95.93%\n"
     ]
    },
    {
     "name": "stderr",
     "output_type": "stream",
     "text": [
      "Epoch 89/200, accuracy 92.61%, train loss 0.0081, learning rate 6.273680951257349e-06: 100%|██████████| 625/625 [01:14<00:00,  8.41it/s]\n"
     ]
    },
    {
     "name": "stdout",
     "output_type": "stream",
     "text": [
      "train accuracy: 92.61%\n"
     ]
    },
    {
     "name": "stderr",
     "output_type": "stream",
     "text": [
      "100%|██████████| 79/79 [00:07<00:00, 10.75it/s]\n",
      "                                                           \r"
     ]
    },
    {
     "name": "stdout",
     "output_type": "stream",
     "text": [
      "Accuracy of the network on the valid images: 95.83%\n",
      "valid loss: 0.0014, valid accuracy: 95.83%\n",
      "best idx: 37, best accuracy: 95.93%\n"
     ]
    },
    {
     "name": "stderr",
     "output_type": "stream",
     "text": [
      "Epoch 90/200, accuracy 93.25%, train loss 0.0080, learning rate 6.203955092681045e-06: 100%|██████████| 625/625 [01:15<00:00,  8.32it/s]\n"
     ]
    },
    {
     "name": "stdout",
     "output_type": "stream",
     "text": [
      "train accuracy: 93.25%\n"
     ]
    },
    {
     "name": "stderr",
     "output_type": "stream",
     "text": [
      "100%|██████████| 79/79 [00:07<00:00, 10.76it/s]\n",
      "                                                           \r"
     ]
    },
    {
     "name": "stdout",
     "output_type": "stream",
     "text": [
      "Accuracy of the network on the valid images: 95.83%\n",
      "valid loss: 0.0013, valid accuracy: 95.83%\n",
      "best idx: 37, best accuracy: 95.93%\n"
     ]
    },
    {
     "name": "stderr",
     "output_type": "stream",
     "text": [
      "Epoch 91/200, accuracy 92.50%, train loss 0.0078, learning rate 6.134055543719129e-06: 100%|██████████| 625/625 [01:14<00:00,  8.40it/s]\n"
     ]
    },
    {
     "name": "stdout",
     "output_type": "stream",
     "text": [
      "train accuracy: 92.50%\n"
     ]
    },
    {
     "name": "stderr",
     "output_type": "stream",
     "text": [
      "100%|██████████| 79/79 [00:07<00:00, 10.77it/s]\n",
      "                                                           \r"
     ]
    },
    {
     "name": "stdout",
     "output_type": "stream",
     "text": [
      "Accuracy of the network on the valid images: 95.78%\n",
      "valid loss: 0.0014, valid accuracy: 95.78%\n",
      "best idx: 37, best accuracy: 95.93%\n"
     ]
    },
    {
     "name": "stderr",
     "output_type": "stream",
     "text": [
      "Epoch 92/200, accuracy 91.75%, train loss 0.0084, learning rate 6.0639995510393765e-06: 100%|██████████| 625/625 [01:14<00:00,  8.36it/s]\n"
     ]
    },
    {
     "name": "stdout",
     "output_type": "stream",
     "text": [
      "train accuracy: 91.75%\n"
     ]
    },
    {
     "name": "stderr",
     "output_type": "stream",
     "text": [
      "100%|██████████| 79/79 [00:07<00:00, 10.74it/s]\n",
      "                                                           \r"
     ]
    },
    {
     "name": "stdout",
     "output_type": "stream",
     "text": [
      "Accuracy of the network on the valid images: 95.76%\n",
      "valid loss: 0.0015, valid accuracy: 95.76%\n",
      "best idx: 37, best accuracy: 95.93%\n"
     ]
    },
    {
     "name": "stderr",
     "output_type": "stream",
     "text": [
      "Epoch 93/200, accuracy 91.69%, train loss 0.0082, learning rate 5.9938043999097105e-06: 100%|██████████| 625/625 [01:13<00:00,  8.47it/s]\n"
     ]
    },
    {
     "name": "stdout",
     "output_type": "stream",
     "text": [
      "train accuracy: 91.69%\n"
     ]
    },
    {
     "name": "stderr",
     "output_type": "stream",
     "text": [
      "100%|██████████| 79/79 [00:07<00:00, 10.70it/s]\n",
      "                                                           \r"
     ]
    },
    {
     "name": "stdout",
     "output_type": "stream",
     "text": [
      "Accuracy of the network on the valid images: 95.86%\n",
      "valid loss: 0.0013, valid accuracy: 95.86%\n",
      "best idx: 37, best accuracy: 95.93%\n"
     ]
    },
    {
     "name": "stderr",
     "output_type": "stream",
     "text": [
      "Epoch 94/200, accuracy 93.12%, train loss 0.0075, learning rate 5.923487409933321e-06: 100%|██████████| 625/625 [01:13<00:00,  8.51it/s]\n"
     ]
    },
    {
     "name": "stdout",
     "output_type": "stream",
     "text": [
      "train accuracy: 93.12%\n"
     ]
    },
    {
     "name": "stderr",
     "output_type": "stream",
     "text": [
      "100%|██████████| 79/79 [00:07<00:00, 10.68it/s]\n",
      "                                                           \r"
     ]
    },
    {
     "name": "stdout",
     "output_type": "stream",
     "text": [
      "Accuracy of the network on the valid images: 95.89%\n",
      "valid loss: 0.0013, valid accuracy: 95.89%\n",
      "best idx: 37, best accuracy: 95.93%\n"
     ]
    },
    {
     "name": "stderr",
     "output_type": "stream",
     "text": [
      "Epoch 95/200, accuracy 92.29%, train loss 0.0081, learning rate 5.8530659307753085e-06: 100%|██████████| 625/625 [01:14<00:00,  8.43it/s]\n"
     ]
    },
    {
     "name": "stdout",
     "output_type": "stream",
     "text": [
      "train accuracy: 92.29%\n"
     ]
    },
    {
     "name": "stderr",
     "output_type": "stream",
     "text": [
      "100%|██████████| 79/79 [00:07<00:00, 10.73it/s]\n",
      "                                                           \r"
     ]
    },
    {
     "name": "stdout",
     "output_type": "stream",
     "text": [
      "Accuracy of the network on the valid images: 95.82%\n",
      "valid loss: 0.0013, valid accuracy: 95.82%\n",
      "best idx: 37, best accuracy: 95.93%\n"
     ]
    },
    {
     "name": "stderr",
     "output_type": "stream",
     "text": [
      "Epoch 96/200, accuracy 92.75%, train loss 0.0079, learning rate 5.782557337881916e-06: 100%|██████████| 625/625 [01:15<00:00,  8.32it/s]\n"
     ]
    },
    {
     "name": "stdout",
     "output_type": "stream",
     "text": [
      "train accuracy: 92.75%\n"
     ]
    },
    {
     "name": "stderr",
     "output_type": "stream",
     "text": [
      "100%|██████████| 79/79 [00:07<00:00, 10.71it/s]\n",
      "                                                           \r"
     ]
    },
    {
     "name": "stdout",
     "output_type": "stream",
     "text": [
      "Accuracy of the network on the valid images: 95.90%\n",
      "valid loss: 0.0015, valid accuracy: 95.90%\n",
      "best idx: 37, best accuracy: 95.93%\n"
     ]
    },
    {
     "name": "stderr",
     "output_type": "stream",
     "text": [
      "Epoch 97/200, accuracy 93.44%, train loss 0.0076, learning rate 5.711979028193397e-06: 100%|██████████| 625/625 [01:13<00:00,  8.48it/s]\n"
     ]
    },
    {
     "name": "stdout",
     "output_type": "stream",
     "text": [
      "train accuracy: 93.44%\n"
     ]
    },
    {
     "name": "stderr",
     "output_type": "stream",
     "text": [
      "100%|██████████| 79/79 [00:07<00:00, 10.71it/s]\n",
      "                                                           \r"
     ]
    },
    {
     "name": "stdout",
     "output_type": "stream",
     "text": [
      "Accuracy of the network on the valid images: 95.87%\n",
      "valid loss: 0.0013, valid accuracy: 95.87%\n",
      "best idx: 37, best accuracy: 95.93%\n"
     ]
    },
    {
     "name": "stderr",
     "output_type": "stream",
     "text": [
      "Epoch 98/200, accuracy 92.82%, train loss 0.0081, learning rate 5.641348415851583e-06: 100%|██████████| 625/625 [01:14<00:00,  8.42it/s]\n"
     ]
    },
    {
     "name": "stdout",
     "output_type": "stream",
     "text": [
      "train accuracy: 92.82%\n"
     ]
    },
    {
     "name": "stderr",
     "output_type": "stream",
     "text": [
      "100%|██████████| 79/79 [00:07<00:00, 10.69it/s]\n",
      "                                                           \r"
     ]
    },
    {
     "name": "stdout",
     "output_type": "stream",
     "text": [
      "Accuracy of the network on the valid images: 95.88%\n",
      "valid loss: 0.0014, valid accuracy: 95.88%\n",
      "best idx: 37, best accuracy: 95.93%\n"
     ]
    },
    {
     "name": "stderr",
     "output_type": "stream",
     "text": [
      "Epoch 99/200, accuracy 93.30%, train loss 0.0075, learning rate 5.570682927903198e-06: 100%|██████████| 625/625 [01:14<00:00,  8.38it/s]\n"
     ]
    },
    {
     "name": "stdout",
     "output_type": "stream",
     "text": [
      "train accuracy: 93.30%\n"
     ]
    },
    {
     "name": "stderr",
     "output_type": "stream",
     "text": [
      "100%|██████████| 79/79 [00:07<00:00, 10.66it/s]\n",
      "                                                           \r"
     ]
    },
    {
     "name": "stdout",
     "output_type": "stream",
     "text": [
      "Accuracy of the network on the valid images: 95.88%\n",
      "valid loss: 0.0014, valid accuracy: 95.88%\n",
      "best idx: 37, best accuracy: 95.93%\n"
     ]
    },
    {
     "name": "stderr",
     "output_type": "stream",
     "text": [
      "Epoch 100/200, accuracy 93.25%, train loss 0.0079, learning rate 5.500000000000005e-06: 100%|██████████| 625/625 [01:15<00:00,  8.29it/s]\n"
     ]
    },
    {
     "name": "stdout",
     "output_type": "stream",
     "text": [
      "train accuracy: 93.25%\n"
     ]
    },
    {
     "name": "stderr",
     "output_type": "stream",
     "text": [
      "100%|██████████| 79/79 [00:07<00:00, 10.68it/s]\n",
      "                                                           \r"
     ]
    },
    {
     "name": "stdout",
     "output_type": "stream",
     "text": [
      "Accuracy of the network on the valid images: 95.88%\n",
      "valid loss: 0.0014, valid accuracy: 95.88%\n",
      "best idx: 37, best accuracy: 95.93%\n"
     ]
    },
    {
     "name": "stderr",
     "output_type": "stream",
     "text": [
      "Epoch 101/200, accuracy 91.33%, train loss 0.0090, learning rate 5.429317072096812e-06: 100%|██████████| 625/625 [01:14<00:00,  8.42it/s]\n"
     ]
    },
    {
     "name": "stdout",
     "output_type": "stream",
     "text": [
      "train accuracy: 91.33%\n"
     ]
    },
    {
     "name": "stderr",
     "output_type": "stream",
     "text": [
      "100%|██████████| 79/79 [00:07<00:00, 10.70it/s]\n",
      "                                                           \r"
     ]
    },
    {
     "name": "stdout",
     "output_type": "stream",
     "text": [
      "Accuracy of the network on the valid images: 95.84%\n",
      "valid loss: 0.0013, valid accuracy: 95.84%\n",
      "best idx: 37, best accuracy: 95.93%\n"
     ]
    },
    {
     "name": "stderr",
     "output_type": "stream",
     "text": [
      "Epoch 102/200, accuracy 92.40%, train loss 0.0083, learning rate 5.358651584148427e-06: 100%|██████████| 625/625 [01:14<00:00,  8.38it/s]\n"
     ]
    },
    {
     "name": "stdout",
     "output_type": "stream",
     "text": [
      "train accuracy: 92.40%\n"
     ]
    },
    {
     "name": "stderr",
     "output_type": "stream",
     "text": [
      "100%|██████████| 79/79 [00:07<00:00, 10.77it/s]\n",
      "                                                           \r"
     ]
    },
    {
     "name": "stdout",
     "output_type": "stream",
     "text": [
      "Accuracy of the network on the valid images: 95.83%\n",
      "valid loss: 0.0014, valid accuracy: 95.83%\n",
      "best idx: 37, best accuracy: 95.93%\n"
     ]
    },
    {
     "name": "stderr",
     "output_type": "stream",
     "text": [
      "Epoch 103/200, accuracy 93.14%, train loss 0.0080, learning rate 5.2880209718066125e-06: 100%|██████████| 625/625 [01:14<00:00,  8.35it/s]\n"
     ]
    },
    {
     "name": "stdout",
     "output_type": "stream",
     "text": [
      "train accuracy: 93.14%\n"
     ]
    },
    {
     "name": "stderr",
     "output_type": "stream",
     "text": [
      "100%|██████████| 79/79 [00:07<00:00, 10.83it/s]\n",
      "                                                           \r"
     ]
    },
    {
     "name": "stdout",
     "output_type": "stream",
     "text": [
      "Accuracy of the network on the valid images: 95.85%\n",
      "valid loss: 0.0013, valid accuracy: 95.85%\n",
      "best idx: 37, best accuracy: 95.93%\n"
     ]
    },
    {
     "name": "stderr",
     "output_type": "stream",
     "text": [
      "Epoch 104/200, accuracy 93.18%, train loss 0.0079, learning rate 5.217442662118094e-06: 100%|██████████| 625/625 [01:15<00:00,  8.30it/s]\n"
     ]
    },
    {
     "name": "stdout",
     "output_type": "stream",
     "text": [
      "train accuracy: 93.18%\n"
     ]
    },
    {
     "name": "stderr",
     "output_type": "stream",
     "text": [
      "100%|██████████| 79/79 [00:07<00:00, 10.74it/s]\n",
      "                                                           \r"
     ]
    },
    {
     "name": "stdout",
     "output_type": "stream",
     "text": [
      "Accuracy of the network on the valid images: 95.86%\n",
      "valid loss: 0.0013, valid accuracy: 95.86%\n",
      "best idx: 37, best accuracy: 95.93%\n"
     ]
    },
    {
     "name": "stderr",
     "output_type": "stream",
     "text": [
      "Epoch 105/200, accuracy 92.23%, train loss 0.0082, learning rate 5.146934069224703e-06: 100%|██████████| 625/625 [01:13<00:00,  8.46it/s]\n"
     ]
    },
    {
     "name": "stdout",
     "output_type": "stream",
     "text": [
      "train accuracy: 92.23%\n"
     ]
    },
    {
     "name": "stderr",
     "output_type": "stream",
     "text": [
      "100%|██████████| 79/79 [00:07<00:00, 10.69it/s]\n",
      "                                                           \r"
     ]
    },
    {
     "name": "stdout",
     "output_type": "stream",
     "text": [
      "Accuracy of the network on the valid images: 95.76%\n",
      "valid loss: 0.0013, valid accuracy: 95.76%\n",
      "best idx: 37, best accuracy: 95.93%\n"
     ]
    },
    {
     "name": "stderr",
     "output_type": "stream",
     "text": [
      "Epoch 106/200, accuracy 92.31%, train loss 0.0080, learning rate 5.07651259006669e-06: 100%|██████████| 625/625 [01:14<00:00,  8.43it/s]\n"
     ]
    },
    {
     "name": "stdout",
     "output_type": "stream",
     "text": [
      "train accuracy: 92.31%\n"
     ]
    },
    {
     "name": "stderr",
     "output_type": "stream",
     "text": [
      "100%|██████████| 79/79 [00:07<00:00, 10.77it/s]\n",
      "                                                           \r"
     ]
    },
    {
     "name": "stdout",
     "output_type": "stream",
     "text": [
      "Accuracy of the network on the valid images: 95.84%\n",
      "valid loss: 0.0013, valid accuracy: 95.84%\n",
      "best idx: 37, best accuracy: 95.93%\n"
     ]
    },
    {
     "name": "stderr",
     "output_type": "stream",
     "text": [
      "Epoch 107/200, accuracy 93.02%, train loss 0.0080, learning rate 5.006195600090301e-06: 100%|██████████| 625/625 [01:14<00:00,  8.37it/s]\n"
     ]
    },
    {
     "name": "stdout",
     "output_type": "stream",
     "text": [
      "train accuracy: 93.02%\n"
     ]
    },
    {
     "name": "stderr",
     "output_type": "stream",
     "text": [
      "100%|██████████| 79/79 [00:07<00:00, 10.70it/s]\n",
      "                                                           \r"
     ]
    },
    {
     "name": "stdout",
     "output_type": "stream",
     "text": [
      "Accuracy of the network on the valid images: 95.80%\n",
      "valid loss: 0.0013, valid accuracy: 95.80%\n",
      "best idx: 37, best accuracy: 95.93%\n"
     ]
    },
    {
     "name": "stderr",
     "output_type": "stream",
     "text": [
      "Epoch 108/200, accuracy 92.34%, train loss 0.0080, learning rate 4.936000448960636e-06: 100%|██████████| 625/625 [01:14<00:00,  8.34it/s]\n"
     ]
    },
    {
     "name": "stdout",
     "output_type": "stream",
     "text": [
      "train accuracy: 92.34%\n"
     ]
    },
    {
     "name": "stderr",
     "output_type": "stream",
     "text": [
      "100%|██████████| 79/79 [00:07<00:00, 10.80it/s]\n",
      "                                                           \r"
     ]
    },
    {
     "name": "stdout",
     "output_type": "stream",
     "text": [
      "Accuracy of the network on the valid images: 95.82%\n",
      "valid loss: 0.0013, valid accuracy: 95.82%\n",
      "best idx: 37, best accuracy: 95.93%\n"
     ]
    },
    {
     "name": "stderr",
     "output_type": "stream",
     "text": [
      "Epoch 109/200, accuracy 92.71%, train loss 0.0081, learning rate 4.8659444562808835e-06: 100%|██████████| 625/625 [01:14<00:00,  8.40it/s]\n"
     ]
    },
    {
     "name": "stdout",
     "output_type": "stream",
     "text": [
      "train accuracy: 92.71%\n"
     ]
    },
    {
     "name": "stderr",
     "output_type": "stream",
     "text": [
      "100%|██████████| 79/79 [00:07<00:00, 10.80it/s]\n",
      "                                                           \r"
     ]
    },
    {
     "name": "stdout",
     "output_type": "stream",
     "text": [
      "Accuracy of the network on the valid images: 95.78%\n",
      "valid loss: 0.0014, valid accuracy: 95.78%\n",
      "best idx: 37, best accuracy: 95.93%\n"
     ]
    },
    {
     "name": "stderr",
     "output_type": "stream",
     "text": [
      "Epoch 110/200, accuracy 92.12%, train loss 0.0082, learning rate 4.796044907318966e-06: 100%|██████████| 625/625 [01:14<00:00,  8.36it/s]\n"
     ]
    },
    {
     "name": "stdout",
     "output_type": "stream",
     "text": [
      "train accuracy: 92.12%\n"
     ]
    },
    {
     "name": "stderr",
     "output_type": "stream",
     "text": [
      "100%|██████████| 79/79 [00:07<00:00, 10.83it/s]\n",
      "                                                           \r"
     ]
    },
    {
     "name": "stdout",
     "output_type": "stream",
     "text": [
      "Accuracy of the network on the valid images: 95.76%\n",
      "valid loss: 0.0014, valid accuracy: 95.76%\n",
      "best idx: 37, best accuracy: 95.93%\n"
     ]
    },
    {
     "name": "stderr",
     "output_type": "stream",
     "text": [
      "Epoch 111/200, accuracy 91.92%, train loss 0.0083, learning rate 4.726319048742662e-06: 100%|██████████| 625/625 [01:14<00:00,  8.43it/s]\n"
     ]
    },
    {
     "name": "stdout",
     "output_type": "stream",
     "text": [
      "train accuracy: 91.92%\n"
     ]
    },
    {
     "name": "stderr",
     "output_type": "stream",
     "text": [
      "100%|██████████| 79/79 [00:07<00:00, 10.76it/s]\n",
      "                                                           \r"
     ]
    },
    {
     "name": "stdout",
     "output_type": "stream",
     "text": [
      "Accuracy of the network on the valid images: 95.83%\n",
      "valid loss: 0.0013, valid accuracy: 95.83%\n",
      "best idx: 37, best accuracy: 95.93%\n"
     ]
    },
    {
     "name": "stderr",
     "output_type": "stream",
     "text": [
      "Epoch 112/200, accuracy 92.98%, train loss 0.0080, learning rate 4.656784084364245e-06: 100%|██████████| 625/625 [01:14<00:00,  8.35it/s]\n"
     ]
    },
    {
     "name": "stdout",
     "output_type": "stream",
     "text": [
      "train accuracy: 92.98%\n"
     ]
    },
    {
     "name": "stderr",
     "output_type": "stream",
     "text": [
      "100%|██████████| 79/79 [00:07<00:00, 10.66it/s]\n",
      "                                                           \r"
     ]
    },
    {
     "name": "stdout",
     "output_type": "stream",
     "text": [
      "Accuracy of the network on the valid images: 95.83%\n",
      "valid loss: 0.0013, valid accuracy: 95.83%\n",
      "best idx: 37, best accuracy: 95.93%\n"
     ]
    },
    {
     "name": "stderr",
     "output_type": "stream",
     "text": [
      "Epoch 113/200, accuracy 92.06%, train loss 0.0084, learning rate 4.5874571708957e-06: 100%|██████████| 625/625 [01:14<00:00,  8.39it/s]\n"
     ]
    },
    {
     "name": "stdout",
     "output_type": "stream",
     "text": [
      "train accuracy: 92.06%\n"
     ]
    },
    {
     "name": "stderr",
     "output_type": "stream",
     "text": [
      "100%|██████████| 79/79 [00:07<00:00, 10.70it/s]\n",
      "                                                           \r"
     ]
    },
    {
     "name": "stdout",
     "output_type": "stream",
     "text": [
      "Accuracy of the network on the valid images: 95.80%\n",
      "valid loss: 0.0015, valid accuracy: 95.80%\n",
      "best idx: 37, best accuracy: 95.93%\n"
     ]
    },
    {
     "name": "stderr",
     "output_type": "stream",
     "text": [
      "Epoch 114/200, accuracy 92.99%, train loss 0.0078, learning rate 4.5183554137155656e-06: 100%|██████████| 625/625 [01:14<00:00,  8.39it/s]\n"
     ]
    },
    {
     "name": "stdout",
     "output_type": "stream",
     "text": [
      "train accuracy: 92.99%\n"
     ]
    },
    {
     "name": "stderr",
     "output_type": "stream",
     "text": [
      "100%|██████████| 79/79 [00:07<00:00, 10.72it/s]\n",
      "                                                           \r"
     ]
    },
    {
     "name": "stdout",
     "output_type": "stream",
     "text": [
      "Accuracy of the network on the valid images: 95.83%\n",
      "valid loss: 0.0013, valid accuracy: 95.83%\n",
      "best idx: 37, best accuracy: 95.93%\n"
     ]
    },
    {
     "name": "stderr",
     "output_type": "stream",
     "text": [
      "Epoch 115/200, accuracy 92.48%, train loss 0.0084, learning rate 4.449495862648431e-06: 100%|██████████| 625/625 [01:14<00:00,  8.40it/s]\n"
     ]
    },
    {
     "name": "stdout",
     "output_type": "stream",
     "text": [
      "train accuracy: 92.48%\n"
     ]
    },
    {
     "name": "stderr",
     "output_type": "stream",
     "text": [
      "100%|██████████| 79/79 [00:07<00:00, 10.69it/s]\n",
      "                                                           \r"
     ]
    },
    {
     "name": "stdout",
     "output_type": "stream",
     "text": [
      "Accuracy of the network on the valid images: 95.82%\n",
      "valid loss: 0.0013, valid accuracy: 95.82%\n",
      "best idx: 37, best accuracy: 95.93%\n"
     ]
    },
    {
     "name": "stderr",
     "output_type": "stream",
     "text": [
      "Epoch 116/200, accuracy 93.62%, train loss 0.0079, learning rate 4.380895507758159e-06: 100%|██████████| 625/625 [01:15<00:00,  8.29it/s]\n"
     ]
    },
    {
     "name": "stdout",
     "output_type": "stream",
     "text": [
      "train accuracy: 93.62%\n"
     ]
    },
    {
     "name": "stderr",
     "output_type": "stream",
     "text": [
      "100%|██████████| 79/79 [00:07<00:00, 10.69it/s]\n",
      "                                                           \r"
     ]
    },
    {
     "name": "stdout",
     "output_type": "stream",
     "text": [
      "Accuracy of the network on the valid images: 95.80%\n",
      "valid loss: 0.0014, valid accuracy: 95.80%\n",
      "best idx: 37, best accuracy: 95.93%\n"
     ]
    },
    {
     "name": "stderr",
     "output_type": "stream",
     "text": [
      "Epoch 117/200, accuracy 93.79%, train loss 0.0076, learning rate 4.312571275155827e-06: 100%|██████████| 625/625 [01:20<00:00,  7.79it/s]\n"
     ]
    },
    {
     "name": "stdout",
     "output_type": "stream",
     "text": [
      "train accuracy: 93.79%\n"
     ]
    },
    {
     "name": "stderr",
     "output_type": "stream",
     "text": [
      "100%|██████████| 79/79 [00:07<00:00,  9.96it/s]\n",
      "                                                           \r"
     ]
    },
    {
     "name": "stdout",
     "output_type": "stream",
     "text": [
      "Accuracy of the network on the valid images: 95.79%\n",
      "valid loss: 0.0015, valid accuracy: 95.79%\n",
      "best idx: 37, best accuracy: 95.93%\n"
     ]
    },
    {
     "name": "stderr",
     "output_type": "stream",
     "text": [
      "Epoch 118/200, accuracy 93.47%, train loss 0.0076, learning rate 4.244540022823474e-06: 100%|██████████| 625/625 [01:17<00:00,  8.10it/s]\n"
     ]
    },
    {
     "name": "stdout",
     "output_type": "stream",
     "text": [
      "train accuracy: 93.47%\n"
     ]
    },
    {
     "name": "stderr",
     "output_type": "stream",
     "text": [
      "100%|██████████| 79/79 [00:08<00:00,  9.37it/s]\n",
      "                                                           \r"
     ]
    },
    {
     "name": "stdout",
     "output_type": "stream",
     "text": [
      "Accuracy of the network on the valid images: 95.78%\n",
      "valid loss: 0.0015, valid accuracy: 95.78%\n",
      "best idx: 37, best accuracy: 95.93%\n"
     ]
    },
    {
     "name": "stderr",
     "output_type": "stream",
     "text": [
      "Epoch 119/200, accuracy 92.34%, train loss 0.0082, learning rate 4.176818536454638e-06: 100%|██████████| 625/625 [01:21<00:00,  7.71it/s]\n"
     ]
    },
    {
     "name": "stdout",
     "output_type": "stream",
     "text": [
      "train accuracy: 92.34%\n"
     ]
    },
    {
     "name": "stderr",
     "output_type": "stream",
     "text": [
      "100%|██████████| 79/79 [00:07<00:00,  9.95it/s]\n",
      "                                                          \r"
     ]
    },
    {
     "ename": "KeyboardInterrupt",
     "evalue": "",
     "output_type": "error",
     "traceback": [
      "\u001b[1;31m---------------------------------------------------------------------------\u001b[0m",
      "\u001b[1;31mKeyboardInterrupt\u001b[0m                         Traceback (most recent call last)",
      "Cell \u001b[1;32mIn[13], line 11\u001b[0m\n\u001b[0;32m      8\u001b[0m scheduler \u001b[38;5;241m=\u001b[39m torch\u001b[38;5;241m.\u001b[39moptim\u001b[38;5;241m.\u001b[39mlr_scheduler\u001b[38;5;241m.\u001b[39mCosineAnnealingLR(optimizer, \u001b[38;5;241m200\u001b[39m, eta_min\u001b[38;5;241m=\u001b[39m\u001b[38;5;241m1e-6\u001b[39m)\n\u001b[0;32m     10\u001b[0m \u001b[38;5;28mprint\u001b[39m(device)\n\u001b[1;32m---> 11\u001b[0m tacc,vacc \u001b[38;5;241m=\u001b[39m \u001b[43mtrain\u001b[49m\u001b[43m(\u001b[49m\u001b[38;5;241;43m200\u001b[39;49m\u001b[43m,\u001b[49m\u001b[43m \u001b[49m\u001b[43moptimizer\u001b[49m\u001b[43m,\u001b[49m\u001b[43m \u001b[49m\u001b[43mscheduler\u001b[49m\u001b[43m,\u001b[49m\u001b[43m \u001b[49m\u001b[43malpha_rate\u001b[49m\u001b[38;5;241;43m=\u001b[39;49m\u001b[38;5;241;43m0.3\u001b[39;49m\u001b[43m)\u001b[49m\n\u001b[0;32m     12\u001b[0m \u001b[38;5;66;03m# optimizer = torch.optim.AdamW(net.parameters(),lr=current_lr,weight_decay=2.5e-4) \u001b[39;00m\n\u001b[0;32m     13\u001b[0m \u001b[38;5;66;03m# scheduler = torch.optim.lr_scheduler.CosineAnnealingLR(optimizer, 100, eta_min=1e-6)\u001b[39;00m\n\u001b[0;32m     14\u001b[0m \u001b[38;5;66;03m# tacc,vacc = train(100, optimizer, scheduler, alpha_rate=0.4)\u001b[39;00m\n\u001b[1;32m   (...)\u001b[0m\n\u001b[0;32m     22\u001b[0m \u001b[38;5;66;03m# scheduler = torch.optim.lr_scheduler.CosineAnnealingLR(optimizer, 100, eta_min=1e-6)\u001b[39;00m\n\u001b[0;32m     23\u001b[0m \u001b[38;5;66;03m# tacc,vacc = train(100, optimizer, scheduler, alpha_rate=0.15)\u001b[39;00m\n",
      "Cell \u001b[1;32mIn[11], line 57\u001b[0m, in \u001b[0;36mtrain\u001b[1;34m(epochs, optimizer, scheduler, alpha_rate)\u001b[0m\n\u001b[0;32m     55\u001b[0m             nums \u001b[38;5;241m+\u001b[39m\u001b[38;5;241m=\u001b[39m \u001b[38;5;28mlen\u001b[39m(yb)\n\u001b[0;32m     56\u001b[0m valid_loss \u001b[38;5;241m=\u001b[39m loss \u001b[38;5;241m/\u001b[39m nums\n\u001b[1;32m---> 57\u001b[0m valid_acc \u001b[38;5;241m=\u001b[39m \u001b[43mevaluation\u001b[49m\u001b[43m(\u001b[49m\u001b[43mnet\u001b[49m\u001b[43m,\u001b[49m\u001b[43m \u001b[49m\u001b[43mvalidloader\u001b[49m\u001b[43m,\u001b[49m\u001b[43m \u001b[49m\u001b[43mdevice\u001b[49m\u001b[43m)\u001b[49m\n\u001b[0;32m     58\u001b[0m \u001b[38;5;28mprint\u001b[39m(\u001b[38;5;124mf\u001b[39m\u001b[38;5;124m'\u001b[39m\u001b[38;5;124mvalid loss: \u001b[39m\u001b[38;5;132;01m{\u001b[39;00mvalid_loss\u001b[38;5;132;01m:\u001b[39;00m\u001b[38;5;124m.4f\u001b[39m\u001b[38;5;132;01m}\u001b[39;00m\u001b[38;5;124m, valid accuracy: \u001b[39m\u001b[38;5;132;01m{\u001b[39;00mvalid_acc\u001b[38;5;132;01m:\u001b[39;00m\u001b[38;5;124m.2f\u001b[39m\u001b[38;5;132;01m}\u001b[39;00m\u001b[38;5;124m%\u001b[39m\u001b[38;5;124m'\u001b[39m)\n\u001b[0;32m     59\u001b[0m results\u001b[38;5;241m.\u001b[39mappend({\u001b[38;5;124m'\u001b[39m\u001b[38;5;124mtrain accuracy\u001b[39m\u001b[38;5;124m'\u001b[39m: train_acc, \u001b[38;5;124m'\u001b[39m\u001b[38;5;124mvalid accuracy\u001b[39m\u001b[38;5;124m'\u001b[39m: valid_acc, \u001b[38;5;124m'\u001b[39m\u001b[38;5;124mloss\u001b[39m\u001b[38;5;124m'\u001b[39m: (losses \u001b[38;5;241m/\u001b[39m nums)\u001b[38;5;241m.\u001b[39msum()\u001b[38;5;241m.\u001b[39mitem(), \u001b[38;5;124m'\u001b[39m\u001b[38;5;124mvalid loss\u001b[39m\u001b[38;5;124m'\u001b[39m: (valid_loss)\u001b[38;5;241m.\u001b[39msum()\u001b[38;5;241m.\u001b[39mitem()})\n",
      "File \u001b[1;32mc:\\Users\\admin\\miniconda3\\envs\\lora\\lib\\site-packages\\torch\\utils\\_contextlib.py:116\u001b[0m, in \u001b[0;36mcontext_decorator.<locals>.decorate_context\u001b[1;34m(*args, **kwargs)\u001b[0m\n\u001b[0;32m    113\u001b[0m \u001b[38;5;129m@functools\u001b[39m\u001b[38;5;241m.\u001b[39mwraps(func)\n\u001b[0;32m    114\u001b[0m \u001b[38;5;28;01mdef\u001b[39;00m\u001b[38;5;250m \u001b[39m\u001b[38;5;21mdecorate_context\u001b[39m(\u001b[38;5;241m*\u001b[39margs, \u001b[38;5;241m*\u001b[39m\u001b[38;5;241m*\u001b[39mkwargs):\n\u001b[0;32m    115\u001b[0m     \u001b[38;5;28;01mwith\u001b[39;00m ctx_factory():\n\u001b[1;32m--> 116\u001b[0m         \u001b[38;5;28;01mreturn\u001b[39;00m func(\u001b[38;5;241m*\u001b[39margs, \u001b[38;5;241m*\u001b[39m\u001b[38;5;241m*\u001b[39mkwargs)\n",
      "File \u001b[1;32md:\\DL\\CodingProject2\\evaluation.py:25\u001b[0m, in \u001b[0;36mevaluation\u001b[1;34m(net, dataLoader, device)\u001b[0m\n\u001b[0;32m     23\u001b[0m         _, predicted \u001b[38;5;241m=\u001b[39m torch\u001b[38;5;241m.\u001b[39mmax(outputs\u001b[38;5;241m.\u001b[39mdata, \u001b[38;5;241m1\u001b[39m)\n\u001b[0;32m     24\u001b[0m         total \u001b[38;5;241m+\u001b[39m\u001b[38;5;241m=\u001b[39m labels\u001b[38;5;241m.\u001b[39msize(\u001b[38;5;241m0\u001b[39m)\n\u001b[1;32m---> 25\u001b[0m         correct \u001b[38;5;241m+\u001b[39m\u001b[38;5;241m=\u001b[39m \u001b[43m(\u001b[49m\u001b[43mpredicted\u001b[49m\u001b[43m \u001b[49m\u001b[38;5;241;43m==\u001b[39;49m\u001b[43m \u001b[49m\u001b[43mlabels\u001b[49m\u001b[43m)\u001b[49m\u001b[38;5;241;43m.\u001b[39;49m\u001b[43msum\u001b[49m\u001b[43m(\u001b[49m\u001b[43m)\u001b[49m\u001b[38;5;241;43m.\u001b[39;49m\u001b[43mitem\u001b[49m\u001b[43m(\u001b[49m\u001b[43m)\u001b[49m\n\u001b[0;32m     26\u001b[0m accuracy \u001b[38;5;241m=\u001b[39m \u001b[38;5;241m100\u001b[39m \u001b[38;5;241m*\u001b[39m correct \u001b[38;5;241m/\u001b[39m total\n\u001b[0;32m     27\u001b[0m \u001b[38;5;28mprint\u001b[39m(\u001b[38;5;124mf\u001b[39m\u001b[38;5;124m'\u001b[39m\u001b[38;5;124mAccuracy of the network on the valid images: \u001b[39m\u001b[38;5;132;01m{\u001b[39;00maccuracy\u001b[38;5;132;01m:\u001b[39;00m\u001b[38;5;124m.2f\u001b[39m\u001b[38;5;132;01m}\u001b[39;00m\u001b[38;5;124m%\u001b[39m\u001b[38;5;124m'\u001b[39m)\n",
      "\u001b[1;31mKeyboardInterrupt\u001b[0m: "
     ]
    }
   ],
   "source": [
    "net.to(device)\n",
    "def get_last_lr(log_path):\n",
    "    return 1e-5 # 默认学习率\n",
    "\n",
    "current_lr = get_last_lr(log_path)\n",
    "optimizer = torch.optim.AdamW(net.parameters(),lr=current_lr,weight_decay=2.5e-4) \n",
    "#at the last epoch, lr becomes 0.1 of the starter lr\n",
    "scheduler = torch.optim.lr_scheduler.CosineAnnealingLR(optimizer, 200, eta_min=1e-6)\n",
    "\n",
    "print(device)\n",
    "tacc,vacc = train(200, optimizer, scheduler, alpha_rate=0.3)\n",
    "# optimizer = torch.optim.AdamW(net.parameters(),lr=current_lr,weight_decay=2.5e-4) \n",
    "# scheduler = torch.optim.lr_scheduler.CosineAnnealingLR(optimizer, 100, eta_min=1e-6)\n",
    "# tacc,vacc = train(100, optimizer, scheduler, alpha_rate=0.4)\n",
    "# optimizer = torch.optim.AdamW(net.parameters(),lr=current_lr,weight_decay=2.5e-4) \n",
    "# scheduler = torch.optim.lr_scheduler.CosineAnnealingLR(optimizer, 100, eta_min=1e-6)\n",
    "# tacc,vacc = train(100, optimizer, scheduler, alpha_rate=0.3)\n",
    "# optimizer = torch.optim.AdamW(net.parameters(),lr=current_lr,weight_decay=2.5e-4) \n",
    "# scheduler = torch.optim.lr_scheduler.CosineAnnealingLR(optimizer, 100, eta_min=1e-6)\n",
    "# tacc,vacc = train(100, optimizer, scheduler, alpha_rate=0.2)\n",
    "# optimizer = torch.optim.AdamW(net.parameters(),lr=current_lr,weight_decay=2.5e-4) \n",
    "# scheduler = torch.optim.lr_scheduler.CosineAnnealingLR(optimizer, 100, eta_min=1e-6)\n",
    "# tacc,vacc = train(100, optimizer, scheduler, alpha_rate=0.15)"
   ]
  }
 ],
 "metadata": {
  "kernelspec": {
   "display_name": "pytorch",
   "language": "python",
   "name": "python3"
  },
  "language_info": {
   "codemirror_mode": {
    "name": "ipython",
    "version": 3
   },
   "file_extension": ".py",
   "mimetype": "text/x-python",
   "name": "python",
   "nbconvert_exporter": "python",
   "pygments_lexer": "ipython3",
   "version": "3.11.7"
  },
  "toc": {
   "base_numbering": 1,
   "nav_menu": {},
   "number_sections": false,
   "sideBar": true,
   "skip_h1_title": false,
   "title_cell": "Table of Contents",
   "title_sidebar": "Contents",
   "toc_cell": false,
   "toc_position": {},
   "toc_section_display": true,
   "toc_window_display": false
  }
 },
 "nbformat": 4,
 "nbformat_minor": 5
}
